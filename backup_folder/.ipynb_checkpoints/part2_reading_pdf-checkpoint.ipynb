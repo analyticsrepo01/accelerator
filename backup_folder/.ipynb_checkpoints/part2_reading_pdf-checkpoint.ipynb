{
 "cells": [
  {
   "cell_type": "markdown",
   "id": "c2b70286-5c7b-4270-92e9-e6d94a04a36a",
   "metadata": {
    "tags": []
   },
   "source": [
    "#### This Notebook use Vertex Embedding API and convert text to embedding in format required by vectorSearch mathcing engine\n",
    "\n",
    "#### Author: Saurabh Mangal (saurabhmangal@google.com)\n",
    "##### Date: 21st Feb\n",
    "##### Description: This notebook contains part 2 of lab\n",
    "\n",
    " Copyright (c) [2024] [saurabhmangal@] -- \n",
    " This notebook is licensed under the Commercial License."
   ]
  },
  {
   "cell_type": "code",
   "execution_count": 52,
   "id": "55b09cee-b365-454c-9a69-567360d325d1",
   "metadata": {
    "tags": []
   },
   "outputs": [],
   "source": [
    "!pip install --upgrade --quiet  langchain-google-genai"
   ]
  },
  {
   "cell_type": "code",
   "execution_count": 87,
   "id": "a7e4a6b5-3d06-4c30-b864-0efdc0053522",
   "metadata": {
    "tags": []
   },
   "outputs": [],
   "source": [
    "# project_id = 'Enter Project ID' \n",
    "# location = 'us' \n",
    "# processor_id = 'Enter Processor ID' \n",
    "processor_version = 'rc' \n",
    "# file_path = \"filepath.pdf\" \n",
    "# mime_type = 'application/pdf'\n",
    "\n",
    "GCP_PROJECT= PROJECT_ID=project_id='my-project-0004-346516'\n",
    "LOCATION = location = \"us\"  # Format is 'us' or 'eu'\n",
    "PROCESSOR_ID = processor_id = \"c66ce4457bf5af37\"  # Create processor in Cloud Console\n",
    "FILE_PATH =file_path = pdf_file = \"./books/Book1_HarryPotter_and_the_Sorcerers_Stone_pg15.pdf\"\n",
    "\n",
    "# Refer to https://cloud.google.com/document-ai/docs/file-types\n",
    "# for supported file types\n",
    "MIME_TYPE =mime_type = \"application/pdf\"\n",
    "\n",
    "BUCKET_URI=\"gs://my-project-0004-346516/matchingengine\""
   ]
  },
  {
   "cell_type": "code",
   "execution_count": 88,
   "id": "f1e83714-96f0-44ff-b98e-3d5cc9288fa2",
   "metadata": {
    "tags": []
   },
   "outputs": [],
   "source": [
    "def online_process(\n",
    "    project_id: str,\n",
    "    location: str,\n",
    "    processor_id: str,\n",
    "    file_path: str,\n",
    "    mime_type: str,\n",
    ") -> documentai.Document:\n",
    "    \"\"\"\n",
    "    A function to process a document online using Google Document AI.\n",
    "    \"\"\"\n",
    "\n",
    "    # Define an options dictionary, which includes the API's URL. This is used to connect to Google's Document AI service\n",
    "    opts = {\"api_endpoint\": f\"{location}-documentai.googleapis.com\"}\n",
    "\n",
    "    # Create a Document AI client, think of it as our bridge for communicating with Google's services\n",
    "    documentai_client = documentai.DocumentProcessorServiceClient(client_options=opts)\n",
    "\n",
    "    # Generate the complete name of the processor\n",
    "    # You need to first create a processor in the Google Cloud console\n",
    "    resource_name = documentai_client.processor_path(project_id, location, processor_id)\n",
    "\n",
    "    # Read in the document you want to analyze (like an image or PDF), and store it in the variable image_content\n",
    "    with open(file_path, \"rb\") as image:\n",
    "        image_content = image.read()\n",
    "\n",
    "        # Convert the read document into a format that Google Document AI can understand, i.e., a RawDocument object\n",
    "        raw_document = documentai.RawDocument(\n",
    "            content=image_content, mime_type=mime_type\n",
    "        )\n",
    "        # Create a request, which includes the name of the processor and the document we want to analyze\n",
    "        request = documentai.ProcessRequest(\n",
    "            name=resource_name, raw_document=raw_document\n",
    "        )\n",
    "        # Send our request and receive the analysis results\n",
    "        result = documentai_client.process_document(request=request)\n",
    "        \n",
    "        print(\"Document processing complete.\")\n",
    "        # print(f\"Text: {document_object.text}\")\n",
    "        \n",
    "        # Return this analysis result\n",
    "        return result.document\n",
    "    \n",
    "    \n",
    "\n",
    "# Load Binary Data into Document AI RawDocument Object\n",
    "# raw_document = documentai.RawDocument(content=image_content, mime_type=MIME_TYPE)\n",
    "\n",
    "# Configure the process request\n",
    "# request = documentai.ProcessRequest(name=RESOURCE_NAME, raw_document=raw_document)\n",
    "\n",
    "# # Use the Document AI client to process the sample form\n",
    "# result = docai_client.process_document(request=request)\n",
    "\n",
    "# document_object = result.document\n",
    "# print(\"Document processing complete.\")\n",
    "# print(f\"Text: {document_object.text}\")\n",
    "\n",
    "# page_text =document_object.text"
   ]
  },
  {
   "cell_type": "code",
   "execution_count": 89,
   "id": "e3a35f99-13bc-4e81-b6ad-a392723f99ab",
   "metadata": {
    "tags": []
   },
   "outputs": [],
   "source": [
    "def trim_text(text: str): \n",
    "    \"\"\" Removes spaces and newline characters. \"\"\" \n",
    "    return text.strip().replace(\"\\n\", \" \")"
   ]
  },
  {
   "cell_type": "markdown",
   "id": "8318f356-7263-4dd4-b8b4-0018f49965a8",
   "metadata": {},
   "source": [
    "### https://cloud.google.com/document-ai/docs/handle-response"
   ]
  },
  {
   "cell_type": "code",
   "execution_count": 90,
   "id": "72bf0f91-e6c9-4147-848c-50233ba510ca",
   "metadata": {
    "tags": []
   },
   "outputs": [],
   "source": [
    "from typing import Optional, Sequence\n",
    "\n",
    "from google.api_core.client_options import ClientOptions\n",
    "from google.cloud import documentai\n",
    "\n",
    "def print_page_dimensions(dimension: documentai.Document.Page.Dimension) -> None:\n",
    "    print(f\"    Width: {str(dimension.width)}\")\n",
    "    print(f\"    Height: {str(dimension.height)}\")\n",
    "\n",
    "\n",
    "def print_detected_langauges(\n",
    "    detected_languages: Sequence[documentai.Document.Page.DetectedLanguage],\n",
    ") -> None:\n",
    "    print(\"    Detected languages:\")\n",
    "    for lang in detected_languages:\n",
    "        print(f\"        {lang.language_code} ({lang.confidence:.1%} confidence)\")\n",
    "\n",
    "\n",
    "def print_blocks(blocks: Sequence[documentai.Document.Page.Block], text: str) -> None:\n",
    "    print(f\"    {len(blocks)} blocks detected:\")\n",
    "    first_block_text = layout_to_text(blocks[0].layout, text)\n",
    "    print(f\"        First text block: {repr(first_block_text)}\")\n",
    "    last_block_text = layout_to_text(blocks[-1].layout, text)\n",
    "    print(f\"        Last text block: {repr(last_block_text)}\")\n",
    "\n",
    "\n",
    "def print_paragraphs(\n",
    "    paragraphs: Sequence[documentai.Document.Page.Paragraph], text: str\n",
    ") -> None:\n",
    "    print(f\"    {len(paragraphs)} paragraphs detected:\")\n",
    "    first_paragraph_text = layout_to_text(paragraphs[0].layout, text)\n",
    "    print(f\"        First paragraph text: {repr(first_paragraph_text)}\")\n",
    "\n",
    "    last_paragraph_text = layout_to_text(paragraphs[-1].layout, text)\n",
    "    print(f\"        Last paragraph text: {repr(last_paragraph_text)}\")\n",
    "\n",
    "\n",
    "def print_lines(lines: Sequence[documentai.Document.Page.Line], text: str) -> None:\n",
    "    print(f\"    {len(lines)} lines detected:\")\n",
    "    first_line_text = layout_to_text(lines[0].layout, text)\n",
    "    print(f\"        First line text: {repr(first_line_text)}\")\n",
    "    last_line_text = layout_to_text(lines[-1].layout, text)\n",
    "    print(f\"        Last line text: {repr(last_line_text)}\")\n",
    "\n",
    "\n",
    "def print_tokens(tokens: Sequence[documentai.Document.Page.Token], text: str) -> None:\n",
    "    print(f\"    {len(tokens)} tokens detected:\")\n",
    "    first_token_text = layout_to_text(tokens[0].layout, text)\n",
    "    first_token_break_type = tokens[0].detected_break.type_.name\n",
    "    print(f\"        First token text: {repr(first_token_text)}\")\n",
    "    print(f\"        First token break type: {repr(first_token_break_type)}\")\n",
    "    if tokens[0].style_info:\n",
    "        print_style_info(tokens[0].style_info)\n",
    "\n",
    "    last_token_text = layout_to_text(tokens[-1].layout, text)\n",
    "    last_token_break_type = tokens[-1].detected_break.type_.name\n",
    "    print(f\"        Last token text: {repr(last_token_text)}\")\n",
    "    print(f\"        Last token break type: {repr(last_token_break_type)}\")\n",
    "    if tokens[-1].style_info:\n",
    "        print_style_info(tokens[-1].style_info)\n",
    "\n",
    "\n",
    "def print_symbols(\n",
    "    symbols: Sequence[documentai.Document.Page.Symbol], text: str\n",
    ") -> None:\n",
    "    print(f\"    {len(symbols)} symbols detected:\")\n",
    "    first_symbol_text = layout_to_text(symbols[0].layout, text)\n",
    "    print(f\"        First symbol text: {repr(first_symbol_text)}\")\n",
    "    last_symbol_text = layout_to_text(symbols[-1].layout, text)\n",
    "    print(f\"        Last symbol text: {repr(last_symbol_text)}\")\n",
    "\n",
    "\n",
    "def print_image_quality_scores(\n",
    "    image_quality_scores: documentai.Document.Page.ImageQualityScores,\n",
    ") -> None:\n",
    "    print(f\"    Quality score: {image_quality_scores.quality_score:.1%}\")\n",
    "    print(\"    Detected defects:\")\n",
    "\n",
    "    for detected_defect in image_quality_scores.detected_defects:\n",
    "        print(f\"        {detected_defect.type_}: {detected_defect.confidence:.1%}\")\n",
    "\n",
    "\n",
    "def print_style_info(style_info: documentai.Document.Page.Token.StyleInfo) -> None:\n",
    "    \"\"\"\n",
    "    Only supported in version `pretrained-ocr-v2.0-2023-06-02`\n",
    "    \"\"\"\n",
    "    print(f\"           Font Size: {style_info.font_size}pt\")\n",
    "    print(f\"           Font Type: {style_info.font_type}\")\n",
    "    print(f\"           Bold: {style_info.bold}\")\n",
    "    print(f\"           Italic: {style_info.italic}\")\n",
    "    print(f\"           Underlined: {style_info.underlined}\")\n",
    "    print(f\"           Handwritten: {style_info.handwritten}\")\n",
    "    print(\n",
    "        f\"           Text Color (RGBa): {style_info.text_color.red}, {style_info.text_color.green}, {style_info.text_color.blue}, {style_info.text_color.alpha}\"\n",
    "    )\n",
    "\n",
    "\n",
    "def print_visual_elements(\n",
    "    visual_elements: Sequence[documentai.Document.Page.VisualElement], text: str\n",
    ") -> None:\n",
    "    \"\"\"\n",
    "    Only supported in version `pretrained-ocr-v2.0-2023-06-02`\n",
    "    \"\"\"\n",
    "    checkboxes = [x for x in visual_elements if \"checkbox\" in x.type]\n",
    "    math_symbols = [x for x in visual_elements if x.type == \"math_formula\"]\n",
    "\n",
    "    if checkboxes:\n",
    "        print(f\"    {len(checkboxes)} checkboxes detected:\")\n",
    "        print(f\"        First checkbox: {repr(checkboxes[0].type)}\")\n",
    "        print(f\"        Last checkbox: {repr(checkboxes[-1].type)}\")\n",
    "\n",
    "    if math_symbols:\n",
    "        print(f\"    {len(math_symbols)} math symbols detected:\")\n",
    "        first_math_symbol_text = layout_to_text(math_symbols[0].layout, text)\n",
    "        print(f\"        First math symbol: {repr(first_math_symbol_text)}\")\n",
    "\n",
    "\n",
    "def process_document(\n",
    "    project_id: str,\n",
    "    location: str,\n",
    "    processor_id: str,\n",
    "    processor_version: str,\n",
    "    file_path: str,\n",
    "    mime_type: str,\n",
    "    process_options: Optional[documentai.ProcessOptions] = None,\n",
    ") -> documentai.Document:\n",
    "    # You must set the `api_endpoint` if you use a location other than \"us\".\n",
    "    client = documentai.DocumentProcessorServiceClient(\n",
    "        client_options=ClientOptions(\n",
    "            api_endpoint=f\"{location}-documentai.googleapis.com\"\n",
    "        )\n",
    "    )\n",
    "\n",
    "    # The full resource name of the processor version, e.g.:\n",
    "    # `projects/{project_id}/locations/{location}/processors/{processor_id}/processorVersions/{processor_version_id}`\n",
    "    # You must create a processor before running this sample.\n",
    "    name = client.processor_version_path(\n",
    "        project_id, location, processor_id, processor_version\n",
    "    )\n",
    "\n",
    "    # Read the file into memory\n",
    "    with open(file_path, \"rb\") as image:\n",
    "        image_content = image.read()\n",
    "\n",
    "    # Configure the process request\n",
    "    request = documentai.ProcessRequest(\n",
    "        name=name,\n",
    "        raw_document=documentai.RawDocument(content=image_content, mime_type=mime_type),\n",
    "        # Only supported for Document OCR processor\n",
    "        process_options=process_options,\n",
    "    )\n",
    "\n",
    "    result = client.process_document(request=request)\n",
    "\n",
    "    # For a full list of `Document` object attributes, reference this page:\n",
    "    # https://cloud.google.com/document-ai/docs/reference/rest/v1/Document\n",
    "    return result.document\n",
    "\n",
    "\n",
    "def layout_to_text(layout: documentai.Document.Page.Layout, text: str) -> str:\n",
    "    \"\"\"\n",
    "    Document AI identifies text in different parts of the document by their\n",
    "    offsets in the entirety of the document\"s text. This function converts\n",
    "    offsets to a string.\n",
    "    \"\"\"\n",
    "    # If a text segment spans several lines, it will\n",
    "    # be stored in different text segments.\n",
    "    return \"\".join(\n",
    "        text[int(segment.start_index) : int(segment.end_index)]\n",
    "        for segment in layout.text_anchor.text_segments\n",
    "    )\n"
   ]
  },
  {
   "cell_type": "code",
   "execution_count": 91,
   "id": "7a4d7b6d-7da1-4187-a284-730de5e9ef6f",
   "metadata": {
    "scrolled": true,
    "tags": []
   },
   "outputs": [
    {
     "name": "stderr",
     "output_type": "stream",
     "text": [
      "IOPub data rate exceeded.\n",
      "The Jupyter server will temporarily stop sending output\n",
      "to the client in order to avoid crashing it.\n",
      "To change this limit, set the config variable\n",
      "`--ServerApp.iopub_data_rate_limit`.\n",
      "\n",
      "Current values:\n",
      "ServerApp.iopub_data_rate_limit=1000000.0 (bytes/sec)\n",
      "ServerApp.rate_limit_window=3.0 (secs)\n",
      "\n"
     ]
    }
   ],
   "source": [
    "document = online_process(\n",
    "    project_id=project_id,\n",
    "    location=location,\n",
    "    processor_id=processor_id,\n",
    "    file_path=file_path,\n",
    "    mime_type=mime_type,\n",
    ")\n",
    "\n",
    "names = []\n",
    "name_confidence = []\n",
    "values = []\n",
    "value_confidence = []\n",
    "\n",
    "for page in document.pages:\n",
    "    print(page)\n",
    "    # for field in page.form_fields:\n",
    "    #     names.append(trim_text(field.field_name.text_anchor.content))\n",
    "    #     name_confidence.append(field.field_name.confidence)\n",
    "    #     values.append(trim_text(field.field_value.text_anchor.content))\n",
    "    #     value_confidence.append(field.field_value.confidence)\n",
    "\n",
    "# df = pd.DataFrame(\n",
    "#     {\n",
    "#         \"Field Name\": names,\n",
    "#         \"Field Name Confidence\": name_confidence,\n",
    "#         \"Field Value\": values,\n",
    "#         \"Field Value Confidence\": value_confidence,\n",
    "#     }\n",
    "# )"
   ]
  },
  {
   "cell_type": "code",
   "execution_count": 92,
   "id": "7c5da79e-1fc3-410f-989d-f6513f3ccc6f",
   "metadata": {
    "scrolled": true,
    "tags": []
   },
   "outputs": [],
   "source": [
    "# for page in document.pages:\n",
    "#     print(f\"Page {page.page_number}:\")\n",
    "#     print_page_dimensions(page.dimension)\n",
    "#     print_detected_langauges(page.detected_languages)\n",
    "\n",
    "#     print_blocks(page.blocks, text)\n",
    "#     print_paragraphs(page.paragraphs, text)\n",
    "#     print_lines(page.lines, text)\n",
    "#     print_tokens(page.tokens, text)\n",
    "    \n",
    "#     print(page.paragraphs.reverse)\n",
    "    \n",
    "# #     if page.symbols:\n",
    "# #         print_symbols(page.symbols, text)\n",
    "\n",
    "# #     if page.image_quality_scores:\n",
    "# #         print_image_quality_scores(page.image_quality_scores)\n",
    "\n",
    "# #     if page.visual_elements:\n",
    "# #         print_visual_elements(page.visual_elements, text)"
   ]
  },
  {
   "cell_type": "markdown",
   "id": "7431439e-c759-4ab9-8bb1-7b3085e39e5c",
   "metadata": {},
   "source": [
    "## Using langchain for Doc AI on GCP"
   ]
  },
  {
   "cell_type": "code",
   "execution_count": 93,
   "id": "5e0ce597-fdf4-4a7b-8c3b-fa94b2468ace",
   "metadata": {
    "tags": []
   },
   "outputs": [
    {
     "name": "stdout",
     "output_type": "stream",
     "text": [
      "E0228 15:55:04.612654192  390954 backup_poller.cc:127]                 Run client channel backup poller: UNKNOWN:pollset_work {created_time:\"2024-02-28T15:55:04.612417833+00:00\", children:[UNKNOWN:Bad file descriptor {created_time:\"2024-02-28T15:55:04.612326526+00:00\", errno:9, os_error:\"Bad file descriptor\", syscall:\"epoll_wait\"}]}\n",
      "Note: you may need to restart the kernel to use updated packages.\n",
      "Note: you may need to restart the kernel to use updated packages.\n"
     ]
    }
   ],
   "source": [
    "%pip install --upgrade --quiet  google-cloud-documentai\n",
    "%pip install --upgrade --quiet  google-cloud-documentai-toolbox"
   ]
  },
  {
   "cell_type": "code",
   "execution_count": 94,
   "id": "2391bd4e-08bc-458e-9bb4-169782168787",
   "metadata": {
    "tags": []
   },
   "outputs": [],
   "source": [
    "# GCS_OUTPUT_PATH = \"gs://BUCKET_NAME/FOLDER_PATH\"\n",
    "\n",
    "GCS_OUTPUT_PATH= BUCKET_URI#\"gs://tianhaoz-test/saurabh\"\n",
    "\n",
    "# PROCESSOR_NAME = \"projects/cloud-llm-preview1/locations/us-central1/processors/96c7b8734e4ddaba\"\n",
    "\n",
    "# PROCESSOR_NAME = 'projects/PROJECT_ID/locations/us/processors/PROCESSOR_ID'\n",
    "\n",
    "PROCESSOR_NAME = 'projects/255766800726/locations/us/processors/c66ce4457bf5af37'\n",
    "\n",
    "# endpoint=\"projects/cloud-llm-preview1/locations/us-central1/publishers/google/models/medlm-large\", instances=instances, parameters=parameters, safety_settings=[]\n"
   ]
  },
  {
   "cell_type": "code",
   "execution_count": 95,
   "id": "2e9d02e4-271e-48d4-ac62-bae2afd81014",
   "metadata": {
    "tags": []
   },
   "outputs": [],
   "source": [
    "from langchain_community.document_loaders.blob_loaders import Blob\n",
    "from langchain_community.document_loaders.parsers import DocAIParser"
   ]
  },
  {
   "cell_type": "code",
   "execution_count": 96,
   "id": "9199f410-31da-49f5-b2e3-2019d8db7ca8",
   "metadata": {
    "tags": []
   },
   "outputs": [],
   "source": [
    "parser = DocAIParser(\n",
    "    location=\"us\", processor_name=PROCESSOR_NAME, gcs_output_path=GCS_OUTPUT_PATH\n",
    ")"
   ]
  },
  {
   "cell_type": "code",
   "execution_count": 97,
   "id": "827c3373-eb55-4ff5-977d-8bf37b2a1f19",
   "metadata": {
    "tags": []
   },
   "outputs": [
    {
     "name": "stdout",
     "output_type": "stream",
     "text": [
      "Copying file://./books/Book1_HarryPotter_and_the_Sorcerers_Stone_pg15.pdf [Content-Type=application/pdf]...\n",
      "/ [1 files][112.1 KiB/112.1 KiB]                                                \n",
      "Operation completed over 1 objects/112.1 KiB.                                    \n"
     ]
    }
   ],
   "source": [
    "# pdf_file = \"./books/Book1_HarryPotter_and_the_Sorcerers_Stone_pg15.pdf\"\n",
    "\n",
    "!gsutil cp ./books/Book1_HarryPotter_and_the_Sorcerers_Stone_pg15.pdf \"$BUCKET_URI\""
   ]
  },
  {
   "cell_type": "code",
   "execution_count": 98,
   "id": "c0e0b13f-d2c2-44d7-b922-16df07227716",
   "metadata": {
    "tags": []
   },
   "outputs": [
    {
     "data": {
      "text/plain": [
       "'gs://my-project-0004-346516/matchingengine'"
      ]
     },
     "execution_count": 98,
     "metadata": {},
     "output_type": "execute_result"
    }
   ],
   "source": [
    "BUCKET_URI"
   ]
  },
  {
   "cell_type": "code",
   "execution_count": 99,
   "id": "405b0bdb-f79e-4237-811f-2471e47c4341",
   "metadata": {
    "tags": []
   },
   "outputs": [],
   "source": [
    "blob = Blob(\n",
    "    path=\"gs://my-project-0004-346516/matchingengine/Book1_HarryPotter_and_the_Sorcerers_Stone_pg15.pdf\"\n",
    ")"
   ]
  },
  {
   "cell_type": "markdown",
   "id": "adb7cc57-0e1d-4ac2-ab44-c399c78d8031",
   "metadata": {},
   "source": [
    "### This below would take a lot of time (about 2-3 mins for a small PDF)"
   ]
  },
  {
   "cell_type": "code",
   "execution_count": 100,
   "id": "3d797071-3444-4c4e-96a1-3029cb00b4ef",
   "metadata": {
    "tags": []
   },
   "outputs": [
    {
     "name": "stdout",
     "output_type": "stream",
     "text": [
      "15\n"
     ]
    }
   ],
   "source": [
    "docs = list(parser.lazy_parse(blob))\n",
    "print(len(docs))\n",
    "\n"
   ]
  },
  {
   "cell_type": "code",
   "execution_count": 101,
   "id": "5f3f7bb5-b0ba-48ac-8794-efd5fd1dac0c",
   "metadata": {
    "tags": []
   },
   "outputs": [],
   "source": [
    "page_contents = [doc.page_content for doc in docs]\n"
   ]
  },
  {
   "cell_type": "code",
   "execution_count": 102,
   "id": "2d2c0eec-f9ad-4d7e-a8e0-32971f2253b0",
   "metadata": {
    "scrolled": true,
    "tags": []
   },
   "outputs": [
    {
     "data": {
      "text/plain": [
       "['CHAPTER ONE\\nTHE BOY WHO LIVED\\nM r. and Mrs. Dursley, of number four, Privet Drive, were proud to say\\nthat they were perfectly normal, thank you very much. They were the last people\\nyou’d expect to be involved in anything strange or mysterious, because they just\\ndidn’t hold with such nonsense.\\nMr. Dursley was the director of a firm called Grunnings, which made\\ndrills. He was a big, beefy man with hardly any neck, although he did have a\\nvery large mustache. Mrs. Dursley was thin and blonde and had nearly twice the\\nusual amount of neck, which came in very useful as she spent so much of her\\ntime craning over garden fences, spying on the neighbors. The Dursleys had a\\nsmall\\nson called Dudley and in their opinion there was no finer boy anywhere.\\nThe Dursleys had everything they wanted, but they also had a secret, and\\ntheir greatest fear was that somebody would discover it. They didn’t think they\\ncould bear it if anyone found out about the Potters. Mrs. Potter was Mrs.\\nDursley’s sister, but they hadn’t met for several years; in fact, Mrs. Dursley\\npretended she didn’t have a sister, because her sister and her good-for-nothing\\nhusband were as unDursleyish as it was possible to be. The Dursleys shuddered\\nto think what the neighbors would say if the Potters arrived in the street. The\\nDursleys knew that the Potters had a small son, too, but they had never even\\nseen him. This boy was another good reason for keeping the Potters away; they\\ndidn’t want Dudley mixing with a child like that.\\nWhen Mr. and Mrs. Dursley woke up on the dull, gray Tuesday our story\\nstarts, there was nothing about the cloudy sky outside to suggest that strange and\\nmysterious things would soon be happening all over the country. Mr. Dursley\\nhummed as he picked out his most boring tie for work, and Mrs. Dursley\\ngossiped away happily as she wrestled a screaming Dudley into his high chair.\\nNone of them noticed a large, tawny owl flutter past the window.\\nAt half past eight, Mr. Dursley picked up his briefcase, pecked Mrs.\\nDursley on the cheek, and tried to kiss Dudley good-bye but missed, because\\nDudley was now having a tantrum and throwing his cereal at the walls.\\n“Little tyke,” chortled Mr. Dursley as he left the house. He got into his car\\nand backed out of number four’s drive.\\nIt was on the corner of the street that he noticed the first sign of\\n',\n",
       " 'something peculiar — a cat reading a map. For a second, Mr. Dursley didn’t\\nrealize what he had seen — then he jerked his head around to look again. There\\nwas a tabby cat standing on the corner of Privet Drive, but there wasn’t a map in\\nsight. What could he have been thinking of? It must have been a trick of the\\nlight. Mr. Dursley blinked and stared at the cat. It stared back. As Mr. Dursley\\ndrove around the corner and up the road, he watched the cat in his mirror. It was\\nnow reading the sign that said Privet Drive — no, looking at the sign; cats\\ncouldn’t read maps or signs. Mr. Dursley gave himself a little shake and put the\\ncat out of his mind. As he drove toward town he thought of nothing except a\\nlarge order of drills he was hoping to get that day.\\nBut on the edge of town, drills were driven out of his mind by something\\nelse. As he sat in the usual morning traffic jam, he couldn’t help noticing that\\nthere seemed to be a lot of strangely dressed people about. People in cloaks. Mr.\\nDursley couldn’t bear people who dressed in funny clothes — the getups you\\nsaw on young people! He supposed this was some stupid new fashion. He\\ndrummed his fingers on the steering wheel and his eyes fell on a huddle of these\\nweirdos standing quite close by. They were whispering excitedly together. Mr.\\nDursley was enraged to see that a couple of them weren’t young at all; why, that\\nman had to be older than he was, and wearing an emerald-green cloak! The\\nnerve of him! But then it struck Mr. Dursley that this was probably some silly\\nstunt —these people were obviously collecting for something…yes, that would\\nbe it. The traffic moved on and a few minutes later, Mr. Dursley arrived in the\\nGrunnings parking lot, his mind back on drills.\\nMr. Dursley always sat with his back to the window in his office on the\\nninth floor. If he hadn’t, he might have found it harder to concentrate on drills\\nthat morning. He didn’t see the owls swooping past in broad daylight, though\\npeople down in the street did; they pointed and gazed open-mouthed as owl after\\nowl sped overhead. Most of them had never seen an owl even at nighttime. Mr.\\nDursley, however, had a perfectly normal, owl-free morning. He yelled at five\\ndifferent people. He made several important telephone calls and shouted a bit\\nmore. He was in a very good mood until lunchtime, when he thought he’d stretch\\nhis legs and walk across the road to buy himself a bun from the bakery.\\nHe’d for gotten all about the people in cloaks until he passed a group of\\nthem next to the baker’s. He eyed them angrily as he passed. He didn’t know\\nwhy, but they made him uneasy. This bunch were whispering excitedly, too, and\\nhe couldn’t see a single collecting tin. It was on his way back past them,\\nclutching a large doughnut in a bag, that he caught a few words of what they\\nwere saying.\\n“The Potters, that’s right, that’s what I heard —”\\n- \\n',\n",
       " '“\\n— yes, their son, Harry —”\\nMr. Dursley stopped dead. Fear flooded him. He looked back at the\\nwhisperers as if he wanted to say something to them, but thought better of it.\\nHe dashed back across the road, hurried up to his office, snapped at his\\nsecretary not to disturb him, seized his telephone, and had almost finished\\ndialing his home number when he changed his mind. He put the receiver back\\ndown and stroked his mustache, thinking…no, he was being stupid. Potter\\nwasn’t such an unusual name. He was sure there were lots of people called Potter\\nwho had a son called Harry. Come to think of it, he wasn’t even sure his nephew\\nwas called Harry. He’d never even seen the boy. It might have been Harvey. Or\\nHarold. There was no point in worrying Mrs. Dursley; she always got so upset at\\nany\\nmention of her sister. He didn’t blame her — if he’d had a sister like that…\\nbut all the same, those people in cloaks.…\\nHe found it a lot harder to concentrate on drills that afternoon and when\\nhe left the building at five o’clock, he was still so worried that he walked straight\\ninto someone just outside the door.\\n“Sorry,” he grunted, as the tiny old man stumbled and almost fell. It was\\na few seconds before Mr. Dursley realized that the man was wearing a violet\\ncloak. He didn’t seem at all\\nupset at being almost knocked to the ground. On the\\ncontrary, his face split into a wide smile and he said in a squeaky voice that made\\npassersby stare, “Don’t be sorry, my dear sir, for nothing could upset me today!\\nRejoice, for You-Know-Who has gone at last! Even Muggles like yourself\\nshould be celebrating, this happy, happy day!”\\nAnd the old man hugged Mr. Dursley around the middle and walked off.\\nMr. Dursley stood rooted to the spot. He had been hugged by a complete\\nstranger. He also thought he had been called a Muggle, whatever that was. He\\nwas rattled. He hurried to his car and set off for home, hoping he was imagining\\nthings, which he had never hoped before, because he didn’t approve of\\nimagination.\\nAs he pulled into the driveway of number four, the first thing he saw —\\nand it didn’t improve his mood — was the tabby cat he’d spotted that morning. It\\nwas now sitting on his garden wall. He was sure it was the same one; it had the\\nsame markings around its eyes.\\n- \\n“Shoo!” said Mr. Dursley loudly.\\nThe cat didn’t move. It just gave him a stern look. Was this normal cat\\nbehavior? Mr. Dursley wondered. Trying to pull himself together, he let himself\\ninto the house. He was still determined not to mention anything to his wife.\\nday. She told him over dinner all\\ndaughter and how Dudley had\\nMrs. Dursley had had a nice, normal\\nabout Mrs. Next Door’s problems with her\\n',\n",
       " 'learned a new word (“Won’t!”). Mr. Dursley tried to act normally. When Dudley\\nhad been put to bed, he went into the living room in time to catch the last report\\non the evening news:\\n“And finally, bird-watchers everywhere have reported that the nation’s\\nowls have been behaving very unusually today. Although owls normally hunt at\\nnight and are hardly ever seen in daylight, there have been hundreds of sightings\\nof these birds flying in every\\ndirection since sunrise. Experts are unable to\\nexplain why the owls have suddenly changed their sleeping pattern.” The\\nnewscaster allowed himself a grin. “Most mysterious. And now, over to Jim\\nMcGuffin with the weather. Going to be any more showers of owls tonight,\\nJim?”\\n“Well, Ted,” said the weatherman, “I don’t know about that, but it’s not\\nonly the owls that have been acting oddly today. Viewers as far apart as Kent,\\nYorkshire, and Dundee have been phoning in to tell me that instead of the rain I\\npromised yesterday, they’ve had a downpour of shooting stars! Perhaps people\\nhave been celebrating Bonfire Night early — it’s not until next week, folks! But\\nI can promise a wet night tonight.”\\nMr. Dursley sat frozen in his armchair. Shooting stars all over Britain?\\nOwls flying by daylight? Mysterious people in cloaks all over the place? And a\\nwhisper, a whisper about the Potters.…\\nMrs. Dursley came into the living room carrying two cups of tea. It was\\nno good. He’d have to say something to her. He cleared his throat nervously. “Er\\n— Petunia, dear — you haven’t heard from your sister lately, have you?”\\nAs he had expected, Mrs. Dursley looked shocked and angry. After all,\\nthey normally pretended she didn’t have a sister.\\n“No,” she said sharply. “Why?”\\n“Funny stuff on the news,” Mr. Dursley mumbled. “Owls…shooting\\nstars…and there were a lot of funny-looking people in town today.…”\\n“So?” snapped Mrs. Dursley.\\n“Well, I just thought…maybe…it was something to do with…you\\nknow…her crowd.”\\nMrs. Dursley sipped her tea through pursed lips. Mr. Dursley wondered\\nwhether he dared tell her he’d heard the name “Potter.” He decided he didn’t\\ndare. Instead he said, as casually as he could, “Their son — he’d be about\\nDudley’s age now, wouldn’t he?”\\n“I suppose so,” said Mrs. Dursley stiffly.\\n“What’s his name again? Howard, isn’t it?”\\n“Harry. Nasty, common name, if you ask me.”\\n“Oh, yes,” said Mr. Dursley, his heart sinking horribly. “Yes, I quite\\n',\n",
       " 'agree.”\\nHe didn’t say another word on the subject as they went upstairs to bed.\\nWhile Mrs. Dursley was in the bathroom, Mr. Dursley crept to the bedroom\\nwindow and peered down into the front garden. The cat was still there. It was\\nstaring down Privet Drive as though it were waiting for something.\\nWas he imagining things? Could all this have anything to do with the\\nPotters? If it did...if it got out that they were related to a pair of — well, he didn’t\\nthink he could bear it.\\nThe Dursleys got into bed. Mrs. Dursley fell asleep quickly but Mr.\\nDursley lay awake, turning it all over in his mind. His last, comforting thought\\nbefore he fell asleep was that even if the Potters were involved, there was no\\nreason for them to come near him and Mrs. Dursley. The Potters knew very well\\nwhat he and Petunia thought about them and their kind....He couldn’t see how he\\nand Petunia could get mixed up in anything that might be going on — he\\nyawned and turned over — it couldn’t affect them.…- \\nHow very wrong he was.\\nMr. Dursley might have been drifting into an uneasy sleep, but the cat on\\nthe wall outside was showing no sign of sleepiness. It was sitting as still as a\\nstatue, its eyes fixed unblinkingly on the far corner of Privet Drive. It didn’t so\\nmuch as quiver when a car door slammed on the next street, nor when two owls\\nswooped overhead. In fact, it was nearly midnight before the cat moved at all.\\nA man appeared on the corner the cat had been watching, appeared so\\nsuddenly and silently you’d have thought he’d just popped out of the ground.\\nThe cat’s tail twitched and its eyes\\nnarrowed.\\nNothing like this man had ever been seen on Privet Drive. He was tall,\\nthin, and\\nvery old, judging by the silver of his hair and beard, which were both\\nlong enough to tuck into his belt. He was wearing long robes, a purple cloak that\\nswept the ground, and high-heeled, buckled boots. His blue eyes were light,\\nbright, and sparkling behind half-moon spectacles and his nose was very long\\nand crooked, as though it had been broken at least twice. This man’s name was\\nAlbus Dumbledore.\\nAlbus Dumbledore didn’t seem to realize that he had just arrived in a\\nstreet where everything from his name to his boots was unwelcome. He was\\nbusy rummaging in his cloak, looking for something. But he did seem to realize\\nhe was being watched, because he looked up suddenly at the cat, which was still\\nstaring at him from the other end of the street. For some reason, the sight of the\\ncat seemed to amuse him. He chuckled and muttered, “I should have known.”\\nHe found what he was looking for in his inside pocket. It seemed to be a\\nsilver cigarette lighter. He flicked it open, held it up in the air, and clicked it. The\\n',\n",
       " 'nearest street lamp went out with a little pop. He clicked it again — the next\\nlamp flickered into darkness. Twelve times he clicked the Put-Outer, until the\\nonly lights left on the whole street were two tiny pinpricks in the distance, which\\nwere the eyes of the cat watching him. If anyone looked out of their window\\nnow, even beady-eyed Mrs. Dursley, they wouldn’t be able to see anything that\\nwas happening down on the pavement. Dumbledore slipped the Put-Outer back\\ninside his cloak and set off down the street toward number four, where he sat\\ndown on the wall next to the cat. He didn’t look at it, but after a moment he\\nspoke to it.\\n“Fancy seeing you here, Professor McGonagall.”\\nHe turned to smile at the tabby, but it had gone. Instead he was smiling at\\na rather severe-looking woman who was wearing square glasses exactly the\\nshape of the markings the cat had had around its eyes. She, too, was wearing a\\ncloak, an emerald one. Her black hair was drawn into a tight bun. She looked\\ndistinctly ruffled.\\n“How did you know it was me?” she asked.\\n“My dear Professor, I’ve never seen a cat sit so stiffly.”\\n“You’d be stiff if you’d been sitting on a brick wall all day,” said\\nProfessor McGonagall.\\n“All day? When you could have been celebrating? I must have passed a\\ndozen feasts and parties on my way here.”\\nProfessor McGonagall sniffed angrily.\\n“Oh yes, I’ve celebrating, all right,” she said impatiently. “You’d think\\nthey’d be a bit more careful, but no —even the Muggles have noticed\\nsomething’s going on. It was on their news.” She jerked her head back at the\\nDursleys’ dark living-room window. “I heard it. Flocks of owls…shooting\\nstars…Well, they’re not completely stupid. They were bound to notice\\nsomething. Shooting stars down in Kent — I’ll bet that was Dedalus Diggle. He\\nnever had much sense.”\\n“You can’t blame them,” said Dumbledore gently. “We’ve had precious\\nlittle to celebrate for eleven years.”\\n“I know that,” said Professor McGonagall irritably. “But that’s no reason\\nto lose our heads. People are being downright careless, out on the streets in\\nbroad daylight, not even dressed in Muggle clothes, swapping rumors.”\\nShe threw a sharp, sideways glance at Dumbledore here, as though\\nhoping he was going to tell her something, but he didn’t, so she went on. “A fine\\nthing it would be if, on the very day You-Know-Who seems to have disappeared\\nat last, the Muggles found out about us all. I suppose he really has gone,\\nDumbledore?”\\n- \\n',\n",
       " '“It certainly seems so,” said Dumbledore. “We have much to be thankful\\nfor. Would\\nyou care for a lemon drop?”\\n“A what?”\\n“A lemon drop. They’re a kind of Muggle sweet I’m rather fond of.”\\n“No, thank you,” said Professor McGonagall coldly, as though she didn’t\\nthink this was the moment for lemon drops. “As I say, even if You-Know-Who\\nhas gone —”\\n“My dear Professor, surely a sensible person like yourself can call him by\\nhis name? All this ‘You-Know-Who’ nonsense — for eleven years I have been\\ntrying to persuade people to call him by his proper name: Voldemort.” Professor\\nMcGonagall flinched, but Dumbledore, who was unsticking two lemon drops,\\nseemed not to notice. “It all gets so confusing if we keep saying ‘You-Know-\\nWho.’ I have never seen any reason to be frightened of saying Voldemort’s\\nname.”\\n“I know you haven’t, said Professor McGonagall, sounding half\\nexasperated, half admiring. “But you’re different. Everyone knows you’re the\\nonly one You-Know- oh, all right, Voldemort, was frightened of.”\\n“You flatter me,” said Dumbledore calmly. “Voldemort had powers I will\\nnever have.”\\n“Only because you’re too — well — noble to use them.”\\n“It’s lucky it’s dark. I haven’t blushed so much since Madam Pomfrey\\ntold me she liked my new earmuffs.”\\nProfessor McGonagall shot a sharp look at Dumbledore and said “The\\nowls are nothing next to the rumors that are flying around. You know what\\nthey’re saying? About why he’s disappeared? About what finally stopped him?”\\nIt seemed that Professor McGonagall had reached the point she was most\\nanxious to discuss, the real reason she had been waiting on a cold, hard wall all\\nday, for neither as a cat nor as a woman had she fixed Dumbledore with such a\\npiercing stare as she did now. It was plain that whatever “everyone” was saying,\\nshe was not going to believe it until Dumbledore told her it was true.\\nDumbledore, however, was choosing another lemon drop and did not answer.\\n“What they’re saying,” she pressed on, “is that last night Voldemort\\nturned up in Godric’s Hollow. He went to find the Potters. The rumor is that Lily\\nand James Potter are — are — that they’re — dead.”\\nDumbledore bowed his head. Professor McGonagall gasped.\\nAlbus…”\\n“Lily and James…I can’t believe it…I didn’t want to believe it…Oh,\\nDumbledore reached out and patted her on the shoulder. “I know…I\\nknow…” he said heavily.\\n',\n",
       " 'Professor McGonagall’s voice trembled as she went on. “That’s not all.\\nThey’re saying he tried to kill the Potter’s son, Harry. But he couldn’t. He\\ncouldn’t kill that little boy. No one knows why, or how, but they’re saying that\\nwhen he couldn’t kill Harry Potter, Voldemort’s power somehow broke — and\\nthat’s why he’s gone.”\\nDumbledore nodded glumly.\\n“It’s — it’s true?” faltered Professor McGonagall. “After all he’s done…\\nall the people he’s killed…he couldn’t kill a little boy? It’s just astounding…of\\nall the things to stop him…but how in the name of heaven did Harry survive?”\\n“We can only guess.” said Dumbledore. “We may never know.”\\nProfessor McGonagall pulled out a lace handkerchief and dabbed at her\\neyes beneath her spectacles. Dumbledore gave a great sniff as he took a golden\\nwatch from his pocket and examined it. It was a very odd watch. It had twelve\\nhands but no numbers; instead, little planets were moving around the edge. It\\nmust have made sense to Dumbledore, though, because he put it back in his\\npocket and said, “Hagrid’s late. I suppose it was he who told you I’d be here, by\\nthe way?”\\n“Yes,” said Professor McGonagall. “And I don’t suppose you’re going to\\ntell me why you’re here, of all places?”\\n“I’ve come to bring Harry to his aunt and uncle. They’re the only family\\nhe has left now.”\\n“You don’t mean – you can’t mean the people who live here?” cried\\nProfessor McGonagall, jumping to her feet and pointing at number four.\\n“Dumbledore — you can’t. I’ve been watching them all day. You couldn’t find\\ntwo people who are less like us. And they’ve got this son — I saw him kicking\\nhis mother all the way up the street, screaming for sweets. Harry Potter come\\nand live here!”\\n“It’s the best place for him,” said Dumbledore firmly. “His aunt and\\nuncle will be able to explain everything to him when he’s older. I’ve written\\nthem a letter.”\\n“A letter?” repeated Professor McGonagall faintly, sitting back down on\\nthe wall. “Really, Dumbledore, you think you can explain all this in a letter?\\nThese people will never understand him! He’ll be famous — a legend — I\\nwouldn’t be surprised if today was known as Harry Potter day in the future —\\nthere will be books written about Harry — every child in our world will know\\nhis name!”\\n“Exactly.” said Dumbledore, looking very seriously over the top of his\\nhalf-moon glasses. “It would be enough to turn any boy’s head. Famous before\\nhe can walk and talk! Famous for something he won’t even remember! Can you\\n- \\n- \\n',\n",
       " 'see how much better off he’ll be, growing up away from all that until he’s ready\\nto take it?”\\nProfessor McGonagall opened her mouth, changed her mind, swallowed,\\nand then said, “Yes — yes, you’re right, of course. But how is the boy getting\\nhere, Dumbledore?” She eyed his cloak suddenly as though she thought he might\\nbe hiding Harry underneath it.\\nthis?”\\n“Hagrid’s bringing him.”\\n“You think it — wise — to trust Hagrid with something as important as\\n“I would trust Hagrid with my life,” said Dumbledore.\\n“I’m not saying his heart isn’t in the right place,” said Professor\\nMcGonagall grudgingly, “but you can’t pretend he’s not careless. He does tend\\nto — what was that?”\\nA low rumbling sound had broken the silence around them. It grew\\nsteadily louder as they looked up and down the street for some sign of a\\nheadlight; it swelled to a roar as they both looked up at the sky — and a huge\\nmotorcycle fell out of the air and landed on the road in front of them.\\nIf the motorcycle was huge, it was nothing to the man sitting astride it.\\nHe was almost twice as tall as a normal man and at least five times as wide. He\\nlooked simply too big to be allowed, and so wild — long tangles of bushy black\\nhair and beard hid most of his face, he had hands the size of trash can lids, and\\nhis feet in their leather boots were like baby dolphins. In his vast, muscular arms\\nhe was holding a bundle of blankets.\\n“Hagrid,” said Dumbledore, sounding relieved. “At last. And where did\\nyou get that motorcycle?”\\n“Borrowed it, Professor Dumbledore, sir,” said the giant, climbing\\ncarefully off the motorcycle as he spoke. “Young Sirius Black lent it to me. I’ve\\ngot him, sir.”\\n“No problems, were there?”\\n“No, sir — house was almost destroyed, but I got him out all right before\\nthe Muggles started swarmin’ around. He fell asleep as we was flyin’ over\\nBristol.”\\nDumbledore and Professor McGonagall bent forward over the bundle of\\nblankets. Inside, just visible, was a baby boy, fast asleep. Under a tuft of jet-\\nblack hair over his forehead they could see a curiously shaped cut,\\nlike a bolt of\\nlightning.\\n“Is that where —?” whispered Professor McGonagall.\\n“Yes,” said Dumbledore. “He’ll have that scar forever.”\\n“Couldn’t you do something about it, Dumbledore?”\\n',\n",
       " '“Even if I could, I wouldn’t. Scars can come in handy. I have one myself\\nabove my left knee that is a perfect map of the London Underground. Well —\\ngive him here, Hagrid — we’d better get this over with.”\\nhouse.\\nDumbledore took Harry in his arms and turned toward the Dursleys’\\n“Could I — could I say good-bye to him, sir?” asked Hagrid. He bent his\\ngreat, shaggy head over Harry and gave him what must have been a very\\nscratchy, whiskery kiss. Then, suddenly, Hagrid let out a howl like a wounded\\ndog.\\n“Shhh!” hissed Professor McGonagall, “You’ll wake the Muggles!”\\n“S-s-sorry,” sobbed Hagrid, taking out a large, spotted handkerchief and\\nburying his face in it. “But I c-c-can’t stand it —Lily an’James dead — an’ poor\\nlittle Harry off ter live with Muggles —”\\n“Yes, yes, it’s all very sad, but get a grip on yourself, Hagrid, or we’ll be\\nfound,” Professor McGonagall whispered, patting Hagrid gingerly on the arm as\\nDumbledore stepped over the low garden wall and walked to the front door. He\\nlaid Harry gently on the doorstep, took a letter out of his cloak, tucked it inside\\nHarry’s blankets, and then came back to the other two. For a full minute the\\nthree of them stood and looked at the little bundle; Hagrid’s shoulders shook,\\nProfessor McGonagall blinked furiously, and the twinkling light that usually\\nshone from Dumbledore’s eyes seemed to have gone out.\\n“Well,” said Dumbledore finally, “that’s that. We’ve no business staying\\nhere. We may as well go and join the celebrations.”\\n“Yeah,” said Hagrid in a very muffled voice, “I’ll be takin’ Sirius his bike\\nback. G’night, Professor McGonagall — Professor Dumbledore, sir.”\\nWiping his streaming eyes on his jacket sleeve, Hagrid swung himself\\nonto the motorcycle and kicked the engine into life; with a roar it rose into the\\nair and off into the night.\\n“I shall see you soon, I expect, Professor McGonagall,” said\\nDumbledore, nodding to her. Professor McGonagall blew her nose in reply.\\nDumbledore turned and walked back down the street. On the corner he\\nstopped and took out the silver Put-Outer. He clicked it once, and twelve balls of\\nlight sped back to their street lamps so that Privet Drive glowed suddenly orange\\nand he could make out a tabby cat slinking around the corner at the other end of\\nthe street. He could just see the bundle of blankets on the step of number four.\\n“Good luck, Harry,” he murmured. He turned on his heel and with a\\nswish of his cloak, he was gone.\\nA breeze ruffled the neat hedges of Privet Drive, which lay silent and tidy\\nunder the inky sky, the very last place you would expect astonishing things to\\n',\n",
       " 'happen. Harry Potter rolled over inside his blankets without waking up. One\\nsmall hand closed on the letter beside him and he slept on, not knowing he was\\nspecial, not knowing he was famous, not knowing he would be woken in a few\\nhours’ time by Mrs. Dursley’s scream as she opened the front door to put out the\\nmilk bottles, nor that he would spend the next few weeks being prodded and\\npinched by his cousin Dudley....He couldn’t know that at this very moment,\\npeople meeting in secret all over the country were holding up their glasses and\\nsaying in hushed voices: “To Harry Potter — the boy who lived!”\\n',\n",
       " \"HP 1 - Harry Potter and the\\nSorcerer's Stone\\n\",\n",
       " 'CHAPTER TWO\\nTHE VANISHING GLASS\\nN early ten years had passed since the Dursleys had woken up to find their\\nnephew on the front step, but Privet Drive had hardly changed at all. The sun\\nrose on the same tidy front gardens and lit up the brass number four on the\\nDursleys’ front door; it\\ncrept into their living room, which was almost exactly\\nthe same as it had been on the night when Mr. Dursley had seen that fateful news\\nreport about the owls. Only the photographs on the mantelpiece really showed\\nhow much time had passed. Ten years ago, there had been lots of pictures of\\nwhat looked like a large pink beach ball wearing different-colored bonnets —\\nbut Dudley Dursley was no longer a baby, and now the photographs showed a\\nlarge blond boy riding his first bicycle, on a carousel at the fair, playing a\\ncomputer game with his father, being hugged and kissed by his mother. The\\nroom held no sign at all that another boy lived in the house, too.\\nYet\\nHarry Potter was still there, asleep at the moment, but not for long.\\nHis Aunt Petunia was awake and it was her shrill voice that made the first noise\\nof the day.\\n“Up! Get up! Now!”\\nHarry woke with a start. His aunt rapped on the door again.\\n“Up!” she screeched. Harry heard her walking toward the kitchen and\\nthen the sound of the frying pan being put on the stove. He rolled onto his back\\nand tried to remember the dream he had been having. It had been a good one.\\nThere had been a flying motorcycle in it. He had a funny feeling he’d had the\\nsame dream before.\\nHis aunt was back outside the door.\\n“Are\\nyou up yet?” she demanded.\\n“Nearly,” said Harry.\\n“Well, get a move on, I want you to look after the bacon. And don’t you\\ndare let it burn, I want everything perfect on Duddy’s birthday.”\\nHarry groaned.\\n“What did you say?” his aunt snapped through the door.\\n“Nothing, nothing…”\\nDudley’s birthday — how could he have forgotten? Harry got slowly out\\nof bed and started looking for socks. He found a pair under his bed and, after\\n',\n",
       " 'pulling a spider off one of them, put them on. Harry was used to spiders, because\\nthe cupboard under the stairs was full of them, and that was where he slept.\\nWhen he was dressed he went down the hall into the kitchen. The table\\nwas almost hidden beneath all Dudley’s birthday presents. It looked as though\\nDudley had gotten the new computer he wanted, not to mention the second\\ntelevision and the racing bike. Exactly why Dudley wanted a racing bike was a\\nmystery to Harry, as Dudley was very fat and hated exercise — unless of course\\nit involved punching somebody. Dudley’s favorite punching bag was Harry, but\\nhe couldn’t often catch him. Harry didn’t look it, but he was very fast.\\nPerhaps it had something to do with living in a dark cupboard, but Harry\\nhad always been small and skinny for his age. He looked even smaller and\\nskinnier than he really was because all he had to wear were old clothes of\\nDudley’s, and Dudley was about four times bigger than he was. Harry had a thin\\nface, knobbly knees, black hair, and bright green eyes. He wore round glasses\\nheld together with a lot of Scotch tape because of all the times Dudley had\\npunched him on the nose. The only thing Harry liked about his own appearance\\nwas a very thin scar on his forehead that was shaped like a bolt of lightning. He\\nhad had it as long as he could remember, and the first question he could ever\\nremember asking his Aunt Petunia was how he had gotten it.\\n“In the car crash when your parents died,” she had said. “And don’t ask\\nquestions.”\\nDursleys.\\nDon’t ask questions — that was the first rule for a quiet life with the\\nUncle Vernon entered the kitchen as Harry was turning over the bacon.\\n“Comb your hair!” he barked, by way of a morning greeting.\\nAbout once a week, Uncle Vernon looked over the top of his newspaper\\nand shouted that Harry needed a haircut. Harry must have had more haircuts than\\nthe rest of the boys in his class\\nput together, but it made no difference, his hair\\nsimply grew that way — all over the place.\\nHarry was frying eggs by the time Dudley arrived in the kitchen with his\\nmother. Dudley looked a lot like Uncle Vernon. He had a large pink face, not\\nmuch neck, small, watery blue eyes, and thick blond hair that lay smoothly on\\nhis thick, fat head. Aunt Petunia often said that Dudley looked like a baby angel\\n— Harry often said that Dudley looked like a pig in a wig.\\nHarry put the plates of egg and bacon on the table, which was difficult as\\nthere wasn’t much room. Dudley, meanwhile, was counting his presents. His\\nface fell.\\n“Thirty-six,” he said, looking up at his mother and father. “That’s two\\nless than last year.”\\n- \\n',\n",
       " '“Darling, you haven’t counted Auntie Marge’s present, see, it’s here\\nunder this big one from Mummy and Daddy.”\\n“All right, thirty-seven then,” said Dudley, going red in the face. Harry,\\nwho could see a huge Dudley tantrum coming on, began wolfing down his bacon\\nas fast as possible in case Dudley turned the table over.\\nAunt Petunia obviously scented danger, too, because she said quickly,\\n“And we’ll buy you another two presents while we’re out today. How’s that,\\npopkin? Two more presents. Is that all right”\\nDudley thought for a moment. It looked like hard work. Finally he said\\nslowly, “So I’ll have thirty...thirty...”\\nthen.”\\n“Thirty-nine, sweetums,” said Aunt Petunia.\\n“Oh.” Dudley sat down heavily and grabbed the nearest parcel. “All right\\nUncle Vernon chuckled.\\n“Little tyke wants his money’s worth, just like his father. ’Atta boy,\\nDudley!” He ruffled Dudley’s hair.\\nAt that moment the telephone rang and Aunt Petunia went to answer it\\nwhile Harry and Uncle Vernon watched Dudley unwrap the racing bike, a video\\ncamera, a remote control airplane, sixteen new computer games, and a VCR. He\\nwas ripping the paper off a gold wristwatch when Aunt Petunia came back from\\nthe telephone looking both angry and worried.\\n“Bad news, Vernon,” she said. “Mrs. Figg’s broken her leg. She can’t\\ntake him.” She jerked her head in Harry’s direction.\\nDudley’s mouth fell open in horror, but Harry’s heart gave a leap. Every\\nyear on Dudley’s birthday, his parents took him and a friend out for the day, to\\nadventure parks, hamburger restaurants, or the movies. Every year, Harry was\\nleft behind with Mrs. Figg, a mad old lady who lived two streets away. Harry\\nhated it there. The whole house smelled of cabbage and Mrs. Figg made him\\nlook at photographs of all the cats she’d ever owned.\\n“Now what?” said Aunt\\nhe’d planned this. Harry knew he\\nPetunia, looking furiously at Harry as though\\nought to feel sorry that Mrs. Figg had broken\\nher leg, but it wasn’t easy when he reminded himself it would be a whole year\\nbefore he had to look at Tibbles, Snowy, Mr. Paws, and Tufty again.\\n“We could phone Marge,” Uncle Vernon suggested.\\n“Don’t be silly, Vernon, she hates the boy.”\\nThe Dursleys often spoke about Harry like this, as though he wasn’t there\\n— or rather, as though he was something very nasty\\nthat couldn’t understand\\nthem, like a slug.\\n“What about what’s-her-name, your friend — Yvonne?”-\\n']"
      ]
     },
     "execution_count": 102,
     "metadata": {},
     "output_type": "execute_result"
    }
   ],
   "source": [
    "# docs[0].page_content\n",
    "page_contents"
   ]
  },
  {
   "cell_type": "code",
   "execution_count": 103,
   "id": "d1df1353-5f3b-4b85-9f87-738bf08636b0",
   "metadata": {
    "tags": []
   },
   "outputs": [
    {
     "name": "stdout",
     "output_type": "stream",
     "text": [
      "                                       pagewise_texts  page_id\n",
      "0   CHAPTER ONE\\nTHE BOY WHO LIVED\\nM r. and Mrs. ...        1\n",
      "1   something peculiar — a cat reading a map. For ...        2\n",
      "2   “\\n— yes, their son, Harry —”\\nMr. Dursley sto...        3\n",
      "3   learned a new word (“Won’t!”). Mr. Dursley tri...        4\n",
      "4   agree.”\\nHe didn’t say another word on the sub...        5\n",
      "5   nearest street lamp went out with a little pop...        6\n",
      "6   “It certainly seems so,” said Dumbledore. “We ...        7\n",
      "7   Professor McGonagall’s voice trembled as she w...        8\n",
      "8   see how much better off he’ll be, growing up a...        9\n",
      "9   “Even if I could, I wouldn’t. Scars can come i...       10\n",
      "10  happen. Harry Potter rolled over inside his bl...       11\n",
      "11    HP 1 - Harry Potter and the\\nSorcerer's Stone\\n       12\n",
      "12  CHAPTER TWO\\nTHE VANISHING GLASS\\nN early ten ...       13\n",
      "13  pulling a spider off one of them, put them on....       14\n",
      "14  “Darling, you haven’t counted Auntie Marge’s p...       15\n"
     ]
    }
   ],
   "source": [
    "import pandas as pd\n",
    "\n",
    "# Create a DataFrame from the splitted texts\n",
    "df = pd.DataFrame({'pagewise_texts': page_contents})\n",
    "\n",
    "# Add a row number column\n",
    "df['page_id'] = df.index + 1\n",
    "# df['pagewise_texts'] = df['pagewise_texts'].page_content\n",
    "\n",
    "\n",
    "# Print the DataFrame\n",
    "print(df)"
   ]
  },
  {
   "cell_type": "code",
   "execution_count": 104,
   "id": "85a7d71d-37eb-476c-93d3-f4e6c9d3f8a9",
   "metadata": {
    "tags": []
   },
   "outputs": [],
   "source": [
    "from langchain.text_splitter import RecursiveCharacterTextSplitter\n",
    "\n",
    "chunk_size=100\n",
    "chunk_overlap=20\n",
    "\n",
    "text_splitter = RecursiveCharacterTextSplitter(\n",
    "    # Set a really small chunk size, just to show.\n",
    "    chunk_size=chunk_size,\n",
    "    chunk_overlap=chunk_overlap,\n",
    "    separators= [\"/,\", \"##\", \">\", \"We\"],#'\\n\\n', '\\n'],\n",
    "    length_function=len,\n",
    "    is_separator_regex=False,\n",
    ")\n",
    "\n",
    "# splitted_texts = text_splitter.create_documents([page_text])\n",
    "# print(\"one \\n\",splitted_texts[0])\n",
    "# print(\"two \\n\",splitted_texts[1])\n",
    "\n",
    "def split_text_chunks(text, chunk_size):\n",
    "    return [text[i:i+chunk_size] for i in range(0, len(text), chunk_size)]\n"
   ]
  },
  {
   "cell_type": "code",
   "execution_count": 105,
   "id": "7849def6-3b4f-4730-88f5-62161018200c",
   "metadata": {
    "scrolled": true,
    "tags": []
   },
   "outputs": [
    {
     "name": "stdout",
     "output_type": "stream",
     "text": [
      "['CHAPTER ONE\\nTHE BOY WHO LIVED\\nM r. and Mrs. Dursley, of number four, Privet Drive, were proud to say\\nthat they were perfectly normal, thank you very much. They were the last people\\nyou’d expect to be involved in anything strange or mysterious, because they just\\ndidn’t hold with such nonsense.\\nMr. Dursley was the director of a firm called Grunnings, which made\\ndrills. He was a big, beefy man with hardly any neck, although he did have a\\nvery large mustache. Mrs. Dursley was thin and blonde and had nearly twice the\\nusual amount of neck, which came in very useful as she spent so much of her\\ntime craning over garden fences, spying on the neighbors. The Dursleys had a\\nsmall\\nson called Dudley and in their opinion there was no finer boy anywhere.\\nThe Dursleys had everything they wanted, but they also had a secret, and\\ntheir greatest fear was that somebody would discover it. They didn’t think they\\ncould bear it if anyone found out about the Potters. Mrs. Potter was Mrs.\\nDursley’s sister, but they hadn’t met for several years; in fact, Mrs. Dursley\\npretended she didn’t have a sister, because her sister and her good-for-nothing\\nhusband were as unDursleyish as it was possible to be. The Dursleys shuddered\\nto think what the neighbors would say if the Potters arrived in the street. The\\nDursleys knew that the Potters had a small son, too, but they had never even\\nseen him. This boy was another good reason for keeping the Potters away; they\\ndidn’t want Dudley mixing with a child like that.\\nWhen Mr. and Mrs. Dursley woke up on the dull, gray Tuesday our story\\nstarts, there was nothing about the cloudy sky outside to suggest that strange and\\nmysterious things would soon be happening all over the country. Mr. Dursley\\nhummed as he picked out his most boring tie for work, and Mrs. Dursley\\ngossiped away happily as she wrestled a screaming Dudley into his high chair.\\nNone of them noticed a large, tawny owl flutter past the window.\\nAt half past eight, Mr. Dursley picked up his briefcase, pecked Mrs.\\nDursley on the cheek, and tried to kiss Dudley good-bye but missed, because\\nDudley was now having a tantrum and throwing his cereal at the walls.\\n“Little tyke,” chortled Mr. Dursley as he left the house. He got into his car\\nand backed out of number four’s drive.\\nIt was on the corner of the street that he noticed the first sign of\\n']\n",
      "['something peculiar — a cat reading a map. For a second, Mr. Dursley didn’t\\nrealize what he had seen — then he jerked his head around to look again. There\\nwas a tabby cat standing on the corner of Privet Drive, but there wasn’t a map in\\nsight. What could he have been thinking of? It must have been a trick of the\\nlight. Mr. Dursley blinked and stared at the cat. It stared back. As Mr. Dursley\\ndrove around the corner and up the road, he watched the cat in his mirror. It was\\nnow reading the sign that said Privet Drive — no, looking at the sign; cats\\ncouldn’t read maps or signs. Mr. Dursley gave himself a little shake and put the\\ncat out of his mind. As he drove toward town he thought of nothing except a\\nlarge order of drills he was hoping to get that day.\\nBut on the edge of town, drills were driven out of his mind by something\\nelse. As he sat in the usual morning traffic jam, he couldn’t help noticing that\\nthere seemed to be a lot of strangely dressed people about. People in cloaks. Mr.\\nDursley couldn’t bear people who dressed in funny clothes — the getups you\\nsaw on young people! He supposed this was some stupid new fashion. He\\ndrummed his fingers on the steering wheel and his eyes fell on a huddle of these\\nweirdos standing quite close by. They were whispering excitedly together. Mr.\\nDursley was enraged to see that a couple of them weren’t young at all; why, that\\nman had to be older than he was, and wearing an emerald-green cloak! The\\nnerve of him! But then it struck Mr. Dursley that this was probably some silly\\nstunt —these people were obviously collecting for something…yes, that would\\nbe it. The traffic moved on and a few minutes later, Mr. Dursley arrived in the\\nGrunnings parking lot, his mind back on drills.\\nMr. Dursley always sat with his back to the window in his office on the\\nninth floor. If he hadn’t, he might have found it harder to concentrate on drills\\nthat morning. He didn’t see the owls swooping past in broad daylight, though\\npeople down in the street did; they pointed and gazed open-mouthed as owl after\\nowl sped overhead. Most of them had never seen an owl even at nighttime. Mr.\\nDursley, however, had a perfectly normal, owl-free morning. He yelled at five\\ndifferent people. He made several important telephone calls and shouted a bit\\nmore. He was in a very good mood until lunchtime, when he thought he’d stretch\\nhis legs and walk across the road to buy himself a bun from the bakery.\\nHe’d for gotten all about the people in cloaks until he passed a group of\\nthem next to the baker’s. He eyed them angrily as he passed. He didn’t know\\nwhy, but they made him uneasy. This bunch were whispering excitedly, too, and\\nhe couldn’t see a single collecting tin. It was on his way back past them,\\nclutching a large doughnut in a bag, that he caught a few words of what they\\nwere saying.\\n“The Potters, that’s right, that’s what I heard —”\\n- \\n']\n",
      "['“\\n— yes, their son, Harry —”\\nMr. Dursley stopped dead. Fear flooded him. He looked back at the\\nwhisperers as if he wanted to say something to them, but thought better of it.\\nHe dashed back across the road, hurried up to his office, snapped at his\\nsecretary not to disturb him, seized his telephone, and had almost finished\\ndialing his home number when he changed his mind. He put the receiver back\\ndown and stroked his mustache, thinking…no, he was being stupid. Potter\\nwasn’t such an unusual name. He was sure there were lots of people called Potter\\nwho had a son called Harry. Come to think of it, he wasn’t even sure his nephew\\nwas called Harry. He’d never even seen the boy. It might have been Harvey. Or\\nHarold. There was no point in worrying Mrs. Dursley; she always got so upset at\\nany\\nmention of her sister. He didn’t blame her — if he’d had a sister like that…\\nbut all the same, those people in cloaks.…\\nHe found it a lot harder to concentrate on drills that afternoon and when\\nhe left the building at five o’clock, he was still so worried that he walked straight\\ninto someone just outside the door.\\n“Sorry,” he grunted, as the tiny old man stumbled and almost fell. It was\\na few seconds before Mr. Dursley realized that the man was wearing a violet\\ncloak. He didn’t seem at all\\nupset at being almost knocked to the ground. On the\\ncontrary, his face split into a wide smile and he said in a squeaky voice that made\\npassersby stare, “Don’t be sorry, my dear sir, for nothing could upset me today!\\nRejoice, for You-Know-Who has gone at last! Even Muggles like yourself\\nshould be celebrating, this happy, happy day!”\\nAnd the old man hugged Mr. Dursley around the middle and walked off.\\nMr. Dursley stood rooted to the spot. He had been hugged by a complete\\nstranger. He also thought he had been called a Muggle, whatever that was. He\\nwas rattled. He hurried to his car and set off for home, hoping he was imagining\\nthings, which he had never hoped before, because he didn’t approve of\\nimagination.\\nAs he pulled into the driveway of number four, the first thing he saw —\\nand it didn’t improve his mood — was the tabby cat he’d spotted that morning. It\\nwas now sitting on his garden wall. He was sure it was the same one; it had the\\nsame markings around its eyes.\\n- \\n“Shoo!” said Mr. Dursley loudly.\\nThe cat didn’t move. It just gave him a stern look. Was this normal cat\\nbehavior? Mr. Dursley wondered. Trying to pull himself together, he let himself\\ninto the house. He was still determined not to mention anything to his wife.\\nday. She told him over dinner all\\ndaughter and how Dudley had\\nMrs. Dursley had had a nice, normal\\nabout Mrs. Next Door’s problems with her\\n']\n",
      "['learned a new word (“Won’t!”). Mr. Dursley tried to act normally. When Dudley\\nhad been put to bed, he went into the living room in time to catch the last report\\non the evening news:\\n“And finally, bird-watchers everywhere have reported that the nation’s\\nowls have been behaving very unusually today. Although owls normally hunt at\\nnight and are hardly ever seen in daylight, there have been hundreds of sightings\\nof these birds flying in every\\ndirection since sunrise. Experts are unable to\\nexplain why the owls have suddenly changed their sleeping pattern.” The\\nnewscaster allowed himself a grin. “Most mysterious. And now, over to Jim\\nMcGuffin with the weather. Going to be any more showers of owls tonight,\\nJim?”\\n“', 'Well, Ted,” said the weatherman, “I don’t know about that, but it’s not\\nonly the owls that have been acting oddly today. Viewers as far apart as Kent,\\nYorkshire, and Dundee have been phoning in to tell me that instead of the rain I\\npromised yesterday, they’ve had a downpour of shooting stars! Perhaps people\\nhave been celebrating Bonfire Night early — it’s not until next week, folks! But\\nI can promise a wet night tonight.”\\nMr. Dursley sat frozen in his armchair. Shooting stars all over Britain?\\nOwls flying by daylight? Mysterious people in cloaks all over the place? And a\\nwhisper, a whisper about the Potters.…\\nMrs. Dursley came into the living room carrying two cups of tea. It was\\nno good. He’d have to say something to her. He cleared his throat nervously. “Er\\n— Petunia, dear — you haven’t heard from your sister lately, have you?”\\nAs he had expected, Mrs. Dursley looked shocked and angry. After all,\\nthey normally pretended she didn’t have a sister.\\n“No,” she said sharply. “Why?”\\n“Funny stuff on the news,” Mr. Dursley mumbled. “Owls…shooting\\nstars…and there were a lot of funny-looking people in town today.…”\\n“So?” snapped Mrs. Dursley.\\n“', 'Well, I just thought…maybe…it was something to do with…you\\nknow…her crowd.”\\nMrs. Dursley sipped her tea through pursed lips. Mr. Dursley wondered\\nwhether he dared tell her he’d heard the name “Potter.” He decided he didn’t\\ndare. Instead he said, as casually as he could, “Their son — he’d be about\\nDudley’s age now, wouldn’t he?”\\n“I suppose so,” said Mrs. Dursley stiffly.\\n“What’s his name again? Howard, isn’t it?”\\n“Harry. Nasty, common name, if you ask me.”\\n“Oh, yes,” said Mr. Dursley, his heart sinking horribly. “Yes, I quite\\n']\n",
      "['agree.”\\nHe didn’t say another word on the subject as they went upstairs to bed.\\nWhile Mrs. Dursley was in the bathroom, Mr. Dursley crept to the bedroom\\nwindow and peered down into the front garden. The cat was still there. It was\\nstaring down Privet Drive as though it were waiting for something.\\nWas he imagining things? Could all this have anything to do with the\\nPotters? If it did...if it got out that they were related to a pair of — well, he didn’t\\nthink he could bear it.\\nThe Dursleys got into bed. Mrs. Dursley fell asleep quickly but Mr.\\nDursley lay awake, turning it all over in his mind. His last, comforting thought\\nbefore he fell asleep was that even if the Potters were involved, there was no\\nreason for them to come near him and Mrs. Dursley. The Potters knew very well\\nwhat he and Petunia thought about them and their kind....He couldn’t see how he\\nand Petunia could get mixed up in anything that might be going on — he\\nyawned and turned over — it couldn’t affect them.…- \\nHow very wrong he was.\\nMr. Dursley might have been drifting into an uneasy sleep, but the cat on\\nthe wall outside was showing no sign of sleepiness. It was sitting as still as a\\nstatue, its eyes fixed unblinkingly on the far corner of Privet Drive. It didn’t so\\nmuch as quiver when a car door slammed on the next street, nor when two owls\\nswooped overhead. In fact, it was nearly midnight before the cat moved at all.\\nA man appeared on the corner the cat had been watching, appeared so\\nsuddenly and silently you’d have thought he’d just popped out of the ground.\\nThe cat’s tail twitched and its eyes\\nnarrowed.\\nNothing like this man had ever been seen on Privet Drive. He was tall,\\nthin, and\\nvery old, judging by the silver of his hair and beard, which were both\\nlong enough to tuck into his belt. He was wearing long robes, a purple cloak that\\nswept the ground, and high-heeled, buckled boots. His blue eyes were light,\\nbright, and sparkling behind half-moon spectacles and his nose was very long\\nand crooked, as though it had been broken at least twice. This man’s name was\\nAlbus Dumbledore.\\nAlbus Dumbledore didn’t seem to realize that he had just arrived in a\\nstreet where everything from his name to his boots was unwelcome. He was\\nbusy rummaging in his cloak, looking for something. But he did seem to realize\\nhe was being watched, because he looked up suddenly at the cat, which was still\\nstaring at him from the other end of the street. For some reason, the sight of the\\ncat seemed to amuse him. He chuckled and muttered, “I should have known.”\\nHe found what he was looking for in his inside pocket. It seemed to be a\\nsilver cigarette lighter. He flicked it open, held it up in the air, and clicked it. The\\n']\n",
      "['nearest street lamp went out with a little pop. He clicked it again — the next\\nlamp flickered into darkness. Twelve times he clicked the Put-Outer, until the\\nonly lights left on the whole street were two tiny pinpricks in the distance, which\\nwere the eyes of the cat watching him. If anyone looked out of their window\\nnow, even beady-eyed Mrs. Dursley, they wouldn’t be able to see anything that\\nwas happening down on the pavement. Dumbledore slipped the Put-Outer back\\ninside his cloak and set off down the street toward number four, where he sat\\ndown on the wall next to the cat. He didn’t look at it, but after a moment he\\nspoke to it.\\n“Fancy seeing you here, Professor McGonagall.”\\nHe turned to smile at the tabby, but it had gone. Instead he was smiling at\\na rather severe-looking woman who was wearing square glasses exactly the\\nshape of the markings the cat had had around its eyes. She, too, was wearing a\\ncloak, an emerald one. Her black hair was drawn into a tight bun. She looked\\ndistinctly ruffled.\\n“How did you know it was me?” she asked.\\n“My dear Professor, I’ve never seen a cat sit so stiffly.”\\n“You’d be stiff if you’d been sitting on a brick wall all day,” said\\nProfessor McGonagall.\\n“All day? When you could have been celebrating? I must have passed a\\ndozen feasts and parties on my way here.”\\nProfessor McGonagall sniffed angrily.\\n“Oh yes, I’ve celebrating, all right,” she said impatiently. “You’d think\\nthey’d be a bit more careful, but no —even the Muggles have noticed\\nsomething’s going on. It was on their news.” She jerked her head back at the\\nDursleys’ dark living-room window. “I heard it. Flocks of owls…shooting\\nstars…', 'Well, they’re not completely stupid. They were bound to notice\\nsomething. Shooting stars down in Kent — I’ll bet that was Dedalus Diggle. He\\nnever had much sense.”\\n“You can’t blame them,” said Dumbledore gently. “', 'We’ve had precious\\nlittle to celebrate for eleven years.”\\n“I know that,” said Professor McGonagall irritably. “But that’s no reason\\nto lose our heads. People are being downright careless, out on the streets in\\nbroad daylight, not even dressed in Muggle clothes, swapping rumors.”\\nShe threw a sharp, sideways glance at Dumbledore here, as though\\nhoping he was going to tell her something, but he didn’t, so she went on. “A fine\\nthing it would be if, on the very day You-Know-Who seems to have disappeared\\nat last, the Muggles found out about us all. I suppose he really has gone,\\nDumbledore?”\\n- \\n']\n",
      "['“It certainly seems so,” said Dumbledore. “', 'We have much to be thankful\\nfor. Would\\nyou care for a lemon drop?”\\n“A what?”\\n“A lemon drop. They’re a kind of Muggle sweet I’m rather fond of.”\\n“No, thank you,” said Professor McGonagall coldly, as though she didn’t\\nthink this was the moment for lemon drops. “As I say, even if You-Know-Who\\nhas gone —”\\n“My dear Professor, surely a sensible person like yourself can call him by\\nhis name? All this ‘You-Know-Who’ nonsense — for eleven years I have been\\ntrying to persuade people to call him by his proper name: Voldemort.” Professor\\nMcGonagall flinched, but Dumbledore, who was unsticking two lemon drops,\\nseemed not to notice. “It all gets so confusing if we keep saying ‘You-Know-\\nWho.’ I have never seen any reason to be frightened of saying Voldemort’s\\nname.”\\n“I know you haven’t, said Professor McGonagall, sounding half\\nexasperated, half admiring. “But you’re different. Everyone knows you’re the\\nonly one You-Know- oh, all right, Voldemort, was frightened of.”\\n“You flatter me,” said Dumbledore calmly. “Voldemort had powers I will\\nnever have.”\\n“Only because you’re too — well — noble to use them.”\\n“It’s lucky it’s dark. I haven’t blushed so much since Madam Pomfrey\\ntold me she liked my new earmuffs.”\\nProfessor McGonagall shot a sharp look at Dumbledore and said “The\\nowls are nothing next to the rumors that are flying around. You know what\\nthey’re saying? About why he’s disappeared? About what finally stopped him?”\\nIt seemed that Professor McGonagall had reached the point she was most\\nanxious to discuss, the real reason she had been waiting on a cold, hard wall all\\nday, for neither as a cat nor as a woman had she fixed Dumbledore with such a\\npiercing stare as she did now. It was plain that whatever “everyone” was saying,\\nshe was not going to believe it until Dumbledore told her it was true.\\nDumbledore, however, was choosing another lemon drop and did not answer.\\n“What they’re saying,” she pressed on, “is that last night Voldemort\\nturned up in Godric’s Hollow. He went to find the Potters. The rumor is that Lily\\nand James Potter are — are — that they’re — dead.”\\nDumbledore bowed his head. Professor McGonagall gasped.\\nAlbus…”\\n“Lily and James…I can’t believe it…I didn’t want to believe it…Oh,\\nDumbledore reached out and patted her on the shoulder. “I know…I\\nknow…” he said heavily.\\n']\n",
      "['Professor McGonagall’s voice trembled as she went on. “That’s not all.\\nThey’re saying he tried to kill the Potter’s son, Harry. But he couldn’t. He\\ncouldn’t kill that little boy. No one knows why, or how, but they’re saying that\\nwhen he couldn’t kill Harry Potter, Voldemort’s power somehow broke — and\\nthat’s why he’s gone.”\\nDumbledore nodded glumly.\\n“It’s — it’s true?” faltered Professor McGonagall. “After all he’s done…\\nall the people he’s killed…he couldn’t kill a little boy? It’s just astounding…of\\nall the things to stop him…but how in the name of heaven did Harry survive?”\\n“', 'We can only guess.” said Dumbledore. “', 'We may never know.”\\nProfessor McGonagall pulled out a lace handkerchief and dabbed at her\\neyes beneath her spectacles. Dumbledore gave a great sniff as he took a golden\\nwatch from his pocket and examined it. It was a very odd watch. It had twelve\\nhands but no numbers; instead, little planets were moving around the edge. It\\nmust have made sense to Dumbledore, though, because he put it back in his\\npocket and said, “Hagrid’s late. I suppose it was he who told you I’d be here, by\\nthe way?”\\n“Yes,” said Professor McGonagall. “And I don’t suppose you’re going to\\ntell me why you’re here, of all places?”\\n“I’ve come to bring Harry to his aunt and uncle. They’re the only family\\nhe has left now.”\\n“You don’t mean – you can’t mean the people who live here?” cried\\nProfessor McGonagall, jumping to her feet and pointing at number four.\\n“Dumbledore — you can’t. I’ve been watching them all day. You couldn’t find\\ntwo people who are less like us. And they’ve got this son — I saw him kicking\\nhis mother all the way up the street, screaming for sweets. Harry Potter come\\nand live here!”\\n“It’s the best place for him,” said Dumbledore firmly. “His aunt and\\nuncle will be able to explain everything to him when he’s older. I’ve written\\nthem a letter.”\\n“A letter?” repeated Professor McGonagall faintly, sitting back down on\\nthe wall. “Really, Dumbledore, you think you can explain all this in a letter?\\nThese people will never understand him! He’ll be famous — a legend — I\\nwouldn’t be surprised if today was known as Harry Potter day in the future —\\nthere will be books written about Harry — every child in our world will know\\nhis name!”\\n“Exactly.” said Dumbledore, looking very seriously over the top of his\\nhalf-moon glasses. “It would be enough to turn any boy’s head. Famous before\\nhe can walk and talk! Famous for something he won’t even remember! Can you\\n- \\n- \\n']\n",
      "['see how much better off he’ll be, growing up away from all that until he’s ready\\nto take it?”\\nProfessor McGonagall opened her mouth, changed her mind, swallowed,\\nand then said, “Yes — yes, you’re right, of course. But how is the boy getting\\nhere, Dumbledore?” She eyed his cloak suddenly as though she thought he might\\nbe hiding Harry underneath it.\\nthis?”\\n“Hagrid’s bringing him.”\\n“You think it — wise — to trust Hagrid with something as important as\\n“I would trust Hagrid with my life,” said Dumbledore.\\n“I’m not saying his heart isn’t in the right place,” said Professor\\nMcGonagall grudgingly, “but you can’t pretend he’s not careless. He does tend\\nto — what was that?”\\nA low rumbling sound had broken the silence around them. It grew\\nsteadily louder as they looked up and down the street for some sign of a\\nheadlight; it swelled to a roar as they both looked up at the sky — and a huge\\nmotorcycle fell out of the air and landed on the road in front of them.\\nIf the motorcycle was huge, it was nothing to the man sitting astride it.\\nHe was almost twice as tall as a normal man and at least five times as wide. He\\nlooked simply too big to be allowed, and so wild — long tangles of bushy black\\nhair and beard hid most of his face, he had hands the size of trash can lids, and\\nhis feet in their leather boots were like baby dolphins. In his vast, muscular arms\\nhe was holding a bundle of blankets.\\n“Hagrid,” said Dumbledore, sounding relieved. “At last. And where did\\nyou get that motorcycle?”\\n“Borrowed it, Professor Dumbledore, sir,” said the giant, climbing\\ncarefully off the motorcycle as he spoke. “Young Sirius Black lent it to me. I’ve\\ngot him, sir.”\\n“No problems, were there?”\\n“No, sir — house was almost destroyed, but I got him out all right before\\nthe Muggles started swarmin’ around. He fell asleep as we was flyin’ over\\nBristol.”\\nDumbledore and Professor McGonagall bent forward over the bundle of\\nblankets. Inside, just visible, was a baby boy, fast asleep. Under a tuft of jet-\\nblack hair over his forehead they could see a curiously shaped cut,\\nlike a bolt of\\nlightning.\\n“Is that where —?” whispered Professor McGonagall.\\n“Yes,” said Dumbledore. “He’ll have that scar forever.”\\n“Couldn’t you do something about it, Dumbledore?”\\n']\n",
      "['“Even if I could, I wouldn’t. Scars can come in handy. I have one myself\\nabove my left knee that is a perfect map of the London Underground. ', 'Well —\\ngive him here, Hagrid — we’d better get this over with.”\\nhouse.\\nDumbledore took Harry in his arms and turned toward the Dursleys’\\n“Could I — could I say good-bye to him, sir?” asked Hagrid. He bent his\\ngreat, shaggy head over Harry and gave him what must have been a very\\nscratchy, whiskery kiss. Then, suddenly, Hagrid let out a howl like a wounded\\ndog.\\n“Shhh!” hissed Professor McGonagall, “You’ll wake the Muggles!”\\n“S-s-sorry,” sobbed Hagrid, taking out a large, spotted handkerchief and\\nburying his face in it. “But I c-c-can’t stand it —Lily an’James dead — an’ poor\\nlittle Harry off ter live with Muggles —”\\n“Yes, yes, it’s all very sad, but get a grip on yourself, Hagrid, or we’ll be\\nfound,” Professor McGonagall whispered, patting Hagrid gingerly on the arm as\\nDumbledore stepped over the low garden wall and walked to the front door. He\\nlaid Harry gently on the doorstep, took a letter out of his cloak, tucked it inside\\nHarry’s blankets, and then came back to the other two. For a full minute the\\nthree of them stood and looked at the little bundle; Hagrid’s shoulders shook,\\nProfessor McGonagall blinked furiously, and the twinkling light that usually\\nshone from Dumbledore’s eyes seemed to have gone out.\\n“', 'Well,” said Dumbledore finally, “that’s that. We’ve no business staying\\nhere.', 'We may as well go and join the celebrations.”\\n“Yeah,” said Hagrid in a very muffled voice, “I’ll be takin’ Sirius his bike\\nback. G’night, Professor McGonagall — Professor Dumbledore, sir.”\\nWiping his streaming eyes on his jacket sleeve, Hagrid swung himself\\nonto the motorcycle and kicked the engine into life; with a roar it rose into the\\nair and off into the night.\\n“I shall see you soon, I expect, Professor McGonagall,” said\\nDumbledore, nodding to her. Professor McGonagall blew her nose in reply.\\nDumbledore turned and walked back down the street. On the corner he\\nstopped and took out the silver Put-Outer. He clicked it once, and twelve balls of\\nlight sped back to their street lamps so that Privet Drive glowed suddenly orange\\nand he could make out a tabby cat slinking around the corner at the other end of\\nthe street. He could just see the bundle of blankets on the step of number four.\\n“Good luck, Harry,” he murmured. He turned on his heel and with a\\nswish of his cloak, he was gone.\\nA breeze ruffled the neat hedges of Privet Drive, which lay silent and tidy\\nunder the inky sky, the very last place you would expect astonishing things to\\n']\n",
      "['happen. Harry Potter rolled over inside his blankets without waking up. One\\nsmall hand closed on the letter beside him and he slept on, not knowing he was\\nspecial, not knowing he was famous, not knowing he would be woken in a few\\nhours’ time by Mrs. Dursley’s scream as she opened the front door to put out the\\nmilk bottles, nor that he would spend the next few weeks being prodded and\\npinched by his cousin Dudley....He couldn’t know that at this very moment,\\npeople meeting in secret all over the country were holding up their glasses and\\nsaying in hushed voices: “To Harry Potter — the boy who lived!”\\n']\n",
      "[\"HP 1 - Harry Potter and the\\nSorcerer's Stone\"]\n",
      "['CHAPTER TWO\\nTHE VANISHING GLASS\\nN early ten years had passed since the Dursleys had woken up to find their\\nnephew on the front step, but Privet Drive had hardly changed at all. The sun\\nrose on the same tidy front gardens and lit up the brass number four on the\\nDursleys’ front door; it\\ncrept into their living room, which was almost exactly\\nthe same as it had been on the night when Mr. Dursley had seen that fateful news\\nreport about the owls. Only the photographs on the mantelpiece really showed\\nhow much time had passed. Ten years ago, there had been lots of pictures of\\nwhat looked like a large pink beach ball wearing different-colored bonnets —\\nbut Dudley Dursley was no longer a baby, and now the photographs showed a\\nlarge blond boy riding his first bicycle, on a carousel at the fair, playing a\\ncomputer game with his father, being hugged and kissed by his mother. The\\nroom held no sign at all that another boy lived in the house, too.\\nYet\\nHarry Potter was still there, asleep at the moment, but not for long.\\nHis Aunt Petunia was awake and it was her shrill voice that made the first noise\\nof the day.\\n“Up! Get up! Now!”\\nHarry woke with a start. His aunt rapped on the door again.\\n“Up!” she screeched. Harry heard her walking toward the kitchen and\\nthen the sound of the frying pan being put on the stove. He rolled onto his back\\nand tried to remember the dream he had been having. It had been a good one.\\nThere had been a flying motorcycle in it. He had a funny feeling he’d had the\\nsame dream before.\\nHis aunt was back outside the door.\\n“Are\\nyou up yet?” she demanded.\\n“Nearly,” said Harry.\\n“', 'Well, get a move on, I want you to look after the bacon. And don’t you\\ndare let it burn, I want everything perfect on Duddy’s birthday.”\\nHarry groaned.\\n“What did you say?” his aunt snapped through the door.\\n“Nothing, nothing…”\\nDudley’s birthday — how could he have forgotten? Harry got slowly out\\nof bed and started looking for socks. He found a pair under his bed and, after\\n']\n",
      "['pulling a spider off one of them, put them on. Harry was used to spiders, because\\nthe cupboard under the stairs was full of them, and that was where he slept.\\nWhen he was dressed he went down the hall into the kitchen. The table\\nwas almost hidden beneath all Dudley’s birthday presents. It looked as though\\nDudley had gotten the new computer he wanted, not to mention the second\\ntelevision and the racing bike. Exactly why Dudley wanted a racing bike was a\\nmystery to Harry, as Dudley was very fat and hated exercise — unless of course\\nit involved punching somebody. Dudley’s favorite punching bag was Harry, but\\nhe couldn’t often catch him. Harry didn’t look it, but he was very fast.\\nPerhaps it had something to do with living in a dark cupboard, but Harry\\nhad always been small and skinny for his age. He looked even smaller and\\nskinnier than he really was because all he had to wear were old clothes of\\nDudley’s, and Dudley was about four times bigger than he was. Harry had a thin\\nface, knobbly knees, black hair, and bright green eyes. He wore round glasses\\nheld together with a lot of Scotch tape because of all the times Dudley had\\npunched him on the nose. The only thing Harry liked about his own appearance\\nwas a very thin scar on his forehead that was shaped like a bolt of lightning. He\\nhad had it as long as he could remember, and the first question he could ever\\nremember asking his Aunt Petunia was how he had gotten it.\\n“In the car crash when your parents died,” she had said. “And don’t ask\\nquestions.”\\nDursleys.\\nDon’t ask questions — that was the first rule for a quiet life with the\\nUncle Vernon entered the kitchen as Harry was turning over the bacon.\\n“Comb your hair!” he barked, by way of a morning greeting.\\nAbout once a week, Uncle Vernon looked over the top of his newspaper\\nand shouted that Harry needed a haircut. Harry must have had more haircuts than\\nthe rest of the boys in his class\\nput together, but it made no difference, his hair\\nsimply grew that way — all over the place.\\nHarry was frying eggs by the time Dudley arrived in the kitchen with his\\nmother. Dudley looked a lot like Uncle Vernon. He had a large pink face, not\\nmuch neck, small, watery blue eyes, and thick blond hair that lay smoothly on\\nhis thick, fat head. Aunt Petunia often said that Dudley looked like a baby angel\\n— Harry often said that Dudley looked like a pig in a wig.\\nHarry put the plates of egg and bacon on the table, which was difficult as\\nthere wasn’t much room. Dudley, meanwhile, was counting his presents. His\\nface fell.\\n“Thirty-six,” he said, looking up at his mother and father. “That’s two\\nless than last year.”\\n- \\n']\n",
      "['“Darling, you haven’t counted Auntie Marge’s present, see, it’s here\\nunder this big one from Mummy and Daddy.”\\n“All right, thirty-seven then,” said Dudley, going red in the face. Harry,\\nwho could see a huge Dudley tantrum coming on, began wolfing down his bacon\\nas fast as possible in case Dudley turned the table over.\\nAunt Petunia obviously scented danger, too, because she said quickly,\\n“And we’ll buy you another two presents while we’re out today. How’s that,\\npopkin? Two more presents. Is that all right”\\nDudley thought for a moment. It looked like hard work. Finally he said\\nslowly, “So I’ll have thirty...thirty...”\\nthen.”\\n“Thirty-nine, sweetums,” said Aunt Petunia.\\n“Oh.” Dudley sat down heavily and grabbed the nearest parcel. “All right\\nUncle Vernon chuckled.\\n“Little tyke wants his money’s worth, just like his father. ’Atta boy,\\nDudley!” He ruffled Dudley’s hair.\\nAt that moment the telephone rang and Aunt Petunia went to answer it\\nwhile Harry and Uncle Vernon watched Dudley unwrap the racing bike, a video\\ncamera, a remote control airplane, sixteen new computer games, and a VCR. He\\nwas ripping the paper off a gold wristwatch when Aunt Petunia came back from\\nthe telephone looking both angry and worried.\\n“Bad news, Vernon,” she said. “Mrs. Figg’s broken her leg. She can’t\\ntake him.” She jerked her head in Harry’s direction.\\nDudley’s mouth fell open in horror, but Harry’s heart gave a leap. Every\\nyear on Dudley’s birthday, his parents took him and a friend out for the day, to\\nadventure parks, hamburger restaurants, or the movies. Every year, Harry was\\nleft behind with Mrs. Figg, a mad old lady who lived two streets away. Harry\\nhated it there. The whole house smelled of cabbage and Mrs. Figg made him\\nlook at photographs of all the cats she’d ever owned.\\n“Now what?” said Aunt\\nhe’d planned this. Harry knew he\\nPetunia, looking furiously at Harry as though\\nought to feel sorry that Mrs. Figg had broken\\nher leg, but it wasn’t easy when he reminded himself it would be a whole year\\nbefore he had to look at Tibbles, Snowy, Mr. Paws, and Tufty again.\\n“', 'We could phone Marge,” Uncle Vernon suggested.\\n“Don’t be silly, Vernon, she hates the boy.”\\nThe Dursleys often spoke about Harry like this, as though he wasn’t there\\n— or rather, as though he was something very nasty\\nthat couldn’t understand\\nthem, like a slug.\\n“What about what’s-her-name, your friend — Yvonne?”-\\n']\n"
     ]
    }
   ],
   "source": [
    "splitted_texts = []\n",
    "\n",
    "for index, row in df.iterrows():\n",
    "    splitted_texts += text_splitter.create_documents(row['pagewise_texts'])\n",
    "    splitted_texts2 = text_splitter.split_text(row['pagewise_texts'])\n",
    "    print(splitted_texts2)\n",
    "\n",
    "    # df['splitted_texts'] = splitted_texts2\n",
    "    \n",
    "    df['splitted_texts'] = df['pagewise_texts'].apply(lambda x: text_splitter.split_text(x))\n"
   ]
  },
  {
   "cell_type": "code",
   "execution_count": 106,
   "id": "b6b25195-3489-4a9b-885d-7e173f2ecd26",
   "metadata": {
    "tags": []
   },
   "outputs": [
    {
     "data": {
      "text/html": [
       "<div>\n",
       "<style scoped>\n",
       "    .dataframe tbody tr th:only-of-type {\n",
       "        vertical-align: middle;\n",
       "    }\n",
       "\n",
       "    .dataframe tbody tr th {\n",
       "        vertical-align: top;\n",
       "    }\n",
       "\n",
       "    .dataframe thead th {\n",
       "        text-align: right;\n",
       "    }\n",
       "</style>\n",
       "<table border=\"1\" class=\"dataframe\">\n",
       "  <thead>\n",
       "    <tr style=\"text-align: right;\">\n",
       "      <th></th>\n",
       "      <th>pagewise_texts</th>\n",
       "      <th>page_id</th>\n",
       "      <th>splitted_texts</th>\n",
       "    </tr>\n",
       "  </thead>\n",
       "  <tbody>\n",
       "    <tr>\n",
       "      <th>0</th>\n",
       "      <td>CHAPTER ONE\\nTHE BOY WHO LIVED\\nM r. and Mrs. ...</td>\n",
       "      <td>1</td>\n",
       "      <td>[CHAPTER ONE\\nTHE BOY WHO LIVED\\nM r. and Mrs....</td>\n",
       "    </tr>\n",
       "    <tr>\n",
       "      <th>1</th>\n",
       "      <td>something peculiar — a cat reading a map. For ...</td>\n",
       "      <td>2</td>\n",
       "      <td>[something peculiar — a cat reading a map. For...</td>\n",
       "    </tr>\n",
       "    <tr>\n",
       "      <th>2</th>\n",
       "      <td>“\\n— yes, their son, Harry —”\\nMr. Dursley sto...</td>\n",
       "      <td>3</td>\n",
       "      <td>[“\\n— yes, their son, Harry —”\\nMr. Dursley st...</td>\n",
       "    </tr>\n",
       "    <tr>\n",
       "      <th>3</th>\n",
       "      <td>learned a new word (“Won’t!”). Mr. Dursley tri...</td>\n",
       "      <td>4</td>\n",
       "      <td>[learned a new word (“Won’t!”). Mr. Dursley tr...</td>\n",
       "    </tr>\n",
       "    <tr>\n",
       "      <th>4</th>\n",
       "      <td>agree.”\\nHe didn’t say another word on the sub...</td>\n",
       "      <td>5</td>\n",
       "      <td>[agree.”\\nHe didn’t say another word on the su...</td>\n",
       "    </tr>\n",
       "  </tbody>\n",
       "</table>\n",
       "</div>"
      ],
      "text/plain": [
       "                                      pagewise_texts  page_id  \\\n",
       "0  CHAPTER ONE\\nTHE BOY WHO LIVED\\nM r. and Mrs. ...        1   \n",
       "1  something peculiar — a cat reading a map. For ...        2   \n",
       "2  “\\n— yes, their son, Harry —”\\nMr. Dursley sto...        3   \n",
       "3  learned a new word (“Won’t!”). Mr. Dursley tri...        4   \n",
       "4  agree.”\\nHe didn’t say another word on the sub...        5   \n",
       "\n",
       "                                      splitted_texts  \n",
       "0  [CHAPTER ONE\\nTHE BOY WHO LIVED\\nM r. and Mrs....  \n",
       "1  [something peculiar — a cat reading a map. For...  \n",
       "2  [“\\n— yes, their son, Harry —”\\nMr. Dursley st...  \n",
       "3  [learned a new word (“Won’t!”). Mr. Dursley tr...  \n",
       "4  [agree.”\\nHe didn’t say another word on the su...  "
      ]
     },
     "execution_count": 106,
     "metadata": {},
     "output_type": "execute_result"
    }
   ],
   "source": [
    "df.head()"
   ]
  },
  {
   "cell_type": "code",
   "execution_count": 107,
   "id": "a267b04f-d44a-4f9f-96da-0cc56bb36097",
   "metadata": {
    "tags": []
   },
   "outputs": [],
   "source": [
    "df_exploded = df.explode('splitted_texts')\n"
   ]
  },
  {
   "cell_type": "code",
   "execution_count": 108,
   "id": "6a7222b8-6e5d-4246-a307-2beea574e2b4",
   "metadata": {
    "tags": []
   },
   "outputs": [
    {
     "data": {
      "text/html": [
       "<div>\n",
       "<style scoped>\n",
       "    .dataframe tbody tr th:only-of-type {\n",
       "        vertical-align: middle;\n",
       "    }\n",
       "\n",
       "    .dataframe tbody tr th {\n",
       "        vertical-align: top;\n",
       "    }\n",
       "\n",
       "    .dataframe thead th {\n",
       "        text-align: right;\n",
       "    }\n",
       "</style>\n",
       "<table border=\"1\" class=\"dataframe\">\n",
       "  <thead>\n",
       "    <tr style=\"text-align: right;\">\n",
       "      <th></th>\n",
       "      <th>pagewise_texts</th>\n",
       "      <th>page_id</th>\n",
       "      <th>splitted_texts</th>\n",
       "    </tr>\n",
       "  </thead>\n",
       "  <tbody>\n",
       "    <tr>\n",
       "      <th>0</th>\n",
       "      <td>CHAPTER ONE\\nTHE BOY WHO LIVED\\nM r. and Mrs. ...</td>\n",
       "      <td>1</td>\n",
       "      <td>CHAPTER ONE\\nTHE BOY WHO LIVED\\nM r. and Mrs. ...</td>\n",
       "    </tr>\n",
       "    <tr>\n",
       "      <th>1</th>\n",
       "      <td>something peculiar — a cat reading a map. For ...</td>\n",
       "      <td>2</td>\n",
       "      <td>something peculiar — a cat reading a map. For ...</td>\n",
       "    </tr>\n",
       "    <tr>\n",
       "      <th>2</th>\n",
       "      <td>“\\n— yes, their son, Harry —”\\nMr. Dursley sto...</td>\n",
       "      <td>3</td>\n",
       "      <td>“\\n— yes, their son, Harry —”\\nMr. Dursley sto...</td>\n",
       "    </tr>\n",
       "    <tr>\n",
       "      <th>3</th>\n",
       "      <td>learned a new word (“Won’t!”). Mr. Dursley tri...</td>\n",
       "      <td>4</td>\n",
       "      <td>learned a new word (“Won’t!”). Mr. Dursley tri...</td>\n",
       "    </tr>\n",
       "    <tr>\n",
       "      <th>3</th>\n",
       "      <td>learned a new word (“Won’t!”). Mr. Dursley tri...</td>\n",
       "      <td>4</td>\n",
       "      <td>Well, Ted,” said the weatherman, “I don’t know...</td>\n",
       "    </tr>\n",
       "  </tbody>\n",
       "</table>\n",
       "</div>"
      ],
      "text/plain": [
       "                                      pagewise_texts  page_id  \\\n",
       "0  CHAPTER ONE\\nTHE BOY WHO LIVED\\nM r. and Mrs. ...        1   \n",
       "1  something peculiar — a cat reading a map. For ...        2   \n",
       "2  “\\n— yes, their son, Harry —”\\nMr. Dursley sto...        3   \n",
       "3  learned a new word (“Won’t!”). Mr. Dursley tri...        4   \n",
       "3  learned a new word (“Won’t!”). Mr. Dursley tri...        4   \n",
       "\n",
       "                                      splitted_texts  \n",
       "0  CHAPTER ONE\\nTHE BOY WHO LIVED\\nM r. and Mrs. ...  \n",
       "1  something peculiar — a cat reading a map. For ...  \n",
       "2  “\\n— yes, their son, Harry —”\\nMr. Dursley sto...  \n",
       "3  learned a new word (“Won’t!”). Mr. Dursley tri...  \n",
       "3  Well, Ted,” said the weatherman, “I don’t know...  "
      ]
     },
     "execution_count": 108,
     "metadata": {},
     "output_type": "execute_result"
    }
   ],
   "source": [
    "df_exploded.head()"
   ]
  },
  {
   "cell_type": "code",
   "execution_count": 109,
   "id": "a35b6077-7c84-4c44-82ae-a865810cb9b8",
   "metadata": {
    "scrolled": true,
    "tags": []
   },
   "outputs": [
    {
     "data": {
      "text/plain": [
       "26862"
      ]
     },
     "execution_count": 109,
     "metadata": {},
     "output_type": "execute_result"
    }
   ],
   "source": [
    "len(splitted_texts)"
   ]
  },
  {
   "cell_type": "code",
   "execution_count": 110,
   "id": "c4988dab-d7c3-4988-bd27-6359098c8365",
   "metadata": {
    "tags": []
   },
   "outputs": [],
   "source": [
    "df_exploded['splitted_texts_chunks'] = df_exploded['splitted_texts'].apply(lambda x: split_text_chunks(x,chunk_size))\n"
   ]
  },
  {
   "cell_type": "code",
   "execution_count": 111,
   "id": "438ea015-68c8-4b06-bfb5-5eea63e9433d",
   "metadata": {
    "tags": []
   },
   "outputs": [],
   "source": [
    "df_exploded_2 = df_exploded.explode('splitted_texts_chunks')\n"
   ]
  },
  {
   "cell_type": "code",
   "execution_count": 112,
   "id": "5d5ccfa3-6a59-47c5-a5f9-2ddeb44a4603",
   "metadata": {
    "tags": []
   },
   "outputs": [
    {
     "data": {
      "text/html": [
       "<div>\n",
       "<style scoped>\n",
       "    .dataframe tbody tr th:only-of-type {\n",
       "        vertical-align: middle;\n",
       "    }\n",
       "\n",
       "    .dataframe tbody tr th {\n",
       "        vertical-align: top;\n",
       "    }\n",
       "\n",
       "    .dataframe thead th {\n",
       "        text-align: right;\n",
       "    }\n",
       "</style>\n",
       "<table border=\"1\" class=\"dataframe\">\n",
       "  <thead>\n",
       "    <tr style=\"text-align: right;\">\n",
       "      <th></th>\n",
       "      <th>pagewise_texts</th>\n",
       "      <th>page_id</th>\n",
       "      <th>splitted_texts</th>\n",
       "      <th>splitted_texts_chunks</th>\n",
       "    </tr>\n",
       "  </thead>\n",
       "  <tbody>\n",
       "    <tr>\n",
       "      <th>0</th>\n",
       "      <td>CHAPTER ONE\\nTHE BOY WHO LIVED\\nM r. and Mrs. ...</td>\n",
       "      <td>1</td>\n",
       "      <td>CHAPTER ONE\\nTHE BOY WHO LIVED\\nM r. and Mrs. ...</td>\n",
       "      <td>CHAPTER ONE\\nTHE BOY WHO LIVED\\nM r. and Mrs. ...</td>\n",
       "    </tr>\n",
       "    <tr>\n",
       "      <th>0</th>\n",
       "      <td>CHAPTER ONE\\nTHE BOY WHO LIVED\\nM r. and Mrs. ...</td>\n",
       "      <td>1</td>\n",
       "      <td>CHAPTER ONE\\nTHE BOY WHO LIVED\\nM r. and Mrs. ...</td>\n",
       "      <td>\\nthat they were perfectly normal, thank you v...</td>\n",
       "    </tr>\n",
       "    <tr>\n",
       "      <th>0</th>\n",
       "      <td>CHAPTER ONE\\nTHE BOY WHO LIVED\\nM r. and Mrs. ...</td>\n",
       "      <td>1</td>\n",
       "      <td>CHAPTER ONE\\nTHE BOY WHO LIVED\\nM r. and Mrs. ...</td>\n",
       "      <td>involved in anything strange or mysterious, be...</td>\n",
       "    </tr>\n",
       "    <tr>\n",
       "      <th>0</th>\n",
       "      <td>CHAPTER ONE\\nTHE BOY WHO LIVED\\nM r. and Mrs. ...</td>\n",
       "      <td>1</td>\n",
       "      <td>CHAPTER ONE\\nTHE BOY WHO LIVED\\nM r. and Mrs. ...</td>\n",
       "      <td>rsley was the director of a firm called Grunni...</td>\n",
       "    </tr>\n",
       "    <tr>\n",
       "      <th>0</th>\n",
       "      <td>CHAPTER ONE\\nTHE BOY WHO LIVED\\nM r. and Mrs. ...</td>\n",
       "      <td>1</td>\n",
       "      <td>CHAPTER ONE\\nTHE BOY WHO LIVED\\nM r. and Mrs. ...</td>\n",
       "      <td>ardly any neck, although he did have a\\nvery l...</td>\n",
       "    </tr>\n",
       "    <tr>\n",
       "      <th>0</th>\n",
       "      <td>CHAPTER ONE\\nTHE BOY WHO LIVED\\nM r. and Mrs. ...</td>\n",
       "      <td>1</td>\n",
       "      <td>CHAPTER ONE\\nTHE BOY WHO LIVED\\nM r. and Mrs. ...</td>\n",
       "      <td>nearly twice the\\nusual amount of neck, which...</td>\n",
       "    </tr>\n",
       "    <tr>\n",
       "      <th>0</th>\n",
       "      <td>CHAPTER ONE\\nTHE BOY WHO LIVED\\nM r. and Mrs. ...</td>\n",
       "      <td>1</td>\n",
       "      <td>CHAPTER ONE\\nTHE BOY WHO LIVED\\nM r. and Mrs. ...</td>\n",
       "      <td>raning over garden fences, spying on the neigh...</td>\n",
       "    </tr>\n",
       "    <tr>\n",
       "      <th>0</th>\n",
       "      <td>CHAPTER ONE\\nTHE BOY WHO LIVED\\nM r. and Mrs. ...</td>\n",
       "      <td>1</td>\n",
       "      <td>CHAPTER ONE\\nTHE BOY WHO LIVED\\nM r. and Mrs. ...</td>\n",
       "      <td>n their opinion there was no finer boy anywher...</td>\n",
       "    </tr>\n",
       "    <tr>\n",
       "      <th>0</th>\n",
       "      <td>CHAPTER ONE\\nTHE BOY WHO LIVED\\nM r. and Mrs. ...</td>\n",
       "      <td>1</td>\n",
       "      <td>CHAPTER ONE\\nTHE BOY WHO LIVED\\nM r. and Mrs. ...</td>\n",
       "      <td>lso had a secret, and\\ntheir greatest fear was...</td>\n",
       "    </tr>\n",
       "    <tr>\n",
       "      <th>0</th>\n",
       "      <td>CHAPTER ONE\\nTHE BOY WHO LIVED\\nM r. and Mrs. ...</td>\n",
       "      <td>1</td>\n",
       "      <td>CHAPTER ONE\\nTHE BOY WHO LIVED\\nM r. and Mrs. ...</td>\n",
       "      <td>y\\ncould bear it if anyone found out about the...</td>\n",
       "    </tr>\n",
       "  </tbody>\n",
       "</table>\n",
       "</div>"
      ],
      "text/plain": [
       "                                      pagewise_texts  page_id  \\\n",
       "0  CHAPTER ONE\\nTHE BOY WHO LIVED\\nM r. and Mrs. ...        1   \n",
       "0  CHAPTER ONE\\nTHE BOY WHO LIVED\\nM r. and Mrs. ...        1   \n",
       "0  CHAPTER ONE\\nTHE BOY WHO LIVED\\nM r. and Mrs. ...        1   \n",
       "0  CHAPTER ONE\\nTHE BOY WHO LIVED\\nM r. and Mrs. ...        1   \n",
       "0  CHAPTER ONE\\nTHE BOY WHO LIVED\\nM r. and Mrs. ...        1   \n",
       "0  CHAPTER ONE\\nTHE BOY WHO LIVED\\nM r. and Mrs. ...        1   \n",
       "0  CHAPTER ONE\\nTHE BOY WHO LIVED\\nM r. and Mrs. ...        1   \n",
       "0  CHAPTER ONE\\nTHE BOY WHO LIVED\\nM r. and Mrs. ...        1   \n",
       "0  CHAPTER ONE\\nTHE BOY WHO LIVED\\nM r. and Mrs. ...        1   \n",
       "0  CHAPTER ONE\\nTHE BOY WHO LIVED\\nM r. and Mrs. ...        1   \n",
       "\n",
       "                                      splitted_texts  \\\n",
       "0  CHAPTER ONE\\nTHE BOY WHO LIVED\\nM r. and Mrs. ...   \n",
       "0  CHAPTER ONE\\nTHE BOY WHO LIVED\\nM r. and Mrs. ...   \n",
       "0  CHAPTER ONE\\nTHE BOY WHO LIVED\\nM r. and Mrs. ...   \n",
       "0  CHAPTER ONE\\nTHE BOY WHO LIVED\\nM r. and Mrs. ...   \n",
       "0  CHAPTER ONE\\nTHE BOY WHO LIVED\\nM r. and Mrs. ...   \n",
       "0  CHAPTER ONE\\nTHE BOY WHO LIVED\\nM r. and Mrs. ...   \n",
       "0  CHAPTER ONE\\nTHE BOY WHO LIVED\\nM r. and Mrs. ...   \n",
       "0  CHAPTER ONE\\nTHE BOY WHO LIVED\\nM r. and Mrs. ...   \n",
       "0  CHAPTER ONE\\nTHE BOY WHO LIVED\\nM r. and Mrs. ...   \n",
       "0  CHAPTER ONE\\nTHE BOY WHO LIVED\\nM r. and Mrs. ...   \n",
       "\n",
       "                               splitted_texts_chunks  \n",
       "0  CHAPTER ONE\\nTHE BOY WHO LIVED\\nM r. and Mrs. ...  \n",
       "0  \\nthat they were perfectly normal, thank you v...  \n",
       "0  involved in anything strange or mysterious, be...  \n",
       "0  rsley was the director of a firm called Grunni...  \n",
       "0  ardly any neck, although he did have a\\nvery l...  \n",
       "0   nearly twice the\\nusual amount of neck, which...  \n",
       "0  raning over garden fences, spying on the neigh...  \n",
       "0  n their opinion there was no finer boy anywher...  \n",
       "0  lso had a secret, and\\ntheir greatest fear was...  \n",
       "0  y\\ncould bear it if anyone found out about the...  "
      ]
     },
     "execution_count": 112,
     "metadata": {},
     "output_type": "execute_result"
    }
   ],
   "source": [
    "df_exploded_2.head(10)"
   ]
  },
  {
   "cell_type": "code",
   "execution_count": 113,
   "id": "7c998451-022c-4375-8087-9712e74b09c6",
   "metadata": {
    "scrolled": true,
    "tags": []
   },
   "outputs": [],
   "source": [
    "# df_exploded_2 = df_exploded_2.rename(columns={'page_id': 'id'})\n",
    "\n",
    "df_exploded_2x = df_exploded_2.copy()\n",
    "\n",
    "df_exploded_2x = df_exploded_2x.reindex()\n",
    "df_exploded_2x = df_exploded_2x.reset_index()\n",
    "\n",
    "df_exploded_2x['id'] = df_exploded_2x.index\n",
    "df_exploded_2x['id'] = df_exploded_2x['id'].astype(str)\n",
    "\n",
    "# df_exploded_2a = df_exploded_2a.rename(columns={'splitted_texts_chunks_emb': 'embedding'})\n",
    "\n",
    "df_exploded_2 = df_exploded_2x.copy()"
   ]
  },
  {
   "cell_type": "code",
   "execution_count": 114,
   "id": "11f5d142-20ff-48ec-ad47-b9690b96e700",
   "metadata": {
    "tags": []
   },
   "outputs": [
    {
     "data": {
      "text/html": [
       "<div>\n",
       "<style scoped>\n",
       "    .dataframe tbody tr th:only-of-type {\n",
       "        vertical-align: middle;\n",
       "    }\n",
       "\n",
       "    .dataframe tbody tr th {\n",
       "        vertical-align: top;\n",
       "    }\n",
       "\n",
       "    .dataframe thead th {\n",
       "        text-align: right;\n",
       "    }\n",
       "</style>\n",
       "<table border=\"1\" class=\"dataframe\">\n",
       "  <thead>\n",
       "    <tr style=\"text-align: right;\">\n",
       "      <th></th>\n",
       "      <th>index</th>\n",
       "      <th>pagewise_texts</th>\n",
       "      <th>page_id</th>\n",
       "      <th>splitted_texts</th>\n",
       "      <th>splitted_texts_chunks</th>\n",
       "      <th>id</th>\n",
       "    </tr>\n",
       "  </thead>\n",
       "  <tbody>\n",
       "    <tr>\n",
       "      <th>0</th>\n",
       "      <td>0</td>\n",
       "      <td>CHAPTER ONE\\nTHE BOY WHO LIVED\\nM r. and Mrs. ...</td>\n",
       "      <td>1</td>\n",
       "      <td>CHAPTER ONE\\nTHE BOY WHO LIVED\\nM r. and Mrs. ...</td>\n",
       "      <td>CHAPTER ONE\\nTHE BOY WHO LIVED\\nM r. and Mrs. ...</td>\n",
       "      <td>0</td>\n",
       "    </tr>\n",
       "    <tr>\n",
       "      <th>1</th>\n",
       "      <td>0</td>\n",
       "      <td>CHAPTER ONE\\nTHE BOY WHO LIVED\\nM r. and Mrs. ...</td>\n",
       "      <td>1</td>\n",
       "      <td>CHAPTER ONE\\nTHE BOY WHO LIVED\\nM r. and Mrs. ...</td>\n",
       "      <td>\\nthat they were perfectly normal, thank you v...</td>\n",
       "      <td>1</td>\n",
       "    </tr>\n",
       "    <tr>\n",
       "      <th>2</th>\n",
       "      <td>0</td>\n",
       "      <td>CHAPTER ONE\\nTHE BOY WHO LIVED\\nM r. and Mrs. ...</td>\n",
       "      <td>1</td>\n",
       "      <td>CHAPTER ONE\\nTHE BOY WHO LIVED\\nM r. and Mrs. ...</td>\n",
       "      <td>involved in anything strange or mysterious, be...</td>\n",
       "      <td>2</td>\n",
       "    </tr>\n",
       "    <tr>\n",
       "      <th>3</th>\n",
       "      <td>0</td>\n",
       "      <td>CHAPTER ONE\\nTHE BOY WHO LIVED\\nM r. and Mrs. ...</td>\n",
       "      <td>1</td>\n",
       "      <td>CHAPTER ONE\\nTHE BOY WHO LIVED\\nM r. and Mrs. ...</td>\n",
       "      <td>rsley was the director of a firm called Grunni...</td>\n",
       "      <td>3</td>\n",
       "    </tr>\n",
       "    <tr>\n",
       "      <th>4</th>\n",
       "      <td>0</td>\n",
       "      <td>CHAPTER ONE\\nTHE BOY WHO LIVED\\nM r. and Mrs. ...</td>\n",
       "      <td>1</td>\n",
       "      <td>CHAPTER ONE\\nTHE BOY WHO LIVED\\nM r. and Mrs. ...</td>\n",
       "      <td>ardly any neck, although he did have a\\nvery l...</td>\n",
       "      <td>4</td>\n",
       "    </tr>\n",
       "  </tbody>\n",
       "</table>\n",
       "</div>"
      ],
      "text/plain": [
       "   index                                     pagewise_texts  page_id  \\\n",
       "0      0  CHAPTER ONE\\nTHE BOY WHO LIVED\\nM r. and Mrs. ...        1   \n",
       "1      0  CHAPTER ONE\\nTHE BOY WHO LIVED\\nM r. and Mrs. ...        1   \n",
       "2      0  CHAPTER ONE\\nTHE BOY WHO LIVED\\nM r. and Mrs. ...        1   \n",
       "3      0  CHAPTER ONE\\nTHE BOY WHO LIVED\\nM r. and Mrs. ...        1   \n",
       "4      0  CHAPTER ONE\\nTHE BOY WHO LIVED\\nM r. and Mrs. ...        1   \n",
       "\n",
       "                                      splitted_texts  \\\n",
       "0  CHAPTER ONE\\nTHE BOY WHO LIVED\\nM r. and Mrs. ...   \n",
       "1  CHAPTER ONE\\nTHE BOY WHO LIVED\\nM r. and Mrs. ...   \n",
       "2  CHAPTER ONE\\nTHE BOY WHO LIVED\\nM r. and Mrs. ...   \n",
       "3  CHAPTER ONE\\nTHE BOY WHO LIVED\\nM r. and Mrs. ...   \n",
       "4  CHAPTER ONE\\nTHE BOY WHO LIVED\\nM r. and Mrs. ...   \n",
       "\n",
       "                               splitted_texts_chunks id  \n",
       "0  CHAPTER ONE\\nTHE BOY WHO LIVED\\nM r. and Mrs. ...  0  \n",
       "1  \\nthat they were perfectly normal, thank you v...  1  \n",
       "2  involved in anything strange or mysterious, be...  2  \n",
       "3  rsley was the director of a firm called Grunni...  3  \n",
       "4  ardly any neck, although he did have a\\nvery l...  4  "
      ]
     },
     "execution_count": 114,
     "metadata": {},
     "output_type": "execute_result"
    }
   ],
   "source": [
    "df_exploded_2.head()"
   ]
  },
  {
   "cell_type": "code",
   "execution_count": 115,
   "id": "b9516ed9-2a28-4846-9228-c139c2efb6d1",
   "metadata": {
    "tags": []
   },
   "outputs": [
    {
     "name": "stdout",
     "output_type": "stream",
     "text": [
      "\u001b[31mERROR: pip's dependency resolver does not currently take into account all the packages that are installed. This behaviour is the source of the following dependency conflicts.\n",
      "langchain 0.0.354 requires langsmith<0.1.0,>=0.0.77, but you have langsmith 0.1.10 which is incompatible.\n",
      "langchain-community 0.0.8 requires langsmith<0.1.0,>=0.0.63, but you have langsmith 0.1.10 which is incompatible.\u001b[0m\u001b[31m\n",
      "\u001b[0mNote: you may need to restart the kernel to use updated packages.\n"
     ]
    }
   ],
   "source": [
    "%pip install --upgrade --quiet  langchain-core langchain-google-vertexai"
   ]
  },
  {
   "cell_type": "code",
   "execution_count": 129,
   "id": "ae3425f1-eb38-42fa-95d5-cb66774af325",
   "metadata": {
    "tags": []
   },
   "outputs": [
    {
     "name": "stderr",
     "output_type": "stream",
     "text": [
      "Model_name will become a required arg for VertexAIEmbeddings starting from Feb-01-2024. Currently the default is set to textembedding-gecko@001\n"
     ]
    }
   ],
   "source": [
    "from langchain_google_vertexai import VertexAIEmbeddings\n",
    "model_ai=\"textembedding-gecko@003\"\n",
    "\n",
    "embeddings = VertexAIEmbeddings(model=model_ai)\n",
    "\n",
    "text = \"This is a test document.\"\n",
    "\n",
    "query_result = embeddings.embed_query(text)\n",
    "# print(query_result)"
   ]
  },
  {
   "cell_type": "code",
   "execution_count": 117,
   "id": "416c2dc7-84cc-45a4-bee6-386d6dd58504",
   "metadata": {
    "tags": []
   },
   "outputs": [],
   "source": [
    "# df = pd.DataFrame({\"id\": [0], \"embedding\": [[0.03090338036417961, -0.0172298401594162]]})\n"
   ]
  },
  {
   "cell_type": "code",
   "execution_count": 118,
   "id": "383a01fd-2527-42ea-b1fb-b8b38d9488f5",
   "metadata": {
    "scrolled": true,
    "tags": []
   },
   "outputs": [],
   "source": [
    "# x=embeddings.embed_query(df_exploded_2a.loc[1, 'splitted_texts_chunks'])\n",
    "# print(x)"
   ]
  },
  {
   "cell_type": "markdown",
   "id": "26d770d2-ddc4-48a8-820b-36de3535bd7f",
   "metadata": {},
   "source": [
    "#### Convert text columns to embeddings"
   ]
  },
  {
   "cell_type": "code",
   "execution_count": 119,
   "id": "e0a28f1b-4b05-4e5d-a2a3-61c8799651c0",
   "metadata": {
    "scrolled": true,
    "tags": []
   },
   "outputs": [],
   "source": [
    "\n",
    "# for i, row in df_exploded_2a.iterrows():\n",
    "\n",
    "#     print(i, '  --  ',row['splitted_texts_chunks'])\n",
    "    \n",
    "#     emb = embeddings.embed_query(df_exploded_2a.loc[i, 'splitted_texts_chunks'])\n",
    "#     emb_val = ','.join(map(str, emb))\n",
    "#     df_exploded_2a.loc[i, 'splitted_texts_chunks_emb'] = emb_val\n",
    "    \n",
    "#     # df_exploded_2a.loc[i, 'splitted_texts_chunks_emb_list'] = emb\n",
    "\n",
    "    \n",
    "# df_exploded_2a['id'] = df_exploded_2a.index\n",
    "# df_exploded_2a = df_exploded_2a.rename(columns={'splitted_texts_chunks_emb': 'embedding'})\n"
   ]
  },
  {
   "cell_type": "code",
   "execution_count": 120,
   "id": "fd7eb354-e23f-41dc-a872-5535a5640439",
   "metadata": {
    "tags": []
   },
   "outputs": [],
   "source": [
    "# df_exploded_2a[['id','splitted_texts_chunks','embedding']].head()"
   ]
  },
  {
   "cell_type": "code",
   "execution_count": 121,
   "id": "7a3063c8-3f42-4506-9cd0-9c13c9d2be08",
   "metadata": {
    "scrolled": true,
    "tags": []
   },
   "outputs": [],
   "source": [
    "# # save id and embedding as a json file\n",
    "# df_exploded_2a['id'] = df_exploded_2a['id'].astype(str)\n",
    "\n",
    "\n",
    "# jsonl_string = df_exploded_2a[[\"id\",'splitted_texts_chunks',\"embedding\"]].to_json(orient=\"records\", lines=True)\n",
    "# with open(\"questions.json\", \"w\") as f:\n",
    "#     f.write(jsonl_string)\n",
    "\n",
    "# # show the first few lines of the json file\n",
    "# ! head -n 3 questions.json"
   ]
  },
  {
   "cell_type": "code",
   "execution_count": 122,
   "id": "8cfd8206-c9da-43a1-93ee-e07b2aa6ff79",
   "metadata": {
    "scrolled": true,
    "tags": []
   },
   "outputs": [],
   "source": [
    "# import json\n",
    "\n",
    "# # Assuming df_exploded_2a is a pandas DataFrame\n",
    "\n",
    "# # Convert the \"embedding\" column to a list of floats\n",
    "# df_exploded_2a[\"embedding\"] = df_exploded_2a[\"embedding\"].apply(lambda x: list(map(float, x.split(','))))\n",
    "\n",
    "# # Convert DataFrame to JSON with the desired format\n",
    "# jsonl_list = df_exploded_2a[[\"id\",\"embedding\"]].to_dict(orient=\"records\")\n",
    "\n",
    "# # Convert the list of dicts to the desired output format\n",
    "# output_list = [{\"id\":str(item[\"id\"]), \"embedding\":item[\"embedding\"]} for item in jsonl_list]\n",
    "\n",
    "# # Write the output to a JSON file\n",
    "# with open(\"questions.json\", \"w\") as f:\n",
    "#     for item in output_list:\n",
    "#         f.write(json.dumps(item) + \"\\n\")\n",
    "# ! head -n 3 questions.json"
   ]
  },
  {
   "cell_type": "code",
   "execution_count": 123,
   "id": "9040c845-d47a-47dd-a769-9bfcd5b1f562",
   "metadata": {
    "tags": []
   },
   "outputs": [],
   "source": [
    "# import json\n",
    "\n",
    "# # Your input JSON string\n",
    "\n",
    "# # with open(\"questions.json\", \"w\") as f:\n",
    "# #     for item in output_list:\n",
    "# #         print(item)\n",
    "# #         item_nospace = {key: value.replace(' ', '') if isinstance(value, str) else value for key, value in item.items()}\n",
    "# #         f.write(json.dumps(item_nospace) + \"\\n\")\n",
    "\n",
    "# with open(\"questions.json\", \"w\") as f:\n",
    "#     for item in output_list:\n",
    "#          embedding = item[\"embedding\"].replace(' ', '')\n",
    "#          f.write(json.dumps(question) + \"\\n\")\n",
    "\n",
    "# # print(json_string_no_spaces)\n",
    "# # # Re-encode the dictionary to a formatted JSON string\n",
    "# # formatted_json_string = json.dumps(data, separators=(',', ':'), indent=2)\n",
    "\n",
    "# # print(formatted_json_string)\n",
    "# ! head -n 3 questions.json"
   ]
  },
  {
   "cell_type": "markdown",
   "id": "7d641254-f728-4c01-ab80-81194eee1896",
   "metadata": {},
   "source": [
    "### Add embedding to the splitted texts chunk column\n",
    "### Convert the dataframe into json files required"
   ]
  },
  {
   "cell_type": "code",
   "execution_count": 124,
   "id": "ebe45160-bf12-4b23-87b4-7c644360fba3",
   "metadata": {
    "tags": []
   },
   "outputs": [],
   "source": [
    "# load the BQ Table into a Pandas Dataframe\n",
    "import pandas as pd\n",
    "from google.cloud import bigquery\n",
    "\n",
    "QUESTIONS_SIZE = df_exploded_2.shape[0] #1000\n",
    "\n",
    "bq_client = bigquery.Client(project=PROJECT_ID)\n",
    "QUERY_TEMPLATE = \"\"\"\n",
    "        SELECT distinct q.id, q.title\n",
    "        FROM (SELECT * FROM `bigquery-public-data.stackoverflow.posts_questions`\n",
    "        where Score > 0 ORDER BY View_Count desc) AS q\n",
    "        LIMIT {limit} ;\n",
    "        \"\"\"\n",
    "query = QUERY_TEMPLATE.format(limit=QUESTIONS_SIZE)\n",
    "query_job = bq_client.query(query)\n",
    "rows = query_job.result()\n",
    "# df = rows.to_dataframe()\n",
    "\n",
    "# examine the data\n",
    "# df.head()"
   ]
  },
  {
   "cell_type": "code",
   "execution_count": 125,
   "id": "ed71bdcb-c03f-4079-adfd-7fd79efbad6d",
   "metadata": {
    "tags": []
   },
   "outputs": [
    {
     "data": {
      "text/plain": [
       "343"
      ]
     },
     "execution_count": 125,
     "metadata": {},
     "output_type": "execute_result"
    }
   ],
   "source": [
    "len(df_exploded_2.splitted_texts_chunks)"
   ]
  },
  {
   "cell_type": "code",
   "execution_count": 126,
   "id": "8f5c895f-f94c-45d4-9998-749cbbea9b2b",
   "metadata": {
    "tags": []
   },
   "outputs": [
    {
     "data": {
      "text/html": [
       "<div>\n",
       "<style scoped>\n",
       "    .dataframe tbody tr th:only-of-type {\n",
       "        vertical-align: middle;\n",
       "    }\n",
       "\n",
       "    .dataframe tbody tr th {\n",
       "        vertical-align: top;\n",
       "    }\n",
       "\n",
       "    .dataframe thead th {\n",
       "        text-align: right;\n",
       "    }\n",
       "</style>\n",
       "<table border=\"1\" class=\"dataframe\">\n",
       "  <thead>\n",
       "    <tr style=\"text-align: right;\">\n",
       "      <th></th>\n",
       "      <th>index</th>\n",
       "      <th>pagewise_texts</th>\n",
       "      <th>page_id</th>\n",
       "      <th>splitted_texts</th>\n",
       "      <th>splitted_texts_chunks</th>\n",
       "      <th>id</th>\n",
       "    </tr>\n",
       "  </thead>\n",
       "  <tbody>\n",
       "    <tr>\n",
       "      <th>0</th>\n",
       "      <td>0</td>\n",
       "      <td>CHAPTER ONE\\nTHE BOY WHO LIVED\\nM r. and Mrs. ...</td>\n",
       "      <td>1</td>\n",
       "      <td>CHAPTER ONE\\nTHE BOY WHO LIVED\\nM r. and Mrs. ...</td>\n",
       "      <td>CHAPTER ONE\\nTHE BOY WHO LIVED\\nM r. and Mrs. ...</td>\n",
       "      <td>0</td>\n",
       "    </tr>\n",
       "    <tr>\n",
       "      <th>1</th>\n",
       "      <td>0</td>\n",
       "      <td>CHAPTER ONE\\nTHE BOY WHO LIVED\\nM r. and Mrs. ...</td>\n",
       "      <td>1</td>\n",
       "      <td>CHAPTER ONE\\nTHE BOY WHO LIVED\\nM r. and Mrs. ...</td>\n",
       "      <td>\\nthat they were perfectly normal, thank you v...</td>\n",
       "      <td>1</td>\n",
       "    </tr>\n",
       "    <tr>\n",
       "      <th>2</th>\n",
       "      <td>0</td>\n",
       "      <td>CHAPTER ONE\\nTHE BOY WHO LIVED\\nM r. and Mrs. ...</td>\n",
       "      <td>1</td>\n",
       "      <td>CHAPTER ONE\\nTHE BOY WHO LIVED\\nM r. and Mrs. ...</td>\n",
       "      <td>involved in anything strange or mysterious, be...</td>\n",
       "      <td>2</td>\n",
       "    </tr>\n",
       "    <tr>\n",
       "      <th>3</th>\n",
       "      <td>0</td>\n",
       "      <td>CHAPTER ONE\\nTHE BOY WHO LIVED\\nM r. and Mrs. ...</td>\n",
       "      <td>1</td>\n",
       "      <td>CHAPTER ONE\\nTHE BOY WHO LIVED\\nM r. and Mrs. ...</td>\n",
       "      <td>rsley was the director of a firm called Grunni...</td>\n",
       "      <td>3</td>\n",
       "    </tr>\n",
       "    <tr>\n",
       "      <th>4</th>\n",
       "      <td>0</td>\n",
       "      <td>CHAPTER ONE\\nTHE BOY WHO LIVED\\nM r. and Mrs. ...</td>\n",
       "      <td>1</td>\n",
       "      <td>CHAPTER ONE\\nTHE BOY WHO LIVED\\nM r. and Mrs. ...</td>\n",
       "      <td>ardly any neck, although he did have a\\nvery l...</td>\n",
       "      <td>4</td>\n",
       "    </tr>\n",
       "  </tbody>\n",
       "</table>\n",
       "</div>"
      ],
      "text/plain": [
       "   index                                     pagewise_texts  page_id  \\\n",
       "0      0  CHAPTER ONE\\nTHE BOY WHO LIVED\\nM r. and Mrs. ...        1   \n",
       "1      0  CHAPTER ONE\\nTHE BOY WHO LIVED\\nM r. and Mrs. ...        1   \n",
       "2      0  CHAPTER ONE\\nTHE BOY WHO LIVED\\nM r. and Mrs. ...        1   \n",
       "3      0  CHAPTER ONE\\nTHE BOY WHO LIVED\\nM r. and Mrs. ...        1   \n",
       "4      0  CHAPTER ONE\\nTHE BOY WHO LIVED\\nM r. and Mrs. ...        1   \n",
       "\n",
       "                                      splitted_texts  \\\n",
       "0  CHAPTER ONE\\nTHE BOY WHO LIVED\\nM r. and Mrs. ...   \n",
       "1  CHAPTER ONE\\nTHE BOY WHO LIVED\\nM r. and Mrs. ...   \n",
       "2  CHAPTER ONE\\nTHE BOY WHO LIVED\\nM r. and Mrs. ...   \n",
       "3  CHAPTER ONE\\nTHE BOY WHO LIVED\\nM r. and Mrs. ...   \n",
       "4  CHAPTER ONE\\nTHE BOY WHO LIVED\\nM r. and Mrs. ...   \n",
       "\n",
       "                               splitted_texts_chunks id  \n",
       "0  CHAPTER ONE\\nTHE BOY WHO LIVED\\nM r. and Mrs. ...  0  \n",
       "1  \\nthat they were perfectly normal, thank you v...  1  \n",
       "2  involved in anything strange or mysterious, be...  2  \n",
       "3  rsley was the director of a firm called Grunni...  3  \n",
       "4  ardly any neck, although he did have a\\nvery l...  4  "
      ]
     },
     "execution_count": 126,
     "metadata": {},
     "output_type": "execute_result"
    }
   ],
   "source": [
    "df_exploded_2.head()"
   ]
  },
  {
   "cell_type": "code",
   "execution_count": 130,
   "id": "5878bf4d-0038-482c-962f-2055db65bbb1",
   "metadata": {
    "tags": []
   },
   "outputs": [
    {
     "name": "stderr",
     "output_type": "stream",
     "text": [
      "100%|██████████| 69/69 [01:14<00:00,  1.07s/it]\n"
     ]
    },
    {
     "data": {
      "text/html": [
       "<div>\n",
       "<style scoped>\n",
       "    .dataframe tbody tr th:only-of-type {\n",
       "        vertical-align: middle;\n",
       "    }\n",
       "\n",
       "    .dataframe tbody tr th {\n",
       "        vertical-align: top;\n",
       "    }\n",
       "\n",
       "    .dataframe thead th {\n",
       "        text-align: right;\n",
       "    }\n",
       "</style>\n",
       "<table border=\"1\" class=\"dataframe\">\n",
       "  <thead>\n",
       "    <tr style=\"text-align: right;\">\n",
       "      <th></th>\n",
       "      <th>index</th>\n",
       "      <th>pagewise_texts</th>\n",
       "      <th>page_id</th>\n",
       "      <th>splitted_texts</th>\n",
       "      <th>splitted_texts_chunks</th>\n",
       "      <th>id</th>\n",
       "      <th>embedding</th>\n",
       "    </tr>\n",
       "  </thead>\n",
       "  <tbody>\n",
       "    <tr>\n",
       "      <th>0</th>\n",
       "      <td>0</td>\n",
       "      <td>CHAPTER ONE\\nTHE BOY WHO LIVED\\nM r. and Mrs. ...</td>\n",
       "      <td>1</td>\n",
       "      <td>CHAPTER ONE\\nTHE BOY WHO LIVED\\nM r. and Mrs. ...</td>\n",
       "      <td>CHAPTER ONE\\nTHE BOY WHO LIVED\\nM r. and Mrs. ...</td>\n",
       "      <td>0</td>\n",
       "      <td>[0.003317659953609109, -0.04790826886892319, -...</td>\n",
       "    </tr>\n",
       "    <tr>\n",
       "      <th>1</th>\n",
       "      <td>0</td>\n",
       "      <td>CHAPTER ONE\\nTHE BOY WHO LIVED\\nM r. and Mrs. ...</td>\n",
       "      <td>1</td>\n",
       "      <td>CHAPTER ONE\\nTHE BOY WHO LIVED\\nM r. and Mrs. ...</td>\n",
       "      <td>\\nthat they were perfectly normal, thank you v...</td>\n",
       "      <td>1</td>\n",
       "      <td>[0.013395305722951889, -0.08007742464542389, -...</td>\n",
       "    </tr>\n",
       "    <tr>\n",
       "      <th>2</th>\n",
       "      <td>0</td>\n",
       "      <td>CHAPTER ONE\\nTHE BOY WHO LIVED\\nM r. and Mrs. ...</td>\n",
       "      <td>1</td>\n",
       "      <td>CHAPTER ONE\\nTHE BOY WHO LIVED\\nM r. and Mrs. ...</td>\n",
       "      <td>involved in anything strange or mysterious, be...</td>\n",
       "      <td>2</td>\n",
       "      <td>[0.020153993740677834, -0.03600302338600159, -...</td>\n",
       "    </tr>\n",
       "    <tr>\n",
       "      <th>3</th>\n",
       "      <td>0</td>\n",
       "      <td>CHAPTER ONE\\nTHE BOY WHO LIVED\\nM r. and Mrs. ...</td>\n",
       "      <td>1</td>\n",
       "      <td>CHAPTER ONE\\nTHE BOY WHO LIVED\\nM r. and Mrs. ...</td>\n",
       "      <td>rsley was the director of a firm called Grunni...</td>\n",
       "      <td>3</td>\n",
       "      <td>[0.016535211354494095, -0.014058639295399189, ...</td>\n",
       "    </tr>\n",
       "    <tr>\n",
       "      <th>4</th>\n",
       "      <td>0</td>\n",
       "      <td>CHAPTER ONE\\nTHE BOY WHO LIVED\\nM r. and Mrs. ...</td>\n",
       "      <td>1</td>\n",
       "      <td>CHAPTER ONE\\nTHE BOY WHO LIVED\\nM r. and Mrs. ...</td>\n",
       "      <td>ardly any neck, although he did have a\\nvery l...</td>\n",
       "      <td>4</td>\n",
       "      <td>[0.008282989263534546, -0.046268247067928314, ...</td>\n",
       "    </tr>\n",
       "  </tbody>\n",
       "</table>\n",
       "</div>"
      ],
      "text/plain": [
       "   index                                     pagewise_texts  page_id  \\\n",
       "0      0  CHAPTER ONE\\nTHE BOY WHO LIVED\\nM r. and Mrs. ...        1   \n",
       "1      0  CHAPTER ONE\\nTHE BOY WHO LIVED\\nM r. and Mrs. ...        1   \n",
       "2      0  CHAPTER ONE\\nTHE BOY WHO LIVED\\nM r. and Mrs. ...        1   \n",
       "3      0  CHAPTER ONE\\nTHE BOY WHO LIVED\\nM r. and Mrs. ...        1   \n",
       "4      0  CHAPTER ONE\\nTHE BOY WHO LIVED\\nM r. and Mrs. ...        1   \n",
       "\n",
       "                                      splitted_texts  \\\n",
       "0  CHAPTER ONE\\nTHE BOY WHO LIVED\\nM r. and Mrs. ...   \n",
       "1  CHAPTER ONE\\nTHE BOY WHO LIVED\\nM r. and Mrs. ...   \n",
       "2  CHAPTER ONE\\nTHE BOY WHO LIVED\\nM r. and Mrs. ...   \n",
       "3  CHAPTER ONE\\nTHE BOY WHO LIVED\\nM r. and Mrs. ...   \n",
       "4  CHAPTER ONE\\nTHE BOY WHO LIVED\\nM r. and Mrs. ...   \n",
       "\n",
       "                               splitted_texts_chunks id  \\\n",
       "0  CHAPTER ONE\\nTHE BOY WHO LIVED\\nM r. and Mrs. ...  0   \n",
       "1  \\nthat they were perfectly normal, thank you v...  1   \n",
       "2  involved in anything strange or mysterious, be...  2   \n",
       "3  rsley was the director of a firm called Grunni...  3   \n",
       "4  ardly any neck, although he did have a\\nvery l...  4   \n",
       "\n",
       "                                           embedding  \n",
       "0  [0.003317659953609109, -0.04790826886892319, -...  \n",
       "1  [0.013395305722951889, -0.08007742464542389, -...  \n",
       "2  [0.020153993740677834, -0.03600302338600159, -...  \n",
       "3  [0.016535211354494095, -0.014058639295399189, ...  \n",
       "4  [0.008282989263534546, -0.046268247067928314, ...  "
      ]
     },
     "execution_count": 130,
     "metadata": {},
     "output_type": "execute_result"
    }
   ],
   "source": [
    "import time\n",
    "import tqdm  # to show a progress bar\n",
    "from vertexai.language_models import TextEmbeddingModel\n",
    "\n",
    "# get embeddings for a list of texts\n",
    "BATCH_SIZE = 5\n",
    "model = TextEmbeddingModel.from_pretrained(model_ai)\n",
    "\n",
    "\n",
    "def get_embeddings_wrapper(texts):\n",
    "    embs = []\n",
    "    for i in tqdm.tqdm(range(0, len(texts), BATCH_SIZE)):\n",
    "        time.sleep(1)  # to avoid the quota error\n",
    "        result = model.get_embeddings(texts[i : i + BATCH_SIZE])\n",
    "        embs = embs + [e.values for e in result]\n",
    "    return embs\n",
    "# The following code will get embedding for the question titles and add them as a new column embedding to the DataFrame. This will take a few minutes.\n",
    "\n",
    "# get embeddings for the question titles and add them as \"embedding\" column\n",
    "df = df_exploded_2.assign(embedding=get_embeddings_wrapper(list(df_exploded_2.splitted_texts_chunks)))\n",
    "df.head()"
   ]
  },
  {
   "cell_type": "code",
   "execution_count": 131,
   "id": "11f697ab-345f-4abd-8300-ba70629036f2",
   "metadata": {},
   "outputs": [],
   "source": [
    "df_exploded_2.to_csv('df_exploded_2.csv', index=False)\n"
   ]
  },
  {
   "cell_type": "code",
   "execution_count": 132,
   "id": "9ad0535b-79c3-4c62-87ad-d6031089e7b4",
   "metadata": {
    "scrolled": true,
    "tags": []
   },
   "outputs": [
    {
     "name": "stdout",
     "output_type": "stream",
     "text": [
      "{\"id\":\"0\",\"splitted_texts_chunks\":\"CHAPTER ONE\\nTHE BOY WHO LIVED\\nM r. and Mrs. Dursley, of number four, Privet Drive, were proud to say\",\"embedding\":[0.00331766,-0.0479082689,-0.0160974599,0.0116275474,0.0583026372,0.0035153672,0.010107493,-0.0088840397,0.0022986734,0.0063093845,0.0147030614,0.0444023684,0.0337760076,-0.0061602024,0.0160618052,0.0424549431,0.0199845526,0.0161699541,-0.0075055822,-0.0430095233,-0.0260914303,0.0205040853,-0.0246986803,0.0146389743,0.0188306961,-0.0562081747,0.030479867,-0.1032175571,-0.0202636141,0.020874992,-0.0294418689,0.0250715278,-0.0764802545,-0.0115942517,0.0315131135,-0.0704317316,0.0127692958,0.0468112305,-0.0004749426,0.0534682795,0.0005832114,-0.004775404,-0.0113134282,0.0188628975,-0.0156529769,0.0383772999,-0.0436384566,0.0189775527,0.0181709286,-0.0362215303,0.0535730608,0.012083495,0.0190793332,-0.0438452885,-0.0129255848,-0.0609461665,0.0359720252,-0.0106597738,-0.0882806331,0.0098421164,-0.0236698724,0.0302701108,-0.0531803966,0.0456610769,-0.0068608206,-0.0309662111,-0.0727732554,-0.0066256435,0.067423448,-0.0199602172,0.0054013473,-0.0454441607,0.0278651267,-0.0489669181,0.0168286823,-0.0877592638,-0.0275703277,0.0872786567,0.0283704661,-0.0118045872,-0.0375204794,-0.0591186285,-0.0044106883,-0.0338969491,-0.0224770717,0.0533566438,0.0041712765,-0.026646398,0.033581581,0.048100695,-0.0227891374,-0.0173326638,0.0323311239,-0.000608441,-0.0199520234,0.0236600991,-0.0097431364,-0.0031560042,-0.0081574405,0.0061353911,-0.0132874455,-0.0129136266,-0.0166155361,0.014609904,0.0563768297,0.0019438444,-0.0080551244,0.0075437301,-0.0145175504,-0.0008662913,-0.0344842374,-0.0366065092,-0.0200211518,0.0256719068,0.0324024558,0.0166952293,-0.0441247001,0.0409329012,0.0307406373,-0.0102803623,0.0018540244,0.0054932008,-0.0074386788,0.0657749102,-0.0126536982,-0.0010416614,0.0105782077,-0.0078820279,-0.0216477979,0.0227350313,-0.0006122162,-0.033642441,-0.0014929862,-0.0269174632,0.0798694491,0.0633661374,0.0263846517,0.0087984484,0.0399038196,0.0241150856,-0.0120421518,0.013458265,-0.0345517136,0.0290715415,0.0004755162,0.0607770421,0.0126940291,-0.0309525263,0.0178403296,-0.0083044525,0.0025912186,-0.0579517819,-0.0603362061,0.033610791,0.1114255562,0.0340269208,-0.0079303272,-0.0218120944,0.0037569604,-0.0224807374,0.0073602279,0.0242879223,-0.0326671116,0.0045760428,-0.0192187149,0.0603899248,0.0079108095,0.0180826876,0.0205967408,-0.0303698275,-0.0182861444,0.0242512058,-0.0003260464,-0.0207353309,-0.0315279439,-0.0741624385,0.0023254834,-0.01870244,-0.0364350975,0.0311504733,-0.0385672189,0.0133976247,0.0123068886,0.0130193867,0.0204452686,-0.004460644,0.0177815557,0.004578351,-0.0281493478,-0.0126382997,0.0230877511,-0.0347882099,0.0110789537,-0.003430974,-0.0148635572,0.0367627963,-0.0411814041,-0.0209995899,0.0246103816,-0.0743245929,-0.0493929945,0.0945353433,-0.0175670329,-0.0088767624,-0.0024133183,-0.0268220305,0.0980216116,-0.0332050212,-0.0151883159,0.0042188126,-0.081850253,0.0171237346,-0.0605213307,-0.0130008813,0.0316266268,0.0090109399,-0.0058520786,0.0518108085,0.0115124322,-0.0218283404,0.0141956015,-0.0103783468,-0.0128215468,0.0239997301,-0.0311270896,0.0313709304,0.0209419578,0.0289277341,-0.0138595859,-0.0716065541,-0.0153522622,0.0086750304,0.0199553631,-0.0664655343,0.0302035697,0.0553495511,0.0015448347,-0.0065935054,-0.0323215239,0.0265481435,-0.0819946006,0.0251469072,0.0164117217,-0.0368428566,-0.0249818265,-0.0169680566,-0.0223708395,0.0391747802,-0.0242372006,0.0313670374,0.0677536801,-0.0561959669,0.0539777651,-0.01546707,-0.0365798995,0.080983229,-0.0608022772,0.0197561495,-0.0586163849,0.0250838958,0.0719390288,0.0029589331,0.0184666272,-0.0292124506,-0.0389531478,0.0002563875,0.0434354022,-0.0726051182,-0.0397929549,0.0408999361,0.0062427898,-0.0326077677,0.0686286837,-0.0513914712,-0.034702044,0.0524069332,-0.0658849925,0.0391370654,0.0373204052,-0.060887266,0.0416991562,-0.0244996473,0.0415466614,-0.0096125193,-0.0320892222,0.0660345927,-0.0121303285,-0.0168137923,0.0286378674,-0.0034172724,-0.0385926105,-0.0295030568,0.0055326577,-0.0153198512,-0.0340620801,-0.036040999,-0.0371002108,0.0343591943,0.0435706079,0.0053154132,0.0157083124,-0.0155915786,0.0031575125,-0.039614249,-0.0204117782,0.0586863309,0.0026224107,-0.0477134138,-0.0281297937,0.0219176002,-0.0578024834,-0.0173205193,-0.0538555533,0.015772393,0.0348908491,0.0803509355,-0.0321198404,0.0317330472,-0.0258215237,0.0964297503,0.0174109805,0.098560065,0.0004014617,-0.01662107,0.018773824,-0.0029334223,-0.0200419482,0.0336193629,-0.0483116508,-0.0322455801,-0.0470485538,-0.0063093635,-0.0459271818,0.049385149,-0.0233698376,0.0441415422,-0.044746004,0.0111287776,-0.0482467562,-0.0068481732,-0.0135443499,-0.0261879377,0.0054046889,-0.0258897189,-0.0134957731,-0.021562295,0.0017222366,-0.0170785133,0.0649491325,0.0126468865,-0.0146465525,0.0520798564,-0.0870035067,0.0032289717,0.0163770635,-0.0258477367,0.0673240572,-0.0433681272,0.0100385509,-0.0144842034,-0.0333805047,0.0441344157,0.0143165849,-0.0160529297,-0.0621261261,-0.0134931356,-0.0356397815,0.0222430639,-0.0131028425,0.0309656188,0.0321884491,-0.024892047,-0.0096185431,-0.0398784019,-0.0159775671,0.0101297358,-0.0337238349,-0.0150683988,-0.0079357866,0.012992695,0.0167287681,-0.0177339353,0.0718520284,0.0280284863,0.0406589843,-0.0229958016,0.0174873136,0.0568145551,-0.0024804922,0.0381188579,0.0232446156,0.0230545569,0.0848267078,0.0296467356,0.0191006139,-0.0367805734,-0.0334902145,-0.0441753194,0.0113991462,-0.0339922793,0.0349350721,0.0061103255,0.0104562053,-0.0184558779,0.0113521451,0.0075551053,-0.0122747021,0.0175897852,-0.0038140442,-0.0111823343,0.0421463251,-0.0316050723,0.0006844487,-0.0389327183,-0.0528888255,-0.0168404318,0.0051555731,0.0045070113,-0.0017263717,0.0269965529,0.0080637215,0.0416686498,-0.0089813331,0.0132837864,0.0035818845,-0.0215343684,-0.0499389283,-0.0224162545,0.0109225474,0.0487715416,0.0470281988,0.0452405736,-0.0001594446,-0.0058151395,-0.0179882254,-0.0437755175,0.0093245097,0.0320694484,-0.0198491979,-0.0195217561,0.0115696453,-0.0348148271,0.0352826864,-0.0068166791,-0.018370999,0.0046127466,-0.0139186149,-0.0542733371,0.0572078303,-0.06982214,0.0578747056,-0.0994496346,-0.0045325593,-0.0596365146,-0.0208788496,-0.0439647734,0.0082453052,0.0592714623,-0.0287862383,-0.03996123,-0.008831772,0.012139217,-0.0102300541,-0.0861437097,-0.0108112907,-0.036056336,0.0247840788,0.0234077685,0.0457960516,0.0382341333,0.0011192543,-0.044920437,0.0104788691,0.0555746444,-0.0496570133,0.0027041095,-0.0497879423,0.0237995163,-0.016339805,-0.0921312273,-0.0328047276,-0.035889525,0.0132223172,0.017383514,0.0189141408,0.0476855822,-0.0328241996,-0.0132548846,0.0349117853,0.0223294534,-0.032001622,0.0314802118,0.012225965,-0.001549887,-0.0266598929,-0.0273298789,0.0168356113,0.0496447012,-0.0055528032,-0.0278036576,0.0208232123,-0.0097534526,-0.0435562432,-0.0176885296,0.1119077131,-0.0335283056,0.0160742793,0.059052512,0.0309657026,0.009671553,0.0125873582,0.0359817967,-0.032712359,0.0077039292,0.0697282627,0.0193025973,0.0294933878,0.030385552,0.0241428856,-0.0612609498,0.0640271381,0.0103564216,-0.065928705,0.037363831,0.0047189519,-0.0560961626,-0.0176330842,0.048449669,-0.02739642,0.0112099228,-0.0776504353,0.0956250802,-0.0573905818,0.0473683365,0.0177607108,-0.0672114044,-0.0160881653,0.0251420438,0.0699756444,0.0105373692,0.0069989432,0.0049977717,0.0258020218,0.0026229606,-0.0205829795,-0.0121946977,0.0003792809,-0.0520886853,0.0119186863,-0.047082372,-0.0317101814,-0.0548105463,0.02945018,-0.0085200174,0.0466924347,0.0457524881,-0.0155601371,0.0397010371,0.0115916105,0.0113479896,0.0536043681,-0.0271163955,0.0530868061,-0.0133203054,0.0254836809,-0.007319659,0.0095547186,0.0036639934,0.0410647802,-0.0161241572,-0.0313432962,-0.0145946648,0.0197380781,-0.0213073734,0.0469262004,-0.0061320332,-0.0135678053,-0.0280992351,-0.0504495129,-0.0314713567,0.0674222559,0.0109285889,0.0384332798,-0.0089191422,-0.0209404752,0.0394743383,-0.0164274685,-0.0262417886,0.0675305128,-0.0313221812,-0.0891174003,-0.0235059988,-0.0295814686,0.024454182,-0.0243292339,0.0222227089,0.0290581696,-0.0194579568,0.0197662059,-0.0600060374,0.009574078,-0.0635669902,-0.0004221712,-0.0309778005,-0.0106271049,0.0263430513,-0.0275168046,0.0367556363,-0.0231866818,0.0477785319,0.0015880066,-0.005258386,-0.0351662673,-0.0158770122,0.0185997225,0.0279018991,0.029711917,0.0135323675,0.0078160912,-0.0509067737,-0.0171222128,0.0105792629,-0.0106734242,-0.0235727914,0.0260129031,-0.032879401,-0.025941154,-0.026260132,0.0265125837,0.0221669488,0.0122215133,0.0788670555,-0.004558559,0.0329382531,-0.0278523453,0.0775622651,0.0028072344,-0.0160625745,0.0598214827,0.0060794032,-0.0480913967,0.0208171401,0.0180217046,0.006833062,-0.0029780683,0.0785937309,0.0426037349,-0.0491177328,-0.0209637787,0.0183078889,-0.0113493064,0.003038537,0.0404494964,0.0232921466,0.0079406761,0.0278518274,-0.066747658,-0.0390237831,0.0450307429,0.0205877163,-0.0385390744,0.0024010993,0.0193673056,-0.0013704526,0.0063136476,0.0139913289,-0.0921115205,-0.0545535013,-0.0000439284,0.0873665363,-0.1093949005,-0.0001863871,0.0679166168,-0.0261555985,0.0148078781,0.0398470759,-0.0587647706,0.0535312109,0.0125871953,0.0446247198,-0.0225376729,-0.023392966,-0.0291514024,-0.0143700438,-0.0335481502,-0.0437268242,0.0286285393,-0.0033777794,-0.0195065718,0.0040674014,-0.0338754952,-0.0246080384,-0.0189104229,0.0349857993,0.0165040828,0.0252174474,-0.0049063219,-0.0104361437,-0.0049179001,0.0588648766,0.0025091316,-0.0062798378,-0.0251240563,-0.0003058364,-0.0131050227,-0.0022172485,0.0412159488,0.0371432528,0.0076401369,0.0211957563,0.0279767439,-0.0092966827,-0.0322573856,0.0559012555,0.0516718365,-0.0246780496,0.0268938076,0.0237639435,-0.0455594398,0.0664552823,0.0246570241,0.0256158505,0.0015765221,-0.0547525994,-0.0578226335,0.0612688176,-0.0146575347,0.0118739503,0.0052785594,-0.0201902743,0.0896568894,-0.0048480327,0.0146525651,0.0139477542,-0.0609357618,0.0368267782,-0.0462725721,0.010404516,0.0113059515,-0.0170476083,-0.0630161092,0.0315604545,-0.007386182,0.03409978,0.0370043814,-0.0503019132,0.0121117076,-0.025437301,-0.0273207556,0.0451797955,-0.000806049,0.0266688,-0.0068312436,0.0146634914,0.0200039055,-0.0402465835,-0.0094188452,0.0305781215,-0.0179741289,0.0357790552,-0.0581664555,-0.0113041736,-0.0101567907,0.0463458002,0.0059211147,0.0553307161,0.0004197555,0.0040855552]}\n",
      "{\"id\":\"1\",\"splitted_texts_chunks\":\"\\nthat they were perfectly normal, thank you very much. They were the last people\\nyou\\u2019d expect to be \",\"embedding\":[0.0133953057,-0.0800774246,-0.0343230069,-0.0028898397,0.0614078566,0.0008683284,-0.0544375554,0.0059176735,0.0072370432,-0.0212540552,-0.0282786433,0.0041766106,0.0183879472,0.0131824957,0.0182195678,0.0075694919,-0.0016463439,0.0189142302,-0.0343193263,-0.0244988501,-0.0054683564,0.034993533,-0.0262809265,-0.0278686974,0.0098990714,-0.0208106227,0.0318324342,-0.0947866812,0.0021804404,0.0112718884,-0.0246507376,0.0479698479,-0.0483112894,-0.0229461603,-0.0291206818,0.0098833032,0.0323227048,0.0104415165,0.0152122546,-0.0119429436,0.0182068646,-0.0035283987,-0.0119270794,-0.0117738247,0.0484025814,-0.0285649225,0.021046171,0.0010799951,-0.0087295892,-0.0339625217,0.017932754,-0.0215192027,0.0300118141,-0.0231525339,-0.0391375944,0.0045396872,0.0172104333,0.0021102908,-0.0727683529,0.0206911415,-0.0279955361,-0.0053290017,-0.0836395547,0.0157048143,-0.0376244783,-0.0179327987,-0.0114305401,-0.0040627713,0.0573600642,-0.0752027258,-0.012074952,-0.0374722667,0.0253121555,-0.0071911202,-0.0202486608,-0.15677692,-0.0122455116,0.0676440001,0.0514383465,0.0126094036,0.0003099768,-0.0827234685,-0.050675638,-0.0121958479,-0.0752295181,0.0011798301,-0.016015185,-0.0018074507,0.0164329037,0.0473786965,-0.0196977854,0.0097031714,0.0338012762,-0.0678377748,-0.0398004428,0.0207214057,-0.0277959835,0.0215473771,0.0254817549,-0.0416077599,-0.0715200827,-0.0232391972,-0.0089345658,0.0164760575,0.0444473438,0.0133951362,-0.0080039492,0.0412854515,-0.0348000713,0.0345480554,-0.0791385993,0.0567538477,0.0018985989,-0.0653060824,-0.0095257806,0.0262138918,-0.0257356074,0.0429827645,0.0173009261,-0.0398714095,-0.0186460633,0.057755582,0.0860853642,0.0001330523,-0.0222639777,0.0149144726,-0.0261377227,0.0267382171,0.0496104695,0.0022055286,0.0032146012,-0.0237614624,0.052501481,0.0099781081,0.0547101609,0.0293847304,0.0396800898,-0.0270312279,0.0125389742,-0.0066881208,0.0229284577,0.0149355484,-0.0513508134,0.003417579,-0.0529064275,0.0293948725,0.0152483946,-0.0130993947,0.043164704,-0.0579062849,0.015707694,0.01274746,-0.0462605506,0.002447916,0.1289077848,0.0041510868,-0.0274956729,-0.0066902186,0.025526762,-0.0295426995,0.0399782993,0.0457101017,0.0157996006,0.0010172671,0.0054269806,0.0659511089,-0.0274837781,-0.010144637,0.0265011191,0.0008357461,0.0356003158,0.0358227789,-0.0690965503,-0.0393714011,-0.0159895197,-0.0520447083,0.0074772304,0.0142517798,-0.0503229164,-0.0340533778,-0.0371048972,0.0164227672,0.0209833756,-0.0516392924,-0.0472798832,-0.0491443872,0.0583460368,-0.0456748083,0.0046723308,0.0226359833,0.0416650847,-0.007958346,-0.033987686,0.0018844196,-0.029444715,0.0650084987,-0.0194536857,-0.0182265155,0.0501378439,-0.0484606028,-0.0462259948,0.0561108515,-0.0275574978,0.0169513337,-0.0044560302,-0.0245293733,0.0519807972,-0.041959174,-0.0407778807,0.0197058152,-0.0844556019,0.0163034815,-0.0743880346,0.0052898149,0.0370262824,0.0749876946,-0.0134945717,0.0186379496,-0.0101294704,0.0084914612,0.0100726392,0.0019329938,-0.0148303369,0.0511927865,-0.0141881499,0.0144619942,-0.0274788458,0.0173309594,0.0075018839,-0.0831815749,0.0181980655,0.0383171998,0.0132421488,-0.0404127315,0.0546494983,-0.0269720759,0.0021606586,0.0027626597,-0.0202675555,0.0462583713,-0.0606062673,0.0402404554,0.0280902572,0.0364891775,-0.0103485351,-0.0114432964,-0.0302585289,-0.002884927,0.0322554447,0.0350638032,0.0499320515,-0.0520562641,0.0139772585,-0.0193022769,-0.0412097797,0.0833851844,-0.0362153091,-0.0011840482,0.0071390052,-0.0125665469,0.0272599496,0.047920078,0.0389456637,-0.0285558719,-0.0277108718,-0.014249539,0.0224425159,-0.0170663763,-0.0310472883,-0.0025146317,0.0338761732,-0.0271865036,-0.0037462777,-0.0494630225,-0.0632517487,0.0181223117,-0.0008839516,0.025585698,0.0190480575,-0.0450961441,0.0135906134,0.0424560234,0.023396818,-0.0540038906,-0.0136854369,-0.021484945,-0.0723715276,0.0215452146,0.0031595356,-0.0068309107,-0.0713242367,-0.0655623227,0.0121308928,0.0019839385,-0.0328660198,-0.0184465945,-0.0189355593,-0.0131791327,-0.0146195432,-0.018988261,-0.0284842364,-0.026576262,-0.0056598764,-0.0314686783,-0.0295646973,0.0015506976,-0.0237827711,-0.0120835211,0.0413617827,0.0205362774,0.0210656915,-0.0098752435,0.0039502229,0.0194102023,0.027432451,0.0485206656,0.0011853476,0.0218584836,-0.0718170255,0.0575324669,0.011898349,0.0589336902,0.0398970954,0.0167619605,-0.0580983795,-0.0191644002,-0.042100478,0.0399636887,0.0415532328,-0.0073627927,-0.0357266776,-0.0117500043,0.0055893231,-0.0091048162,0.0108945975,0.0473582111,-0.0242700987,-0.0213795826,0.0052608303,-0.0058008428,0.068154484,-0.0017834513,-0.0031817008,-0.0127924783,0.0116939461,-0.0024789521,0.0076373499,0.0059351414,0.0428124443,0.0380039141,-0.0191576313,0.0706425309,-0.0423059128,-0.0144497752,-0.0240494367,0.0193348788,0.022117421,-0.0005675438,0.0269115418,-0.0272570811,-0.0274106879,0.0581241511,-0.0199942291,0.0507814586,-0.0419456549,0.06477198,0.0026056776,-0.0560091138,-0.0073637431,0.002482669,0.0028399443,-0.0241107978,0.0226705763,-0.0403305627,-0.0466039777,-0.0508377813,-0.0257587302,-0.0359820575,-0.0442940518,0.0214351844,0.0373762846,-0.0120342495,0.0582758486,0.034503378,0.0447259396,0.0084724175,0.0125562605,0.0374652818,-0.0337822065,0.0250013862,-0.0097844703,0.056752678,0.1239273921,0.0283159222,0.0071522924,-0.004801352,-0.0046377894,-0.0559536703,0.025618,-0.0496256091,0.0055897012,-0.0541398861,-0.0407199226,-0.0403002426,-0.0364814103,0.008847733,-0.0557987243,0.0442153439,-0.0392499566,-0.0068769064,0.0181831159,-0.0075296671,-0.0245745163,-0.0846555158,-0.0736678839,-0.0226471331,0.0167776234,-0.041200947,-0.0270190332,0.0135078998,0.001300576,0.0276450254,-0.0217665825,0.0397855602,-0.0166238174,-0.0300851781,-0.0025917108,0.0068660006,-0.0048109912,0.0482039265,0.0419456512,0.0073500369,-0.0420036875,0.0091086067,-0.021597676,-0.0276480578,-0.0030099372,0.0363366082,0.0071006464,-0.0345099568,0.0262848865,-0.0423844717,0.0278563797,-0.0393720493,-0.0238886364,-0.0191679392,-0.0341513678,-0.0633551255,0.0088290405,-0.1241686791,0.0107263569,-0.0920140967,-0.0533294231,-0.0532988422,-0.0215161946,-0.0097124428,-0.0345197991,0.0319491141,0.0120938821,0.0062248353,-0.0291698836,-0.0045543988,-0.0561998375,-0.047680553,0.0104492251,-0.026223002,0.0189669337,0.0049729389,0.0075166076,-0.0177654941,-0.0148371682,-0.0220501684,0.0375059135,0.033889927,-0.0478434563,0.0222945344,-0.0603768341,-0.0515607446,-0.006629495,-0.0577871576,-0.0669083223,-0.0218386166,-0.0375821739,0.0112447878,0.0090858685,-0.0197648816,-0.0231561158,-0.0393818542,0.0347722322,0.029142512,-0.0090628043,0.0025307331,-0.0259313807,0.0261997245,-0.0348781496,-0.04996939,-0.0047116415,0.0381423831,0.0344465189,-0.0386625454,0.0154346563,-0.0120921806,-0.0233246665,-0.0256334394,0.0839959607,-0.0683662072,0.0172997024,0.0288688354,0.0009005202,0.0387242138,-0.023795601,0.0709028989,-0.0224345848,-0.045707088,0.0329581164,-0.0105005112,-0.0161383897,0.0053960741,0.0340615176,-0.0110933091,0.065376468,-0.0164892655,-0.081331633,0.0330838412,0.0212506037,-0.0635062456,-0.0089494232,0.022478614,-0.0280352794,0.0033119079,0.0190479197,0.094996877,-0.022428019,0.0346013643,0.0019076905,-0.0443229116,-0.0039961585,0.000076694,0.0209417325,0.0130362352,0.0300805047,-0.0226510782,0.0124719627,-0.0189368725,0.0013560628,-0.0029683639,0.0426087417,-0.0480339825,0.0072470154,-0.0108695468,0.0030063512,-0.0256636217,0.057893388,0.0555323847,0.0325451531,0.0344620384,-0.0340125374,-0.01335367,-0.030839229,0.0244872309,-0.0140383523,-0.014264551,-0.0250147246,-0.0365463123,0.0379739404,0.0141157927,0.0212559458,-0.0159099419,0.0454446636,-0.028217759,0.0237450451,0.0055915816,0.015140282,-0.0073365085,0.0263247695,-0.0093886796,-0.0329528637,0.0061103161,0.0038034099,0.0118126059,0.0182869658,-0.0025865037,-0.0041004829,0.0106501319,0.0101323649,0.0482341647,-0.053499721,-0.0104120458,0.0296515767,0.015283823,-0.0148143023,0.0331823118,-0.0621067956,0.0240888558,-0.0197356343,0.0210704729,0.0121170599,-0.0029605525,0.0073266583,-0.0049854047,0.0007254646,-0.0863041356,0.04376515,-0.0702921152,0.0382486209,0.0053436607,0.0165845789,0.0145113282,-0.0513601117,0.0757220164,-0.0036791863,-0.0058210925,-0.0409549884,-0.0153470347,-0.0379987992,-0.0276668463,0.0020370444,0.036188364,-0.0116656115,-0.1067634374,-0.0213038735,-0.022762714,-0.0045789042,0.0308216568,0.0182535741,0.0236802399,-0.0237758271,-0.0446241908,0.0395476446,0.028152233,0.0176842511,0.0490399525,0.0126574254,0.00758558,-0.0707029998,0.0588384867,0.0123224128,0.0060641551,0.0183452107,-0.0176117737,-0.016086407,0.0515817851,0.0381671004,0.0074282745,0.0209518038,0.0676108822,-0.0003232008,-0.0405914225,-0.0026080746,0.015116239,-0.0151944021,-0.0298135951,0.0056509152,0.0153013915,-0.003618625,0.0221799109,-0.0218175054,-0.0407695323,0.0031188682,-0.0228929147,-0.0208462812,0.0118239317,-0.0192528609,0.0074843494,0.0135749271,-0.0310930107,-0.0458140746,-0.1009231061,-0.0423564836,0.0478159711,-0.0825316012,0.0216631796,0.0387865789,-0.0184720363,0.0162775014,0.0400018655,-0.0831070542,0.0393554717,-0.0371859595,-0.0042978954,-0.0447016135,0.0086586988,0.0141421454,-0.0688377991,-0.0441857502,0.0142815737,0.0264587253,0.0048788264,-0.0227718242,-0.0326442011,0.0354899094,0.0354839414,-0.0376432911,-0.0116876708,0.0393344611,0.038522169,-0.0086752931,-0.0155428248,0.0044407556,0.033897128,0.0096739894,-0.0068532,0.0081652608,0.0041248375,-0.0451541655,0.0119451759,0.0111820092,-0.0088433307,0.0669952258,-0.008596113,0.053818848,-0.0103364643,-0.0482427739,0.0175884273,-0.0196085162,0.0237423684,0.0097748311,-0.0186394956,-0.0863088146,0.077786006,0.0139254676,0.01539155,0.0213114489,-0.0408893563,-0.016332997,0.0361568332,-0.04797085,0.0003608014,-0.0023081005,-0.0494199619,0.034107022,-0.0374227278,-0.0572394654,0.0115449736,0.0109069999,0.0421600044,-0.048213575,0.0011896146,0.0344227031,-0.0751661584,-0.0441599488,0.0173129179,0.0168606173,0.0296894871,0.0420393199,0.0047601243,0.0446287692,-0.0410465375,-0.0429929122,0.0506437831,-0.0010722599,0.0195136294,0.0230533294,0.0722038075,0.0467726216,-0.0762670264,-0.0017244658,0.0135894427,-0.0250671562,0.0060027614,-0.0301587489,0.0307630152,-0.0774424449,0.0291805323,-0.0478722118,0.0295080282,-0.0205792692,0.0302690119]}\n",
      "{\"id\":\"2\",\"splitted_texts_chunks\":\"involved in anything strange or mysterious, because they just\\ndidn\\u2019t hold with such nonsense.\\nMr. Du\",\"embedding\":[0.0201539937,-0.0360030234,-0.0190814938,-0.0246639475,0.0125792688,0.0093755936,-0.0438366309,0.0052636252,-0.0465434939,0.0079321405,0.014348859,0.021832671,-0.0442917123,-0.0113457832,-0.0200945232,-0.0031483478,-0.0223450083,0.0109223705,-0.0152811417,-0.051655639,-0.0216963571,0.0156233879,-0.0261247884,-0.0287339799,-0.0107735461,-0.0191914029,0.0117155667,-0.0524340086,-0.0190520938,0.023064794,-0.0500524491,0.0800624564,-0.0064184926,-0.0272227116,-0.0050268006,-0.0450933687,0.0078790123,-0.0034321414,-0.0029704722,0.0383072309,0.0235120356,-0.025443919,0.0079277679,-0.0209394619,0.0179494042,0.0106422622,-0.0346587077,0.0296803191,-0.0414554775,-0.0593468137,0.0095954137,-0.0489434898,0.0661860779,-0.0050892918,-0.0501397327,-0.0491735041,0.0174523331,0.0169352852,-0.0110317944,0.0052044638,0.0341800489,-0.0432633981,-0.0473752581,0.0193859674,0.0105790151,0.0189920701,-0.0327512696,0.0605279244,0.0596396364,-0.0102899102,0.0237026177,-0.0092323991,0.0587459505,-0.0065596099,-0.0564752296,-0.0904975161,-0.0076999506,0.1036477238,0.0889773667,0.0313314386,-0.017915871,-0.0427109264,-0.0284061246,-0.0239709821,-0.0471072011,-0.0033232933,0.0058803777,0.006175328,-0.009163633,0.0464680493,-0.0084132012,0.0273898821,-0.0129413866,-0.0469441228,-0.0178954918,0.0639517829,-0.0346416011,0.0186319668,0.0048891199,-0.014731586,0.0203269906,-0.0748503432,-0.0396690294,-0.0376966558,0.0062457789,0.0124583831,-0.0174293052,-0.0119973328,-0.0508837439,0.0506397448,-0.0229150467,-0.0301595721,0.0135957459,-0.0236033183,-0.0276601724,0.0297859702,0.0193640757,0.0802287683,0.0106847053,-0.0271492079,0.0210719574,-0.009336533,0.0696102604,0.0365515985,-0.0047536907,0.0333012417,0.0331003591,0.0076968586,0.0617420748,-0.014685764,0.0078236712,-0.0465997458,0.0212430991,0.010577051,0.0333805718,0.0384762809,0.0203292873,-0.0383412167,0.0063528442,-0.0026855122,0.0187019706,0.0115160337,-0.0268499404,-0.0023519665,0.0291674715,0.0608108528,-0.0130060995,-0.034737628,0.0537016764,-0.0431930721,0.0107192565,-0.023702845,-0.0369965881,0.024710428,0.1064926237,0.0147934007,-0.0280732401,0.0056678145,0.0008567958,0.0026265143,0.0178917497,0.0444975123,0.0119559504,-0.0183188263,0.0130559318,0.0020833043,-0.0074404189,-0.0019049746,0.008255044,-0.0137195904,-0.0010420614,0.0281638298,-0.0577820167,-0.0276820585,-0.0697170869,-0.077156581,-0.010137381,-0.012806165,-0.001269948,-0.0272988155,-0.0414489508,-0.0185728576,0.0325411968,0.0155130988,0.0248204339,0.0253562201,0.0660213679,-0.0664139912,-0.0525116511,-0.009275781,0.0376017913,0.0027137087,-0.0314480811,0.0237758737,0.0181073491,0.0862504467,0.0546908826,0.0171650052,0.0319266617,-0.0549290143,-0.0174045414,0.0712937266,0.0138324117,0.0025337946,0.0039749704,-0.0187704209,0.0818728358,-0.0419268236,-0.0219848286,0.0363864899,-0.0560034439,0.0506180488,-0.070271723,0.0138512282,-0.0036704179,0.0420895815,-0.0187077671,0.0377960652,-0.0000233448,0.0142958891,0.0519273281,0.0199922808,-0.0240573846,0.0240043495,-0.0056976676,-0.0157829244,-0.002186046,0.053084705,-0.0470981933,-0.0722938925,-0.0375878811,0.0078303693,0.0056140632,-0.0309701487,0.0285947267,-0.0204322245,0.0045623402,-0.0081586968,-0.0391512476,0.0349528827,-0.0412959978,0.0505737215,0.0076352651,-0.0133816544,-0.0107125584,-0.0383736305,-0.0064689475,0.0069126049,-0.009545791,0.047214698,0.0555347726,-0.1162838414,0.0239963792,-0.0115992567,-0.0688145384,0.0215052608,-0.0555596985,-0.009100616,-0.0204236191,-0.0052079456,-0.0068031903,0.0127269542,0.0269209128,-0.0381326601,-0.0173411276,-0.0424350426,0.0613864884,-0.0257980376,0.003023338,0.0037394646,0.0055233887,0.0196270347,0.0714554638,-0.008549137,-0.0227587577,0.0931537822,-0.0215468127,0.0783417448,-0.0044021825,-0.059866529,0.0190190151,0.0218056645,0.0036303946,-0.0419981182,-0.0164828189,0.0248182286,-0.0108670108,-0.0021623874,0.0180290174,0.0130143333,-0.008650993,0.0058038663,0.0120690912,-0.0537597388,-0.0614821836,0.0063116802,-0.0286988728,0.0182697959,0.0193804409,0.0034422954,-0.0106934756,-0.0450580195,0.0320472755,-0.03464536,-0.0332109518,0.0756170303,0.0000111428,-0.0318016969,0.0137433223,0.027903825,0.0082635861,-0.0365676992,-0.0120404707,0.012662976,-0.0010574947,0.024649607,-0.0178025886,0.0769017711,-0.0025392247,0.0446877293,0.0281601418,0.0712059066,0.0343130156,-0.0258563515,-0.0359784961,0.0187754873,-0.038242843,0.033275187,0.0017938083,0.0030011097,-0.0102455961,-0.0362440422,0.0068166396,0.0109704621,-0.0144180227,0.053303849,-0.0828685984,-0.0081984522,-0.0330702811,0.0023153916,0.0648241788,-0.0258013308,-0.0176440738,-0.037040256,0.018422503,-0.0379293598,0.0025341192,-0.0010388665,0.0789806843,0.0217375495,-0.0193510707,0.0462472029,-0.0646634921,-0.016313618,0.0410853848,-0.0076032476,0.0818439648,-0.0260015298,-0.0020127986,-0.0139748361,-0.0065825689,0.0477759503,0.0034904354,0.0318865851,-0.0467751287,0.0445442311,-0.0139718624,0.0352969393,-0.0141254198,0.018082723,-0.0027792624,-0.0112996753,0.0165149886,-0.0565090813,-0.0162335467,-0.0634966269,-0.0197862219,-0.0123074045,-0.0096787969,0.0150919082,0.026213374,-0.006975675,0.0668589696,0.0372831598,0.0415568724,-0.0136305578,0.0930171683,0.0643995851,0.0252319016,0.027756989,0.007297731,0.031314183,0.0441580117,0.0249727629,0.0299893934,-0.0102980481,-0.0483019128,-0.0456681922,0.0416705422,-0.0243407898,-0.0080153979,-0.0298835188,-0.0284487251,-0.0442743897,0.0151892407,-0.0030709631,-0.0477175638,-0.0031011703,0.0031547672,0.0369837396,0.020419592,0.0407721587,0.0118152313,-0.0506416485,-0.0634704307,-0.053825248,-0.0298183672,-0.0098883621,0.001346326,0.0246925894,-0.0095621776,0.0324689262,-0.0387476683,0.0186371822,-0.0557597168,-0.0359271467,-0.0277537368,-0.0195209943,-0.0133281481,0.0438640974,0.0485458709,0.0134112341,0.0052464185,-0.0124829682,-0.0336838998,-0.0218933299,0.009941753,0.0442892648,-0.0141290212,0.0184357781,0.022511581,-0.0126513289,0.0287233405,-0.0587844811,-0.0586231984,-0.0415563844,-0.020543078,-0.0535006411,0.0332023613,-0.0945446044,-0.0189231988,-0.0899973586,-0.0297935549,-0.0683004633,-0.0145391785,-0.0059481659,-0.0151267834,0.0113834431,-0.0019827895,0.0225379597,-0.0216819942,0.0047952267,-0.0207731929,-0.0574725829,0.0255420078,0.0001260019,-0.0308309067,-0.0022951839,0.0419673286,0.0310123637,-0.0192941744,-0.0332094021,0.0184554178,0.0052337851,-0.0152301081,0.0054796189,-0.0748988092,0.0244980715,-0.0338692665,-0.0703701079,-0.0702056289,0.0137453116,0.0105582392,-0.0411240086,-0.0221567992,0.0091210157,-0.0224247202,-0.0243311096,0.0422547422,0.0319539681,-0.0360827595,0.0461879261,-0.026946513,0.0136135099,-0.058786694,-0.0134346932,-0.0230358541,0.0318842418,0.0367466621,-0.0209591538,0.0515125878,-0.0364363119,0.0087988013,-0.0393152088,0.052558884,-0.0991308466,-0.0328560323,0.0280281529,0.015306117,0.0053493013,0.0183765888,0.025246555,-0.0451143831,-0.0363607593,0.0845305175,-0.0510944203,-0.0008958876,0.0092776846,0.0225091148,-0.0290009007,0.0255536214,0.0132665066,-0.0692385361,0.0166395307,0.0221187379,-0.1109789982,-0.0183913559,0.0144622391,-0.0677769408,0.0371790789,-0.017954953,0.0534524992,-0.0481101163,0.080942139,0.0275226124,-0.0173638016,0.0270555858,0.034897726,0.0438604169,-0.0243046544,0.0533764251,-0.0025784874,0.0584452078,0.0074868095,0.01873569,-0.0058207382,0.0077138697,-0.0627473295,-0.0059247641,-0.0248352215,0.0065853675,-0.0529498085,0.0809421688,-0.0104299318,0.015826216,0.0331220031,-0.0302155297,0.0017927102,-0.0013155281,0.0708141029,0.0100870039,-0.0309525747,0.0115649002,0.0095730405,0.0205671415,-0.00743816,-0.0574772581,-0.0323957652,0.0036705786,-0.0042665019,-0.0018246803,-0.0212456491,0.0058767693,-0.0181253143,0.0466384627,-0.0211120136,-0.0031023726,-0.0319094732,-0.0031464456,-0.0001655236,0.0218008477,-0.0030576256,0.0052214535,-0.0108368443,-0.0540123656,0.0534178875,0.0285279546,0.0209506247,0.0465531684,-0.015409831,-0.0360063575,-0.0008327991,-0.0250402112,0.0079814699,-0.0004778922,0.0438808613,0.0215969179,0.0182891469,-0.0139889978,-0.0088781128,-0.0015317996,-0.0467996933,0.0016849019,-0.0439148769,0.0414795391,-0.0504341759,0.0395011529,0.0226263497,-0.0493323579,0.0529473051,-0.0460841879,-0.0260532275,0.012543153,-0.0140871014,-0.0102358125,-0.0021102903,0.0342332087,0.0512353815,-0.0139584746,-0.0601346567,0.0015909333,-0.040478915,-0.0134015707,-0.011803438,0.0515656024,-0.0325759873,-0.0528513715,-0.0169235766,0.0177427437,0.0188227668,0.0236532148,0.0678808689,0.0026158248,0.0421292856,-0.0653781816,0.0598228164,-0.0014715773,-0.011151121,0.0115505401,0.0291431677,-0.0410367399,0.0532656051,0.0376125574,-0.0120337186,-0.0195618942,0.0341573581,0.0129453102,-0.0725971162,-0.0455951393,-0.0065978528,-0.0096370354,-0.0007113655,0.0236313175,-0.0233230554,-0.0223455802,0.0105288392,0.0119551001,-0.0239448585,0.0083883144,0.0171889514,-0.0337767601,-0.0161360577,-0.0366156697,0.0236118101,-0.0044759689,-0.0241466444,-0.0533693768,-0.0554781444,-0.0024187472,0.0369927362,-0.0922783762,0.0298930276,0.0316558629,-0.0011693462,0.0117054507,0.0868492946,-0.0388035625,0.0361431018,0.0116610294,0.0651397556,-0.0519309789,0.0422517806,0.0278701596,-0.0349855646,-0.0621425994,-0.0040695206,0.0159815978,-0.0211181194,-0.016226355,-0.0096447505,-0.0022324447,0.0040288656,-0.052137021,0.039664641,0.0195420776,0.0065084891,-0.0236497819,-0.0072090444,-0.0426407978,0.0633118302,-0.0403303802,-0.0472088084,0.0199318267,0.0041539278,-0.0181462895,-0.0103459945,0.0190827399,-0.0020934935,0.0796984434,-0.0031794815,0.0646668747,-0.0272243414,-0.0390474945,0.0044825189,0.0286211185,-0.0065590916,0.0200852584,-0.0160692092,-0.0448059179,0.1169871837,0.0578269623,0.0189321768,0.0527062863,-0.0207207352,-0.0314536169,0.0293288361,0.0017156876,0.040986266,0.0000716501,-0.0428015552,0.026537694,-0.0384203829,-0.0323758014,0.0142810615,-0.0265451167,0.0506777056,-0.0384765565,-0.0031927193,-0.0344005115,-0.0467332117,-0.0447935574,-0.0365627781,0.013996793,0.0827557519,0.034440659,-0.0125554567,0.0190013945,-0.0450116023,-0.0525088832,0.0452474654,0.0022183002,0.0091586774,0.0571218468,0.0098059867,0.0400183238,-0.0498909354,-0.0179087725,-0.005014814,-0.0179659054,0.0324594006,-0.0735595301,0.0260529183,-0.0404028185,0.0404611975,0.0147355171,0.027563706,0.0102196876,0.0452791564]}\n"
     ]
    }
   ],
   "source": [
    "# save id and embedding as a json file\n",
    "jsonl_string = df[[\"id\",'splitted_texts_chunks', \"embedding\"]].to_json(orient=\"records\", lines=True)\n",
    "with open(\"questions_test.json\", \"w\") as f:\n",
    "    f.write(jsonl_string)\n",
    "\n",
    "# show the first few lines of the json file\n",
    "! head -n 3 questions_test.json"
   ]
  },
  {
   "cell_type": "code",
   "execution_count": 133,
   "id": "38f798b8-a4a1-43a5-a088-5b2ae4b2106a",
   "metadata": {
    "scrolled": true,
    "tags": []
   },
   "outputs": [
    {
     "name": "stdout",
     "output_type": "stream",
     "text": [
      "head: cannot open 'product-embs.json' for reading: No such file or directory\n"
     ]
    }
   ],
   "source": [
    "! head -n 3 product-embs.json"
   ]
  },
  {
   "cell_type": "code",
   "execution_count": 134,
   "id": "239a0689-0e4a-4a2b-b0ca-c9a757cac594",
   "metadata": {
    "scrolled": true,
    "tags": []
   },
   "outputs": [],
   "source": [
    "# # save id and embedding as a json file\n",
    "# jsonl_string = df_exploded_2a[[\"id\", \"embedding\"]].to_json(orient=\"records\", lines=True)\n",
    "# with open(\"questions.json\", \"w\") as f:\n",
    "#     f.write(jsonl_string)\n",
    "\n",
    "# # show the first few lines of the json file\n",
    "# ! head -n 3 questions.json"
   ]
  },
  {
   "cell_type": "markdown",
   "id": "29050a79-1096-4173-a2d4-4b34c4b67440",
   "metadata": {},
   "source": [
    "### Upload the Json File to matching engine"
   ]
  },
  {
   "cell_type": "code",
   "execution_count": 135,
   "id": "2895540c-bf41-43b9-af36-dcb631b04f72",
   "metadata": {
    "tags": []
   },
   "outputs": [],
   "source": [
    "# define project information\n",
    "if PROJECT_ID == \"(unset)\":\n",
    "    PROJECT_ID = \"[your-project-id]\"  # @param {type:\"string\"}\n",
    "\n",
    "# generate an unique id for this session\n",
    "from datetime import datetime\n",
    "\n",
    "UID = datetime.now().strftime(\"%m%d%H%M\")\n",
    "\n",
    "BUCKET_URI_ME=\"gs://my-project-0004-346516/matchingengine/embedding\"\n",
    "LOCATION = 'us-central1'\n",
    "\n",
    "from google.cloud import aiplatform\n",
    "\n",
    "aiplatform.init(project=PROJECT_ID, location=LOCATION)"
   ]
  },
  {
   "cell_type": "code",
   "execution_count": 136,
   "id": "aea939d8-35dd-4a12-816b-d1975c35dc90",
   "metadata": {
    "tags": []
   },
   "outputs": [
    {
     "name": "stdout",
     "output_type": "stream",
     "text": [
      "Copying file://questions_test.json [Content-Type=application/json]...\n",
      "/ [1 files][  3.4 MiB/  3.4 MiB]                                                \n",
      "Operation completed over 1 objects/3.4 MiB.                                      \n"
     ]
    }
   ],
   "source": [
    "! gsutil cp questions_test.json {BUCKET_URI_ME}\n"
   ]
  },
  {
   "cell_type": "code",
   "execution_count": null,
   "id": "b68e881f-fb55-4a09-8734-65b7e7dc6300",
   "metadata": {
    "tags": []
   },
   "outputs": [],
   "source": [
    "! gsutil ls {BUCKET_URI_ME}"
   ]
  },
  {
   "cell_type": "code",
   "execution_count": null,
   "id": "ddc5464e-f119-4d34-8caa-e86ffd9f537c",
   "metadata": {
    "scrolled": true,
    "tags": []
   },
   "outputs": [],
   "source": [
    "# create Index\n",
    "my_index = aiplatform.MatchingEngineIndex.create_tree_ah_index(\n",
    "    display_name=f\"vs-feature-index-{UID}\",\n",
    "    contents_delta_uri=BUCKET_URI_ME,\n",
    "    dimensions=768,\n",
    "    approximate_neighbors_count=10,\n",
    "    project = PROJECT_ID\n",
    ")"
   ]
  },
  {
   "cell_type": "markdown",
   "id": "0db9aeff-9934-4d6b-a937-8f80d0fee5ee",
   "metadata": {
    "tags": []
   },
   "source": [
    "#### Create Index Endpoint and deploy the Index\n",
    "To use the Index, you need to create an Index Endpoint. It works as a server instance accepting query requests for your Index.\n"
   ]
  },
  {
   "cell_type": "code",
   "execution_count": null,
   "id": "e2ca100a-4fd3-4c4b-a818-711a0b8eb9eb",
   "metadata": {
    "scrolled": true,
    "tags": []
   },
   "outputs": [],
   "source": [
    "# create IndexEndpoint\n",
    "my_index_endpoint = aiplatform.MatchingEngineIndexEndpoint.create(\n",
    "    display_name=f\"vs-feature-index-endpoint-{UID}\", public_endpoint_enabled=True\n",
    ")"
   ]
  },
  {
   "cell_type": "code",
   "execution_count": null,
   "id": "84eaccf5-ad1a-4285-b7c2-4c4680df095e",
   "metadata": {
    "scrolled": true,
    "tags": []
   },
   "outputs": [],
   "source": [
    "DEPLOYED_INDEX_ID = f\"vs_feature_deployed_{UID}\"\n",
    "# deploy the Index to the Index Endpoint\n",
    "my_index_endpoint.deploy_index(index=my_index, deployed_index_id=DEPLOYED_INDEX_ID)"
   ]
  },
  {
   "cell_type": "markdown",
   "id": "b0dc03aa-14b7-4849-915c-3e560f280adc",
   "metadata": {},
   "source": [
    "### Go to you vertex AI console and check the index is CREATED successfully "
   ]
  },
  {
   "cell_type": "markdown",
   "id": "f822311e-a7dd-430f-8d46-02278882e670",
   "metadata": {
    "tags": []
   },
   "source": [
    "### Github matching engine deployment Test"
   ]
  },
  {
   "cell_type": "code",
   "execution_count": null,
   "id": "701b892c-2859-428e-9e4f-a44df3844da5",
   "metadata": {
    "tags": []
   },
   "outputs": [],
   "source": [
    "# ! gsutil cp \"gs://github-repo/data/vs-quickstart/product-embs.json\" \"$BUCKET_URI_ME\"\n"
   ]
  },
  {
   "cell_type": "code",
   "execution_count": null,
   "id": "bbf83ccc-5aef-4681-b2fa-1a300bd8aed0",
   "metadata": {},
   "outputs": [],
   "source": [
    "# ! gsutil cp \"gs://github-repo/data/vs-quickstart/product-embs.json\" . # for query tests\n"
   ]
  },
  {
   "cell_type": "code",
   "execution_count": null,
   "id": "347ddeec-5c15-4cac-9e5a-7bcf0b56ab48",
   "metadata": {
    "scrolled": true,
    "tags": []
   },
   "outputs": [],
   "source": [
    "# # create Index\n",
    "# my_index = aiplatform.MatchingEngineIndex.create_tree_ah_index(\n",
    "#     display_name=f\"vs-test-index-{UID}\",\n",
    "#     contents_delta_uri=BUCKET_URI,\n",
    "#     dimensions=768,\n",
    "#     approximate_neighbors_count=10,\n",
    "#     project = PROJECT_ID\n",
    "# )"
   ]
  },
  {
   "cell_type": "code",
   "execution_count": null,
   "id": "a0ba2784-913a-4f48-b3df-861cf9be1efc",
   "metadata": {},
   "outputs": [],
   "source": [
    "# # create IndexEndpoint\n",
    "# my_index_endpoint = aiplatform.MatchingEngineIndexEndpoint.create(\n",
    "#     display_name=f\"vs-test-index-endpoint-{UID}\", public_endpoint_enabled=True\n",
    "# )"
   ]
  },
  {
   "cell_type": "code",
   "execution_count": null,
   "id": "ef9ff28f-ff73-48b0-bfb9-7e15694abb24",
   "metadata": {},
   "outputs": [],
   "source": [
    "!gcloud projects list"
   ]
  },
  {
   "cell_type": "markdown",
   "id": "f782af96-3168-449c-8ebd-53fb00c8bee3",
   "metadata": {
    "tags": []
   },
   "source": [
    "### Deploy instead using langchiain"
   ]
  },
  {
   "cell_type": "code",
   "execution_count": null,
   "id": "da4deae4-3ea0-4bf3-8933-e64b4c402ee2",
   "metadata": {},
   "outputs": [],
   "source": [
    "# PROJECT_ID = \"my-project-0004-346516\"\n",
    "# REGION = \"us-central1\"\n",
    "# VPC_NETWORK = \"matching-engine-vpc\"\n",
    "# PEERING_RANGE_NAME = \"ann-langchain-me-range\"  # Name for creating the VPC peering.\n",
    "# # BUCKET_URI = \"gs://<bucket_uri>\"\n",
    "# BUCKET_URI=\"gs://tianhaoz-test\"\n",
    "\n",
    "# # The number of dimensions for the tensorflow universal sentence encoder its 500\n",
    "# # If other embedder is used, the dimensions would probably need to change. for gecko its 768\n",
    "# DIMENSIONS = 768\n",
    "# DISPLAY_NAME = \"index-test-name-new\"\n",
    "# EMBEDDING_DIR = f\"{BUCKET_URI}/saurabh\"\n",
    "# DEPLOYED_INDEX_ID = \"endpoint-test-name\"\n",
    "\n",
    "# PROJECT_NUMBER = !gcloud projects list --filter=\"PROJECT_ID:'{PROJECT_ID}'\" --format='value(PROJECT_NUMBER)'\n",
    "# PROJECT_NUMBER = PROJECT_NUMBER[0]\n",
    "# VPC_NETWORK_FULL = f\"projects/{PROJECT_NUMBER}/global/networks/{VPC_NETWORK}\"\n",
    "\n",
    "# CREATE_VPC = True"
   ]
  },
  {
   "cell_type": "code",
   "execution_count": null,
   "id": "f88ca80c-0e3c-4999-8f4e-d1be21e5be14",
   "metadata": {},
   "outputs": [],
   "source": [
    "# # Remove the if condition to run the encapsulated code\n",
    "# if CREATE_VPC:\n",
    "#     # Create a VPC network\n",
    "#     ! gcloud compute networks create {VPC_NETWORK} --bgp-routing-mode=regional --subnet-mode=auto --project={PROJECT_ID}\n",
    "\n",
    "#     # Add necessary firewall rules\n",
    "#     ! gcloud compute firewall-rules create {VPC_NETWORK}-allow-icmp --network {VPC_NETWORK} --priority 65534 --project {PROJECT_ID} --allow icmp\n",
    "\n",
    "#     ! gcloud compute firewall-rules create {VPC_NETWORK}-allow-internal --network {VPC_NETWORK} --priority 65534 --project {PROJECT_ID} --allow all --source-ranges 10.128.0.0/9\n",
    "\n",
    "#     ! gcloud compute firewall-rules create {VPC_NETWORK}-allow-rdp --network {VPC_NETWORK} --priority 65534 --project {PROJECT_ID} --allow tcp:3389\n",
    "\n",
    "#     ! gcloud compute firewall-rules create {VPC_NETWORK}-allow-ssh --network {VPC_NETWORK} --priority 65534 --project {PROJECT_ID} --allow tcp:22\n",
    "\n",
    "#     # Reserve IP range\n",
    "#     ! gcloud compute addresses create {PEERING_RANGE_NAME} --global --prefix-length=16 --network={VPC_NETWORK} --purpose=VPC_PEERING --project={PROJECT_ID} --description=\"peering range\"\n",
    "\n",
    "#     # Set up peering with service networking\n",
    "#     # Your account must have the \"Compute Network Admin\" role to run the following.\n",
    "#     ! gcloud services vpc-peerings connect --service=servicenetworking.googleapis.com --network={VPC_NETWORK} --ranges={PEERING_RANGE_NAME} --project={PROJECT_ID}"
   ]
  },
  {
   "cell_type": "code",
   "execution_count": null,
   "id": "69c717a7-9ff3-4d90-8b2b-3638d001f093",
   "metadata": {},
   "outputs": [],
   "source": [
    "# my_index = aiplatform.MatchingEngineIndex.create_brute_force_index(\n",
    "#     display_name=DISPLAY_NAME,\n",
    "#     contents_delta_uri=EMBEDDING_DIR,\n",
    "#     dimensions=DIMENSIONS,\n",
    "#     # approximate_neighbors_count=150,\n",
    "#     distance_measure_type=\"DOT_PRODUCT_DISTANCE\",\n",
    "# )"
   ]
  },
  {
   "cell_type": "code",
   "execution_count": null,
   "id": "da770c38-cab7-4e6d-b2ec-19e22881cbf1",
   "metadata": {},
   "outputs": [],
   "source": [
    "# my_index = aiplatform.MatchingEngineIndex('projects/801452371447/locations/us-central1/indexes/280810871687479296')\n"
   ]
  }
 ],
 "metadata": {
  "environment": {
   "kernel": "conda-env-pytorch-pytorch",
   "name": "workbench-notebooks.m113",
   "type": "gcloud",
   "uri": "gcr.io/deeplearning-platform-release/workbench-notebooks:m113"
  },
  "kernelspec": {
   "display_name": "PyTorch 1-13 (Local)",
   "language": "python",
   "name": "conda-env-pytorch-pytorch"
  },
  "language_info": {
   "codemirror_mode": {
    "name": "ipython",
    "version": 3
   },
   "file_extension": ".py",
   "mimetype": "text/x-python",
   "name": "python",
   "nbconvert_exporter": "python",
   "pygments_lexer": "ipython3",
   "version": "3.10.13"
  }
 },
 "nbformat": 4,
 "nbformat_minor": 5
}
