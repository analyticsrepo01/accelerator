{
 "cells": [
  {
   "cell_type": "markdown",
   "id": "55806998-3ec7-410f-bf32-0e4a1a4b49b0",
   "metadata": {},
   "source": [
    "#### This Notebook use Gemini and Imagen and helps to create a simple video from those images\n",
    "\n",
    "#### Author: Saurabh Mangal (saurabhmangal@google.com)\n",
    "##### Date: 21st Feb\n",
    "##### Description: This notebook contains part 6 of lab\n",
    "\n",
    " Copyright (c) [2024] [saurabhmangal@] -- \n",
    " This notebook is licensed under the Commercial License."
   ]
  },
  {
   "cell_type": "markdown",
   "id": "c7740f57-2acb-4846-a1bb-07128b63f7cc",
   "metadata": {},
   "source": [
    "### Setup"
   ]
  },
  {
   "cell_type": "code",
   "execution_count": null,
   "id": "ae4b443e-e01d-4382-b4fd-a9c5d1289ea6",
   "metadata": {
    "scrolled": true,
    "tags": []
   },
   "outputs": [],
   "source": [
    "!pip install --upgrade google-cloud-aiplatform -q\n",
    "!sudo apt-get update \n",
    "!sudo apt-get install -y ffmpeg"
   ]
  },
  {
   "cell_type": "code",
   "execution_count": null,
   "id": "8a471d9c-a32d-4bce-ab1a-f676ff8003d5",
   "metadata": {
    "tags": []
   },
   "outputs": [],
   "source": [
    "# GCP_PROJECT= PROJECT_ID=project_id= !(gcloud config get-value core/project)\n",
    "PROJECT_IDS= !(gcloud config get-value core/project)\n",
    "PROJECT_ID = PROJECT_IDS[0]\n",
    "GCP_PROJECT = PROJECT_ID\n",
    "LOCATION = REGION = 'asia-southeast1'\n",
    "\n",
    "print(GCP_PROJECT)\n",
    "print(PROJECT_ID)\n"
   ]
  },
  {
   "cell_type": "code",
   "execution_count": null,
   "id": "d28a31b0-b687-4b93-b925-40d11a36879f",
   "metadata": {
    "tags": []
   },
   "outputs": [],
   "source": [
    "# No spaces or special characters allowed, ensure that it is unique\n",
    "import socket\n",
    "import re\n",
    "\n",
    "PREFIX = socket.gethostname()\n",
    "PREFIX = re.sub('[^A-Za-z0-9]+', '', PREFIX)\n",
    "\n",
    "GCS_BUCKET_LOCATION = \"asia-southeast1\"\n",
    "GCS_BUCKET_NAME = f\"{PROJECT_ID}-{PREFIX}\"\n",
    "GCS_BUCKET_PATH = f\"gs://{GCS_BUCKET_NAME}\"\n",
    "\n",
    "GCS_BUCKET_URI = f\"gs://{GCS_BUCKET_NAME}/videos\"\n",
    "\n",
    "# Create a Cloud Storage Bucket\n",
    "!gcloud storage buckets create $GCS_BUCKET_PATH --location=$GCS_BUCKET_LOCATION\n",
    "\n",
    "# Upload the videos located in the videos/ directory into the GCS bucket that you created\n",
    "!gsutil cp -r ./video/* $GCS_BUCKET_URI\n",
    "\n",
    "# Verify that all Videos 1 to 5 are uploaded to the GCS bucket (5 files in total)\n",
    "!gsutil ls $GCS_BUCKET_URI"
   ]
  },
  {
   "cell_type": "code",
   "execution_count": null,
   "id": "8fbb9d1e-00aa-46ff-9517-f9a121751c38",
   "metadata": {
    "tags": []
   },
   "outputs": [],
   "source": [
    "# Initialize Vertex AI\n",
    "import vertexai\n",
    "\n",
    "vertexai.init(project=PROJECT_ID, location=LOCATION)"
   ]
  },
  {
   "cell_type": "code",
   "execution_count": null,
   "id": "799d9c44-33e3-4739-bb95-91bf5a7f3351",
   "metadata": {
    "tags": []
   },
   "outputs": [],
   "source": [
    "from vertexai.preview.generative_models import (\n",
    "    GenerationConfig,\n",
    "    GenerativeModel,\n",
    "    Image,\n",
    "    Part,\n",
    ")"
   ]
  },
  {
   "cell_type": "code",
   "execution_count": null,
   "id": "9f7e92b5-9ec0-40d3-874e-bc61b4833297",
   "metadata": {
    "tags": []
   },
   "outputs": [],
   "source": [
    "multimodal_model = GenerativeModel(\"gemini-pro-vision\")\n"
   ]
  },
  {
   "cell_type": "markdown",
   "id": "e7edff55-3ffa-4294-937d-5da15947efa2",
   "metadata": {},
   "source": [
    "### Define helper functions\n"
   ]
  },
  {
   "cell_type": "code",
   "execution_count": null,
   "id": "d59dc560-d161-437b-8830-31e0dc3882b2",
   "metadata": {
    "tags": []
   },
   "outputs": [],
   "source": [
    "import http.client\n",
    "import typing\n",
    "import urllib.request\n",
    "\n",
    "import IPython.display\n",
    "from PIL import Image as PIL_Image\n",
    "from PIL import ImageOps as PIL_ImageOps\n",
    "\n",
    "\n",
    "def display_images(\n",
    "    images: typing.Iterable[Image],\n",
    "    max_width: int = 600,\n",
    "    max_height: int = 350,\n",
    ") -> None:\n",
    "    for image in images:\n",
    "        pil_image = typing.cast(PIL_Image.Image, image._pil_image)\n",
    "        if pil_image.mode != \"RGB\":\n",
    "            # RGB is supported by all Jupyter environments (e.g. RGBA is not yet)\n",
    "            pil_image = pil_image.convert(\"RGB\")\n",
    "        image_width, image_height = pil_image.size\n",
    "        if max_width < image_width or max_height < image_height:\n",
    "            # Resize to display a smaller notebook image\n",
    "            pil_image = PIL_ImageOps.contain(pil_image, (max_width, max_height))\n",
    "        IPython.display.display(pil_image)\n",
    "\n",
    "\n",
    "def get_image_bytes_from_url(image_url: str) -> bytes:\n",
    "    with urllib.request.urlopen(image_url) as response:\n",
    "        response = typing.cast(http.client.HTTPResponse, response)\n",
    "        image_bytes = response.read()\n",
    "    return image_bytes\n",
    "\n",
    "\n",
    "def load_image_from_url(image_url: str) -> Image:\n",
    "    image_bytes = get_image_bytes_from_url(image_url)\n",
    "    return Image.from_bytes(image_bytes)\n",
    "\n",
    "\n",
    "def display_content_as_image(content: str | Image | Part) -> bool:\n",
    "    if not isinstance(content, Image):\n",
    "        return False\n",
    "    display_images([content])\n",
    "    return True\n",
    "\n",
    "\n",
    "def display_content_as_video(content: str | Image | Part) -> bool:\n",
    "    if not isinstance(content, Part):\n",
    "        return False\n",
    "    part = typing.cast(Part, content)\n",
    "    file_path = part.file_data.file_uri.removeprefix(\"gs://\")\n",
    "    video_url = f\"https://storage.googleapis.com/{file_path}\"\n",
    "    IPython.display.display(IPython.display.Video(video_url, width=600))\n",
    "    return True\n",
    "\n",
    "\n",
    "def print_multimodal_prompt(contents: list[str | Image | Part]):\n",
    "    \"\"\"\n",
    "    Given contents that would be sent to Gemini,\n",
    "    output the full multimodal prompt for ease of readability.\n",
    "    \"\"\"\n",
    "    for content in contents:\n",
    "        if display_content_as_image(content):\n",
    "            continue\n",
    "        if display_content_as_video(content):\n",
    "            continue\n",
    "        print(content)"
   ]
  },
  {
   "cell_type": "markdown",
   "id": "8ffafbaf-fee3-46dd-89a4-ccc0434acc19",
   "metadata": {},
   "source": [
    "### Generating a video description\n"
   ]
  },
  {
   "cell_type": "markdown",
   "id": "3f4adf1b-f252-4880-bcdb-3228445ef593",
   "metadata": {},
   "source": [
    "Gemini \n",
    "https://cloud.google.com/vertex-ai/pricing -- $0.002 / second\n",
    "For 60 seconds -video prices- 0.12$"
   ]
  },
  {
   "cell_type": "code",
   "execution_count": null,
   "id": "fc2fe246-201e-4ec9-b414-68117d5e07f5",
   "metadata": {
    "tags": []
   },
   "outputs": [],
   "source": [
    "prompt = \"\"\"\n",
    "What is shown in this video?\n",
    "Where should I go to see it?\n",
    "What are the top 5 places in the world that look like this?\n",
    "\"\"\"\n",
    "video = Part.from_uri(\n",
    "    uri=\"gs://github-repo/img/gemini/multimodality_usecases_overview/mediterraneansea.mp4\",\n",
    "    mime_type=\"video/mp4\",\n",
    ")\n",
    "contents = [prompt, video]\n",
    "\n",
    "responses = multimodal_model.generate_content(contents, stream=True)\n",
    "\n",
    "print(\"-------Prompt--------\")\n",
    "print_multimodal_prompt(contents)\n",
    "\n",
    "print(\"\\n-------Response--------\")\n",
    "for response in responses:\n",
    "    print(response.text, end=\"\")"
   ]
  },
  {
   "cell_type": "code",
   "execution_count": null,
   "id": "209c41be-bfbe-405f-a2f2-880439e8cbc8",
   "metadata": {
    "tags": []
   },
   "outputs": [],
   "source": [
    "!gsutil ls $GCS_BUCKET_URI"
   ]
  },
  {
   "cell_type": "code",
   "execution_count": null,
   "id": "3c204834-464d-40a1-be62-420a5306e9d4",
   "metadata": {
    "tags": []
   },
   "outputs": [],
   "source": [
    "prompt = \"\"\"\n",
    "What is shown in this video?\n",
    "Where should I go to see it?\n",
    "What are the top 5 types of items that we see here?\n",
    "\"\"\"\n",
    "\n",
    "video_list = [f\"gs://{GCS_BUCKET_NAME}/videos/butterflies_1280.mp4\",\n",
    "f\"gs://{GCS_BUCKET_NAME}/videos/butterflies_960p.mp4\",\n",
    "f\"gs://{GCS_BUCKET_NAME}/videos/elefant_1280p.mp4\",\n",
    "f\"gs://{GCS_BUCKET_NAME}/videos/giraffes_1280p.mp4\",\n",
    "f\"gs://{GCS_BUCKET_NAME}/videos/seafood_1280p.mp4\"]\n",
    "\n",
    "for i in range(0, len(video_list)) :\n",
    "    print(\"\\n\\n\\nHere is the video number\",i, video_list[i])\n",
    "    video = Part.from_uri( uri=video_list[i],\n",
    "    mime_type=\"video/mp4\",)\n",
    "    contents = [prompt, video]\n",
    "    \n",
    "    responses = multimodal_model.generate_content(contents, stream=True)\n",
    "\n",
    "    print(\"-------Prompt--------\")\n",
    "    print_multimodal_prompt(contents)\n",
    "\n",
    "    print(\"\\n-------Response--------\")\n",
    "    for response in responses:\n",
    "        print(response.text, end=\"\")"
   ]
  },
  {
   "cell_type": "markdown",
   "id": "ee163594-ab76-45ad-9458-6e944354acd7",
   "metadata": {},
   "source": [
    "### Convert Images into Video"
   ]
  },
  {
   "cell_type": "code",
   "execution_count": null,
   "id": "1739ec8c-be3a-4b29-8870-86ff52d67749",
   "metadata": {},
   "outputs": [],
   "source": [
    "pip install opencv-python"
   ]
  },
  {
   "cell_type": "code",
   "execution_count": null,
   "id": "c2d86841-f13c-4eeb-9cb5-d8cb2c1f1935",
   "metadata": {
    "tags": []
   },
   "outputs": [],
   "source": [
    "import cv2\n",
    "import os\n",
    "import glob\n"
   ]
  },
  {
   "cell_type": "markdown",
   "id": "5e158b3d-1348-4662-90ae-aca51c7233a3",
   "metadata": {},
   "source": [
    "### Default way of creating videos from images"
   ]
  },
  {
   "cell_type": "code",
   "execution_count": null,
   "id": "7370e2ca-a328-4890-b275-42bda9c7e9e0",
   "metadata": {
    "tags": []
   },
   "outputs": [],
   "source": [
    "def create_video(image_folder, video_name, fps):\n",
    "    images = [img for img in os.listdir(image_folder) if img.endswith(\".jpg\") or img.endswith(\".png\")]\n",
    "    print(images)\n",
    "    images.sort()  # Ensure images are in the correct order\n",
    "    frame = cv2.imread(os.path.join(image_folder, images[0]))\n",
    "    height, width, layers = frame.shape\n",
    "\n",
    "    video = cv2.VideoWriter(video_name, 0, fps, (width, height))\n",
    "\n",
    "    for image in images:\n",
    "        video.write(cv2.imread(os.path.join(image_folder, image)))\n",
    "\n",
    "    cv2.destroyAllWindows()\n",
    "    video.release()\n",
    "    \n"
   ]
  },
  {
   "cell_type": "markdown",
   "id": "b0501908-8850-4f6d-adf1-7b8a7c9e194f",
   "metadata": {},
   "source": [
    "### Resize and create video"
   ]
  },
  {
   "cell_type": "code",
   "execution_count": null,
   "id": "accaa835-4334-4ebe-bdb2-98cc5c8f6123",
   "metadata": {},
   "outputs": [],
   "source": [
    "!pip install mediapy"
   ]
  },
  {
   "cell_type": "code",
   "execution_count": null,
   "id": "f4755d5b-252f-4b33-a444-8eaf8293a858",
   "metadata": {},
   "outputs": [],
   "source": [
    "import mediapy as media"
   ]
  },
  {
   "cell_type": "code",
   "execution_count": null,
   "id": "d3fe4492-a464-4abe-80a6-42e9d26aacd7",
   "metadata": {
    "tags": []
   },
   "outputs": [],
   "source": [
    "# # Set the desired video properties\n",
    "# fps = 1  # Frames per second\n",
    "# width = 640  # Video width\n",
    "# height = 480  # Video height\n",
    "# image_folder = './images/tiger-512/'\n",
    "\n",
    "# # Get a list of image files in the directory\n",
    "# image_files = glob.glob(os.path.join(image_folder, \"*.png\"))\n",
    "\n",
    "# # Sort the image files in ascending order\n",
    "# image_files.sort(key=os.path.getmtime)\n",
    "\n",
    "# # Resize all images to the same size\n",
    "# resized_images = []\n",
    "# for image_file in image_files:\n",
    "#     image = cv2.imread(image_file)\n",
    "#     resized_image = cv2.resize(image, (width, height))\n",
    "#     resized_images.append(resized_image)"
   ]
  },
  {
   "cell_type": "code",
   "execution_count": null,
   "id": "bf7bf962-0e41-4e48-8217-e1460c4a9a48",
   "metadata": {
    "tags": []
   },
   "outputs": [],
   "source": [
    "# print(image_files)"
   ]
  },
  {
   "cell_type": "code",
   "execution_count": null,
   "id": "7fc604fb-d7cb-4f47-b7e4-6fb9fd833d36",
   "metadata": {
    "tags": []
   },
   "outputs": [],
   "source": [
    "# # Create a video writer object\n",
    "# size = (640, 480)\n",
    "# video_name = './video/my_tiger.avi' \n",
    "\n",
    "# fourcc = cv2.VideoWriter_fourcc(*'mp4v')\n",
    "# video_writer = cv2.VideoWriter(video_name, fourcc, fps, size)\n",
    "\n",
    "# # Write the images to the video\n",
    "# for image in resized_images:\n",
    "#     video_writer.write(image)\n",
    "\n",
    "# # Release the video writer object\n",
    "# video_writer.release()\n",
    "\n",
    "# #from IPython.display import Video\n",
    "\n",
    "# #Video(video_name) \n",
    "\n",
    "# # video = media.read_video(video_name)\n",
    "# # media.show_video(video, title = \"Hello Tiger\", fps=2, width=600)"
   ]
  },
  {
   "cell_type": "markdown",
   "id": "b0120f1a-2f99-4179-92cc-f0b56b51d7f7",
   "metadata": {},
   "source": [
    "### lets use Imagen and modify one image for few things and create a few copies of that to really create a movie"
   ]
  },
  {
   "cell_type": "code",
   "execution_count": null,
   "id": "9f71acd3-716b-4b68-952a-c905c1f5058b",
   "metadata": {
    "tags": []
   },
   "outputs": [],
   "source": [
    "# from vertexai.preview.vision_models import ImageGenerationModel"
   ]
  },
  {
   "cell_type": "code",
   "execution_count": null,
   "id": "563ad2f5-b664-44c5-a337-63b0bec3a0ef",
   "metadata": {
    "tags": []
   },
   "outputs": [],
   "source": [
    "import os\n",
    "import vertexai\n",
    "from vertexai.preview.language_models import TextGenerationModel\n",
    "from vertexai.preview.generative_models import GenerativeModel, Part\n",
    "Region = f\"{LOCATION}\"\n",
    "GCP_PROJECT= PROJECT_ID=project_id= f\"{GCP_PROJECT}\"\n",
    "\n",
    "vertexai.init()\n",
    "\n",
    "def generate_pro(input_prompt):\n",
    "    model = GenerativeModel(\"gemini-pro\")\n",
    "    responses = model.generate_content(\n",
    "    input_prompt,\n",
    "    generation_config={\n",
    "        \"max_output_tokens\": 2048,\n",
    "        \"temperature\": 0.2,\n",
    "        \"top_p\": 1\n",
    "    },stream=True,)\n",
    "    \n",
    "    all_response  = []\n",
    "    \n",
    "    for response in responses:\n",
    "        all_response.append(response.text)\n",
    "    \n",
    "    # print (all_response)\n",
    "    \n",
    "    return(\" \".join(all_response))"
   ]
  },
  {
   "cell_type": "code",
   "execution_count": null,
   "id": "f7034a9d-7e6a-4572-a36b-afe621cdda7d",
   "metadata": {
    "tags": []
   },
   "outputs": [],
   "source": [
    "Google_Imagen_model = \"imagegeneration@002\" #\"imagegeneration@005\"\n",
    "from vertexai.preview.vision_models import Image, ImageGenerationModel\n",
    "\n",
    "imagen_model = ImageGenerationModel.from_pretrained(Google_Imagen_model)\n",
    "\n",
    "input_question = \"Show a picture of a white mercedes car driving on a road at night at 40km/h in Japan\"\n",
    "system_prompt = \" Convert this question to a meaningful prompt for imagen model to create a good image - in photography style\"\n",
    "\n",
    "prompt = input_question + \" \" + system_prompt\n",
    "image_prompt = generate_pro(prompt)\n",
    "\n",
    "response = imagen_model.generate_images(\n",
    "    prompt=image_prompt,\n",
    ")\n",
    "\n",
    "response.images[0].show()\n",
    "response.images[0].save(location=\"./images/tiger-modified/gen-imagen.png\")\n",
    "\n",
    "del(imagen_model )"
   ]
  },
  {
   "cell_type": "markdown",
   "id": "3c9f00b0-f2a3-47fe-8379-33a56f848ba4",
   "metadata": {},
   "source": [
    "### Image editing"
   ]
  },
  {
   "cell_type": "code",
   "execution_count": null,
   "id": "4017c021-30ff-47b1-9911-d3508b46c33f",
   "metadata": {
    "tags": []
   },
   "outputs": [],
   "source": [
    "response.images[0].save(location=\"./images/tiger-modified/gen-imagen.png\")\n",
    "\n",
    "location_img = \"./images/tiger-modified/gen-imagen.png\"\n",
    "base_img=Image.load_from_file(location=location_img)\n"
   ]
  },
  {
   "cell_type": "code",
   "execution_count": null,
   "id": "0049c87c-598d-4a55-84fe-cbf74ddadd30",
   "metadata": {
    "tags": []
   },
   "outputs": [],
   "source": [
    "model = ImageGenerationModel.from_pretrained(Google_Imagen_model)\n",
    "\n",
    "images = model.edit_image(\n",
    "  base_image=base_img,\n",
    "  prompt=\"Show the white mercedes car driving along the road at 40km/h in Japan with the sun rising higher in photography style\",\n",
    "  # negativePrompt = \"red colour\",\n",
    "  # Optional:\n",
    "  seed=10,\n",
    "  guidance_scale=20,\n",
    "  number_of_images=3\n",
    ")\n",
    "\n",
    "for i, image in enumerate(images):\n",
    "    filename = f\"edit-fire-img{i+1}.png\"  # Include index in filename\n",
    "    image.save(f\"./images/tiger-modified/{filename}\")\n",
    "\n",
    "# Optional. View the edited images in a notebook.\n",
    "# Use a loop for cleaner code\n",
    "for image in images:\n",
    "    image.show()"
   ]
  },
  {
   "cell_type": "code",
   "execution_count": null,
   "id": "583f4d62-cbf4-4573-a9d1-19a1d365c754",
   "metadata": {
    "tags": []
   },
   "outputs": [],
   "source": [
    "\n",
    "images = model.edit_image(\n",
    "  base_image=base_img,\n",
    "  prompt=\"Show the white mercedes car driving along the road at 40km/h in Japan and arriving at a beach in photography style\",\n",
    "  # negativePrompt = \"red colour\",\n",
    "  # Optional:\n",
    "  seed=0,\n",
    "  guidance_scale=21,\n",
    "  number_of_images=4\n",
    ")\n",
    "\n",
    "for i, image in enumerate(images):\n",
    "    filename = f\"edit-rainbow-img{i+1}.png\"  # Include index in filename\n",
    "    image.save(f\"./images/tiger-modified/{filename}\")\n",
    "\n",
    "# Optional. View the edited images in a notebook.\n",
    "# Use a loop for cleaner code\n",
    "for image in images:\n",
    "    image.show()"
   ]
  },
  {
   "cell_type": "code",
   "execution_count": null,
   "id": "577325a4-4fda-4ace-a71e-a2233af35d88",
   "metadata": {
    "tags": []
   },
   "outputs": [],
   "source": [
    "\n",
    "images = model.edit_image(\n",
    "  base_image=base_img,\n",
    "  prompt=\"show the same white mercedes car at the beach with the sun at the horizon in photography style\",\n",
    "  # negativePrompt = \"red colour\",\n",
    "  # Optional:\n",
    "  seed=12,\n",
    "  guidance_scale=21,\n",
    "  number_of_images=4\n",
    ")\n",
    "\n",
    "for i, image in enumerate(images):\n",
    "    filename = f\"edit-clouds-img{i+1}.png\"  # Include index in filename\n",
    "    image.save(f\"./images/tiger-modified/{filename}\")\n",
    "\n",
    "# Optional. View the edited images in a notebook.\n",
    "# Use a loop for cleaner code\n",
    "for image in images:\n",
    "    image.show()"
   ]
  },
  {
   "cell_type": "markdown",
   "id": "327a0f24-c8c1-452c-861f-09f5a2ba36cd",
   "metadata": {},
   "source": [
    "### Convert Images to Videos"
   ]
  },
  {
   "cell_type": "code",
   "execution_count": null,
   "id": "674eb870-9b1c-405d-ba12-6c19bd287b3a",
   "metadata": {},
   "outputs": [],
   "source": [
    "!pip install mediapy"
   ]
  },
  {
   "cell_type": "code",
   "execution_count": null,
   "id": "9237c7c2-ad8f-4597-9641-63221f93f2a0",
   "metadata": {},
   "outputs": [],
   "source": [
    "import mediapy as media"
   ]
  },
  {
   "cell_type": "code",
   "execution_count": null,
   "id": "9b85b626-21da-4835-9850-30f16347420e",
   "metadata": {
    "tags": []
   },
   "outputs": [],
   "source": [
    "# Set the desired video properties\n",
    "fps = 1  # Frames per second\n",
    "width = 800  # Video width\n",
    "height = 580  # Video height\n",
    "image_folder = './images/tiger-modified/'\n",
    "\n",
    "# Get a list of image files in the directory\n",
    "image_files = glob.glob(os.path.join(image_folder, \"*.png\"))\n",
    "\n",
    "# Sort the image files in ascending order\n",
    "image_files.sort(key=os.path.getmtime)\n",
    "\n",
    "# Resize all images to the same size\n",
    "resized_images = []\n",
    "for image_file in image_files:\n",
    "    image = cv2.imread(image_file)\n",
    "    resized_image = cv2.resize(image, (width, height))\n",
    "    resized_images.append(resized_image)"
   ]
  },
  {
   "cell_type": "code",
   "execution_count": null,
   "id": "965b891c-7f57-4f5b-8544-2553335383df",
   "metadata": {
    "tags": []
   },
   "outputs": [],
   "source": [
    "# Create a video writer object\n",
    "size = (width, height)\n",
    "video_name = './video/my_video_harry.mp4' \n",
    "\n",
    "fourcc = cv2.VideoWriter_fourcc(*'mp4v')\n",
    "video_writer = cv2.VideoWriter(video_name, fourcc, fps, size)\n",
    "\n",
    "# Write the images to the video\n",
    "for image in resized_images:\n",
    "    video_writer.write(image)\n",
    "\n",
    "# Release the video writer object\n",
    "video_writer.release()\n",
    "\n"
   ]
  },
  {
   "cell_type": "code",
   "execution_count": null,
   "id": "f68ae138-7fc1-4b0e-98ff-a857a2b56147",
   "metadata": {
    "tags": []
   },
   "outputs": [],
   "source": [
    "# from IPython.display import Video\n",
    "\n",
    "# Video(video_name) \n",
    "\n",
    "video = media.read_video(video_name)\n",
    "media.show_video(video, title = \"video without audio\", fps=2, width=500)"
   ]
  },
  {
   "cell_type": "code",
   "execution_count": null,
   "id": "4bb77ef8-0e05-4804-95d0-95a9843a597f",
   "metadata": {
    "tags": []
   },
   "outputs": [],
   "source": [
    "!rm -rf my_video_harry_music_v1.mp4\n",
    "!ffmpeg -i ./video/my_video_harry.mp4 -i ./video/chkpt.mp3 -c:v copy -c:a aac ./video/my_video_harry_music_v1.mp4 -y"
   ]
  },
  {
   "cell_type": "code",
   "execution_count": null,
   "id": "0d885c24-ebf2-4a5b-9c5c-a529053f9b53",
   "metadata": {
    "tags": []
   },
   "outputs": [],
   "source": [
    "video_name_with_music = \"my_video_harry_music_v1.mp4\"\n",
    "video = media.read_video('./video/my_video_harry_music_v1.mp4')\n",
    "media.show_video(video, title = \"HP\", fps=1, width=500)\n",
    "\n",
    "from IPython.display import Video\n",
    "video_name_with_music = \"./video/my_video_harry_music_v1.mp4\"\n",
    "Video(video_name_with_music) \n"
   ]
  },
  {
   "cell_type": "code",
   "execution_count": null,
   "id": "813dc652-218c-4593-a365-2415922c8e68",
   "metadata": {
    "tags": []
   },
   "outputs": [],
   "source": [
    "from IPython.display import HTML\n",
    "HTML(\"\"\"\n",
    "<div align=\"middle\">\n",
    "<video width=\"80%\" controls>\n",
    " <source src=\"./video/my_video_harry_music_v1.mp4\" type=\"video/mp4\"  \n",
    "       controls>\n",
    "</video></div>\"\"\")"
   ]
  },
  {
   "cell_type": "markdown",
   "id": "a133c571-f304-4439-b3c0-c14ec2de9b08",
   "metadata": {},
   "source": [
    "### Download the video and play it if the media player is unable to display the video with music\n",
    "#### its a quick attempt and can be improved with prompting"
   ]
  }
 ],
 "metadata": {
  "environment": {
   "kernel": "conda-env-pytorch-pytorch",
   "name": "workbench-notebooks.m118",
   "type": "gcloud",
   "uri": "us-docker.pkg.dev/deeplearning-platform-release/gcr.io/workbench-notebooks:m118"
  },
  "kernelspec": {
   "display_name": "PyTorch 1-13 (Local)",
   "language": "python",
   "name": "conda-env-pytorch-pytorch"
  },
  "language_info": {
   "codemirror_mode": {
    "name": "ipython",
    "version": 3
   },
   "file_extension": ".py",
   "mimetype": "text/x-python",
   "name": "python",
   "nbconvert_exporter": "python",
   "pygments_lexer": "ipython3",
   "version": "3.10.13"
  }
 },
 "nbformat": 4,
 "nbformat_minor": 5
}
